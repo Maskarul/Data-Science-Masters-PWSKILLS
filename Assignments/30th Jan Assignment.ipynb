{
 "cells": [
  {
   "cell_type": "markdown",
   "id": "75fc142b-073d-48cc-989b-96ee6c0f9dfe",
   "metadata": {},
   "source": [
    "## ASSIGNMENT 2"
   ]
  },
  {
   "cell_type": "markdown",
   "id": "6f58f2ed-6fe2-4467-bc2b-62c5f0fb7c3f",
   "metadata": {},
   "source": [
    "#### 1."
   ]
  },
  {
   "cell_type": "code",
   "execution_count": 2,
   "id": "9c204d93-650a-4f37-ba8e-ac421ad80370",
   "metadata": {},
   "outputs": [
    {
     "name": "stdin",
     "output_type": "stream",
     "text": [
      "Enter the percentage you got:  45\n"
     ]
    },
    {
     "name": "stdout",
     "output_type": "stream",
     "text": [
      "Your Grade is D\n"
     ]
    }
   ],
   "source": [
    "marks = int(input(\"Enter the percentage you got: \"))\n",
    "\n",
    "grade = None\n",
    "\n",
    "if marks>100: \n",
    "    print(\"Enter a Valid percentage!!!\")\n",
    "    grade = 'Invalid'\n",
    "elif marks>90: \n",
    "    grade = 'A'\n",
    "elif marks>80 and marks<=90:\n",
    "    grade = 'B'\n",
    "elif marks>=60 and marks<=80:\n",
    "    grade = 'C'\n",
    "elif marks<60:\n",
    "    grade = 'D'\n",
    "    \n",
    "print(\"Your Grade is {}\".format(grade))\n",
    "\n"
   ]
  },
  {
   "cell_type": "markdown",
   "id": "e0297d71-ad43-4c04-830f-6da1ea52a74c",
   "metadata": {},
   "source": [
    "### 2."
   ]
  },
  {
   "cell_type": "code",
   "execution_count": null,
   "id": "cd1dc862-1bb6-4b4b-87f3-5c6484ae1441",
   "metadata": {},
   "outputs": [],
   "source": [
    "bike_cost = int(input(\"how much for your bike? \"))\n",
    "\n",
    "road_tax = None\n",
    "\n",
    "if bike_cost>100000: road_tax = '15%'\n",
    "elif bike_cost >50000 and bike_cost<= 100000: road_tax = '10%'\n",
    "elif bike_cost<=50000: road_tax = '5%'\n",
    "\n",
    "print(\"You got to give {} as a road tax\".format(road_tax))"
   ]
  },
  {
   "cell_type": "markdown",
   "id": "23085c40-22ab-4f97-9055-ee727815cdd7",
   "metadata": {},
   "source": [
    "### 3."
   ]
  },
  {
   "cell_type": "code",
   "execution_count": null,
   "id": "58c2d309-6ad8-44d8-aceb-679e2252bcee",
   "metadata": {},
   "outputs": [],
   "source": [
    "city_name = input(\"Enter the name of your city: \").capitalize()\n",
    "\n",
    "monument = None\n",
    "\n",
    "if city_name == 'Delhi': monument = 'Red Fort'\n",
    "elif city_name == 'Agra': monument = 'Taj Mahal'\n",
    "elif city_name == 'Jaipur': monument = 'Jal Mahal'\n",
    "\n",
    "print(\"Visit {} nearby\".format(monument))"
   ]
  },
  {
   "cell_type": "markdown",
   "id": "a5c5c2cb-8880-4fff-80e1-6959101ee900",
   "metadata": {},
   "source": [
    "### 4."
   ]
  },
  {
   "cell_type": "code",
   "execution_count": null,
   "id": "58f9af5b-362d-4486-a7df-c545a72da525",
   "metadata": {},
   "outputs": [],
   "source": [
    "num = int(input(\"Pick a Number:\"))\n",
    "\n",
    "i = 0\n",
    "\n",
    "while num>10:\n",
    "    num = num/3\n",
    "    i = i+1\n",
    "    \n",
    "print('{} times'.format(i))\n",
    "    "
   ]
  },
  {
   "cell_type": "markdown",
   "id": "499ac54e-f116-4c13-9622-a5b5550afb74",
   "metadata": {},
   "source": [
    "### 5. When and Why to use while loop in python:\n",
    "\n",
    "#### Ans. \n",
    "         1. When the number of iteration of a block of code is not known or specified in advance. \n",
    "         2. When each execution of the block of code under an iteration(repeated execution) should be dependant on a condition. Means, everytime the condition should return TRUE before executing the block of code.  "
   ]
  },
  {
   "cell_type": "code",
   "execution_count": 5,
   "id": "6f8424b3-9589-4dd5-bb06-0801994f082b",
   "metadata": {},
   "outputs": [
    {
     "name": "stdin",
     "output_type": "stream",
     "text": [
      "How Much Money do you have?  200\n",
      "Amount you want to spend this time:  120\n"
     ]
    },
    {
     "name": "stdout",
     "output_type": "stream",
     "text": [
      "Now you have 80 after your 1th buy\n"
     ]
    },
    {
     "name": "stdin",
     "output_type": "stream",
     "text": [
      "Amount you want to spend this time:  23\n"
     ]
    },
    {
     "name": "stdout",
     "output_type": "stream",
     "text": [
      "Now you have 57 after your 2th buy\n"
     ]
    },
    {
     "name": "stdin",
     "output_type": "stream",
     "text": [
      "Amount you want to spend this time:  45\n"
     ]
    },
    {
     "name": "stdout",
     "output_type": "stream",
     "text": [
      "Now you have 12 after your 3th buy\n"
     ]
    },
    {
     "name": "stdin",
     "output_type": "stream",
     "text": [
      "Amount you want to spend this time:  67\n"
     ]
    },
    {
     "name": "stdout",
     "output_type": "stream",
     "text": [
      "You don't have that much money!!!\n"
     ]
    }
   ],
   "source": [
    "# Below is an example of use of while loop. \n",
    "\n",
    "# As we are asking for amount from the user, so it is not fixed. And, we are asking from user how much the user want\n",
    "# to spend, so the spend amount is also random. So, in this scenario we do not know many item the user can purchase\n",
    "# beforehand. So, from beforehand we do not know how many times the loop needs to execute.\n",
    "\n",
    "# Another thing is, each time the attempt of purchase given to the user only when the user have enough money to buy.\n",
    "# So, in this scenario while loop is user as the each time the base condition is checking whether the user have any money\n",
    "# left before attempting the user to purchae another time. \n",
    "\n",
    "amount = int(input(\"How Much Money do you have? \"))\n",
    "\n",
    "spend = 0\n",
    "i = 0\n",
    "\n",
    "while amount>0:\n",
    "    spend = int(input(\"Amount you want to spend this time: \"))\n",
    "    if spend>amount:\n",
    "        print(\"You don't have that much money!!!\")\n",
    "        break\n",
    "    else:\n",
    "        amount = amount - spend\n",
    "        i = i+1\n",
    "        print(\"Now you have {} after your {}th item purchase\".format(amount, i))\n",
    "    "
   ]
  },
  {
   "cell_type": "markdown",
   "id": "908ac082-f9b9-4240-8343-e9615d68172d",
   "metadata": {},
   "source": [
    "### 6. "
   ]
  },
  {
   "cell_type": "markdown",
   "id": "ae0403b5-853f-4e2d-9b1f-467e9ecfa153",
   "metadata": {},
   "source": [
    "#### Pattern 1:"
   ]
  },
  {
   "cell_type": "code",
   "execution_count": 19,
   "id": "0c4e6d17-b17a-4ff4-9ecd-fad9c35ef65e",
   "metadata": {},
   "outputs": [
    {
     "name": "stdin",
     "output_type": "stream",
     "text": [
      "Enter the Number of Rows:  3\n",
      "Enter the Number of Columns:  4\n"
     ]
    },
    {
     "name": "stdout",
     "output_type": "stream",
     "text": [
      "$$$$\n",
      "$$$$\n",
      "$$$$\n"
     ]
    }
   ],
   "source": [
    "rows = int(input(\"Enter the Number of Rows: \"))\n",
    "cols = int(input(\"Enter the Number of Columns: \"))\n",
    "\n",
    "i = j = 0\n",
    "\n",
    "while i<rows:\n",
    "    i +=1\n",
    "    while j<cols:\n",
    "        j +=1\n",
    "        print('$', end='')\n",
    "    print('')\n",
    "    j=0\n",
    "        "
   ]
  },
  {
   "cell_type": "markdown",
   "id": "d7689798-6a00-4c73-b539-1612ee4ceee1",
   "metadata": {},
   "source": [
    "#### Pattern 2:"
   ]
  },
  {
   "cell_type": "code",
   "execution_count": 26,
   "id": "8dbdfadf-e847-4821-a094-c1d8526f8f02",
   "metadata": {},
   "outputs": [
    {
     "name": "stdin",
     "output_type": "stream",
     "text": [
      "Enter the Number of Rows:  4\n"
     ]
    },
    {
     "name": "stdout",
     "output_type": "stream",
     "text": [
      "   $\n",
      "  $$\n",
      " $$$\n",
      "$$$$\n"
     ]
    }
   ],
   "source": [
    "rows = int(input(\"Enter the Number of Rows: \"))\n",
    "\n",
    "i = j = 0\n",
    "\n",
    "while i<rows:\n",
    "    i +=1\n",
    "    print(\" \"*(rows-i),end='')\n",
    "    while j<i:\n",
    "        j +=1\n",
    "        print('$', end='')\n",
    "    print('')\n",
    "    j=0"
   ]
  },
  {
   "cell_type": "markdown",
   "id": "7c14b1db-fafa-4ae9-b1c4-e090caabeabd",
   "metadata": {},
   "source": [
    "#### Pattern 3:"
   ]
  },
  {
   "cell_type": "code",
   "execution_count": 27,
   "id": "df8e94e9-cb05-4326-9712-5538a4d722b7",
   "metadata": {},
   "outputs": [
    {
     "name": "stdin",
     "output_type": "stream",
     "text": [
      "Enter the Number of Rows:  5\n"
     ]
    },
    {
     "name": "stdout",
     "output_type": "stream",
     "text": [
      "    $\n",
      "   $$$\n",
      "  $$$$$\n",
      " $$$$$$$\n",
      "$$$$$$$$$\n"
     ]
    }
   ],
   "source": [
    "rows = int(input(\"Enter the Number of Rows: \"))\n",
    "\n",
    "i = j = 0\n",
    "\n",
    "while i<rows:\n",
    "    i +=1\n",
    "    print(\" \"*(rows-i),end='')\n",
    "    n = 2*i-1\n",
    "    while j<n:\n",
    "        j +=1\n",
    "        print('$', end='')\n",
    "    print('')\n",
    "    j=0"
   ]
  },
  {
   "cell_type": "markdown",
   "id": "9acb946e-4c01-4bcf-8c32-ca59ab5eff31",
   "metadata": {},
   "source": [
    "### 7/8 :"
   ]
  },
  {
   "cell_type": "code",
   "execution_count": 33,
   "id": "82851c5c-9e00-4669-b37e-6416e548261a",
   "metadata": {},
   "outputs": [
    {
     "name": "stdout",
     "output_type": "stream",
     "text": [
      "10,9,8,7,6,5,4,3,2,1."
     ]
    }
   ],
   "source": [
    "n = 10\n",
    "i = 0\n",
    "\n",
    "while i<n:\n",
    "    if n!=1:\n",
    "        print(n,end=',')\n",
    "    else:\n",
    "        print(n,end=\".\")\n",
    "    n -=1\n"
   ]
  },
  {
   "cell_type": "code",
   "execution_count": null,
   "id": "f42c4a76-968a-476f-bdae-a6ef30198f7d",
   "metadata": {},
   "outputs": [],
   "source": []
  }
 ],
 "metadata": {
  "kernelspec": {
   "display_name": "Python 3 (ipykernel)",
   "language": "python",
   "name": "python3"
  },
  "language_info": {
   "codemirror_mode": {
    "name": "ipython",
    "version": 3
   },
   "file_extension": ".py",
   "mimetype": "text/x-python",
   "name": "python",
   "nbconvert_exporter": "python",
   "pygments_lexer": "ipython3",
   "version": "3.10.8"
  }
 },
 "nbformat": 4,
 "nbformat_minor": 5
}
