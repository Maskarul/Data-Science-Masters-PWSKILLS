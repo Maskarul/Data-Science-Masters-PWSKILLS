{
  "metadata": {
    "language_info": {
      "codemirror_mode": {
        "name": "python",
        "version": 3
      },
      "file_extension": ".py",
      "mimetype": "text/x-python",
      "name": "python",
      "nbconvert_exporter": "python",
      "pygments_lexer": "ipython3",
      "version": "3.8"
    },
    "kernelspec": {
      "name": "python",
      "display_name": "Python (Pyodide)",
      "language": "python"
    }
  },
  "nbformat_minor": 4,
  "nbformat": 4,
  "cells": [
    {
      "cell_type": "markdown",
      "source": "## Assignment Questions for 29th Jan 2023:\n\n1. <b>Who developed Python language?</b>\n> Guido van Rossum developed Python.\n\n2. <b>Which type of programming does python supports?</b>\n> Object oriented programming.\n\n3. <b>Is python case sensitive when dealing with identifiers?</b>\n> Yes, python is case sensitive.\n\n4. <b>What is the correct extension for the python file?</b>\n> \".py\" is the correct extension for a python file.\n\n5. <b>Is python code compiled or interpreted?</b>\n> Python is an interpreted language.\n\n6. <b>Name a few blocks of code used to define in python language?</b>\n> function, for loop, while loop, class are some example under which we use block of codes.\n\n7. <b>State a character used to give single-line comments in python?</b>\n> '#' is used for single line comments in python.\n\n8. <b>Mention functions which can help us find out the version of python that we are currently working on?</b>\n> \"python_version()\" function can help us find out the current working version of python.\n\n9. <b>Python supports the creation of anonymous function at runtime, using a construct called _______?</b>\n> lambda.\n\n10. <b>What does pip stands for python?</b>\n> pip stands for \"preferred installer program\".\n\n11. <b>Mention a few build-in function in python.</b>\n> int(), type(), list(), range(), input(), open().\n\n12. <b>What is the maximum possible length of an identifier in python?</b>\n> 79 characters.\n\n13. <b>What are the benefits of using python?</b>\n> Easy to learn so gives you confidence in coding very fast, a lots of build in libraries you can use to build things you want easily, gives more functionality with less coding, dynamically typed language and the large range of job opportunities.\n\n14. <b>How is memory managed in python?</b>\n> Memory management in Python involves a private heap containing all Python objects and data structures. The management of this private heap is ensured internally by the Python memory manager. The Python memory manager has different components which deal with various dynamic storage management aspects, like sharing, segmentation, preallocation or caching. - taken from \"https://bit.ly/3ZL1r8e\"\n\n\n15. <b>How to install python in windows and set path variable?</b>\n>    - Download python from \"https://www.python.org/downloads/\".\n>    - Double click on the downloaded file.\n>    - In the next page, it will ask you to Install Now. You have to click there. But before clicking it, check           the box before \"Add Python Version to PATH\" to set the path variable. This is the easiest way to set the           PATH variable.\n\n16. <b>Is indentation required in python?</b>\n> Yes, it will very imporant in python and it defines the block of code. \n",
      "metadata": {}
    },
    {
      "cell_type": "code",
      "source": "",
      "metadata": {},
      "execution_count": null,
      "outputs": []
    },
    {
      "cell_type": "code",
      "source": "",
      "metadata": {},
      "execution_count": null,
      "outputs": []
    }
  ]
}