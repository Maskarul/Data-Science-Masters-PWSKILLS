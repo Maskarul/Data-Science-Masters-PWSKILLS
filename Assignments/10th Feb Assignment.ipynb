{
 "cells": [
  {
   "cell_type": "markdown",
   "id": "3f1f9ba2-fba6-436c-a80e-2c29ef77b815",
   "metadata": {},
   "source": [
    "### Q1. Which function is used to open a file? What are the different modes of opening a file? Explain each mode of file opening.\n",
    "\n",
    "> open() function used to open a file in python.\n",
    "\n",
    "> Modes of opening a file: Read, Write, Append, Create.\n",
    "\n",
    "1. r: open an existing file for a read operation.\n",
    "2. w: open an existing file for a write operation. If the file already contains some data then it will override it and if the file is not present then it creates the new file.\n",
    "3. a:  open an existing file for append operation. It will not override existing data.\n",
    "4. r+:  To read and write data into the file. The previous data in the file will be overridden.\n",
    "5. w+: To write and read data. It will override existing data.\n",
    "6. a+: To append and read data from the file. It won’t override existing data.\n",
    "7. x: Creates a specific file. And, returns an error if the file already exists."
   ]
  },
  {
   "cell_type": "markdown",
   "id": "052f17e8-3576-4788-b487-a9ddd808f52a",
   "metadata": {},
   "source": [
    "### Q2. Why close() function is used? Why is it important to close a file?\n",
    "\n",
    "> close() function terminates all the resources in use and frees the system of this particular program. \n",
    "\n",
    "> 1. Limited number of file handles allowed by operating system by a single process. Too mnay open files might exhaused that allowed number.\n",
    "> 2. Python collects results of all the write operation in buffer and buffer be flushed into the file after the file closes. So, if we do not close the file and the system crashes then all the data in the buffer will be lost."
   ]
  },
  {
   "cell_type": "markdown",
   "id": "fe7359fe-9c37-4b8f-bf03-20faf903862d",
   "metadata": {},
   "source": [
    "### Q3. Write a python program to create a text file. Write ‘I want to become a Data Scientist’ in that file. Then close the file. Open this file and read the content of the file."
   ]
  },
  {
   "cell_type": "code",
   "execution_count": 3,
   "id": "ef8d3042-8f86-4c93-a577-92521d1215ee",
   "metadata": {},
   "outputs": [
    {
     "name": "stdout",
     "output_type": "stream",
     "text": [
      "I want to become a Data Scientist\n"
     ]
    }
   ],
   "source": [
    "with open('text1.txt', 'w') as file:\n",
    "    file.write('I want to become a Data Scientist')\n",
    "    \n",
    "with open('text1.txt', 'r') as file:\n",
    "    print(file.read(-1))"
   ]
  },
  {
   "cell_type": "markdown",
   "id": "20c1fb06-a199-4dc5-a700-7e376501beb8",
   "metadata": {},
   "source": [
    "### Q4. Explain the following with python code: read(), readline() and readlines().\n",
    "\n",
    "> 1. .read(size=-1)::\tThis reads from the file based on the number of size bytes. If no argument is passed or None or -1 is passed, then the entire file is read.\n",
    "> 2. .readline(size=-1)::  This reads at most size number of characters from the line. This continues to the end of the line and then wraps back around. If no argument is passed or None or -1 is passed, then the entire line (or rest of the line) is read.\n",
    "> 3. .readlines():: \tThis reads the remaining lines from the file object and returns them as a list."
   ]
  },
  {
   "cell_type": "code",
   "execution_count": 5,
   "id": "ee5c39b9-196d-40bb-840d-9698020846c0",
   "metadata": {},
   "outputs": [
    {
     "name": "stdout",
     "output_type": "stream",
     "text": [
      "I want to become a Data Scientist.\n",
      "I am just starting of a humble beginning.\n",
      "I learned few things already, but that will not be enough.\n",
      "I will have to put a lot ore effort than that I am putting right now.\n"
     ]
    }
   ],
   "source": [
    "# .read()\n",
    "\n",
    "with open('text1.txt', 'r') as reader:\n",
    "    print(reader.read())"
   ]
  },
  {
   "cell_type": "code",
   "execution_count": 7,
   "id": "01c1ef8c-2d6d-4027-834e-d44f42cf3907",
   "metadata": {},
   "outputs": [
    {
     "name": "stdout",
     "output_type": "stream",
     "text": [
      "1st readline() example where readline() reads one entire line:\n",
      "I want to become a Data Scientist.\n",
      "\n",
      "2nd readline() example where readline() reads first 8 byte of the line:\n",
      "I am jus\n"
     ]
    }
   ],
   "source": [
    "# .readline()\n",
    "\n",
    "with open('text1.txt', 'r') as reader:\n",
    "    print(\"1st readline() example where readline() reads one entire line:\")\n",
    "    print(reader.readline())\n",
    "    print(\"2nd readline() example where readline() reads first 8 byte of the line:\")\n",
    "    print(reader.readline(8))"
   ]
  },
  {
   "cell_type": "code",
   "execution_count": 8,
   "id": "4adb55a7-638e-455f-b3b5-75e10cc53a36",
   "metadata": {},
   "outputs": [
    {
     "name": "stdout",
     "output_type": "stream",
     "text": [
      "['I want to become a Data Scientist.\\n', 'I am just starting of a humble beginning.\\n', 'I learned few things already, but that will not be enough.\\n', 'I will have to put a lot ore effort than that I am putting right now.']\n"
     ]
    }
   ],
   "source": [
    "# .readlines()\n",
    "\n",
    "with open('text1.txt', 'r') as reader:\n",
    "    print(\"readline() retruns a list where each line of the file is an element of that list.\")\n",
    "    print(reader.readlines())\n"
   ]
  },
  {
   "cell_type": "markdown",
   "id": "0791a1fc-d438-444c-b914-4b905627e134",
   "metadata": {},
   "source": [
    "### Q5. Explain why with statement is used with open(). What is the advantage of using with statement and open() together?\n",
    "\n",
    "> The 'with' statement in Python is a quite useful tool for properly managing external resources in your programs. It allows you to take advantage of existing context managers to automatically handle the setup and teardown phases whenever you’re dealing with external resources or with operations that require those phases.\n",
    "\n",
    "> Opening files using the with statement is generally recommended because it ensures that open file descriptors are automatically closed after the flow of execution leaves the with code block."
   ]
  },
  {
   "cell_type": "markdown",
   "id": "af874f72-579a-46e3-9789-17d5595054b5",
   "metadata": {},
   "source": [
    "### Q6. Explain the write() and writelines() functions. Give a suitable example.\n",
    "\n",
    "> write() function will write the content in the file without adding any extra characters.\n",
    "\n",
    "> writelines() function writes the content of a list to a file.\n"
   ]
  },
  {
   "cell_type": "code",
   "execution_count": 9,
   "id": "cee32c33-3d5c-4a37-936e-f1ef0c11077a",
   "metadata": {},
   "outputs": [
    {
     "name": "stdin",
     "output_type": "stream",
     "text": [
      "Enter a name:  Jordan\n",
      "Enter a name:  James\n",
      "Enter a name:  Kobe\n"
     ]
    },
    {
     "name": "stdout",
     "output_type": "stream",
     "text": [
      "Jordan\n",
      "James\n",
      "Kobe\n",
      "\n"
     ]
    }
   ],
   "source": [
    "# write()\n",
    "\n",
    "with open('threenames.txt', 'w') as file:\n",
    "    for i in range(3):\n",
    "        name = input(\"Enter a name: \")\n",
    "        file.write(name + '\\n')\n",
    "        \n",
    "with open('threenames.txt') as file:\n",
    "    print(file.read())"
   ]
  },
  {
   "cell_type": "code",
   "execution_count": 7,
   "id": "02010957-5130-46af-9159-39b0ce4dbc5d",
   "metadata": {},
   "outputs": [
    {
     "name": "stdin",
     "output_type": "stream",
     "text": [
      "Enter a name:  Mbappe\n",
      "Enter a name:  Asraf Hakimi\n",
      "Enter a name:  Sadio Mane\n"
     ]
    },
    {
     "name": "stdout",
     "output_type": "stream",
     "text": [
      "Mbappe\n",
      "Asraf Hakimi\n",
      "Sadio Mane\n",
      "\n"
     ]
    }
   ],
   "source": [
    "# writelines()\n",
    "\n",
    "\n",
    "lst = []\n",
    "with open('threenames.txt', 'w') as file:\n",
    "    for i in range(3):\n",
    "        name = input(\"Enter a name: \")\n",
    "        lst.append(name + '\\n')\n",
    "    file.writelines(lst)\n",
    "\n",
    "with open('threenames.txt') as file:\n",
    "    print(file.read())\n"
   ]
  },
  {
   "cell_type": "code",
   "execution_count": null,
   "id": "b2f766e9-ab47-4b68-a860-44c72b3f99a6",
   "metadata": {},
   "outputs": [],
   "source": []
  }
 ],
 "metadata": {
  "kernelspec": {
   "display_name": "Python 3 (ipykernel)",
   "language": "python",
   "name": "python3"
  },
  "language_info": {
   "codemirror_mode": {
    "name": "ipython",
    "version": 3
   },
   "file_extension": ".py",
   "mimetype": "text/x-python",
   "name": "python",
   "nbconvert_exporter": "python",
   "pygments_lexer": "ipython3",
   "version": "3.10.8"
  }
 },
 "nbformat": 4,
 "nbformat_minor": 5
}
