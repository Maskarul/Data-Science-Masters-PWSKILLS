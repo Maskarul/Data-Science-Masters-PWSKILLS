{
 "cells": [
  {
   "cell_type": "markdown",
   "id": "664c77f2-582c-4f86-bb02-ad4788351bf7",
   "metadata": {},
   "source": [
    "### Q1. What is multiprocessing in python? Why is it useful?\n",
    "\n",
    "> Multiprocessing refers to running multiple processes simultaneously. \n",
    "\n",
    "> It is incredibly useful for speeding up your code and handling large datasets and tasks. For example, running an operation in parallel can divide a job into several smaller parts that can be processed simultaneously. Typical single processor execution, the time costs of N x M, where M is the time per single process (i.e., units of time), down to (N / C ) x M, where C is the number of CPU cores. Considering N can grow extremely large in the modern-day big data paradigm, we can reduce the time. This can be especially helpful when your computer has multiple cores or processors. \n",
    "\n",
    "> Info source: https://towardsdatascience.com/multiprocessing-in-python-9d498b1029ca"
   ]
  },
  {
   "cell_type": "markdown",
   "id": "f80b5f9b-bd2e-4ffb-bf86-4d86bf660aa8",
   "metadata": {},
   "source": [
    "### Q2. What are the differences between multiprocessing and multithreading?\n",
    "\n",
    "> 1. Multiprocessing refers to running multiple processes simultaneously. And, multithreading is  process of acheiving concurrency in executing multiple threads.\n",
    "\n",
    "> 2. Multithreading implements concurrency(Concurrent execution means that two or more tasks are progressing at the same time), Multiprocessing implements parallelism(Parallel execution implies that two or more jobs are being executed simultaneously). Processes run on separate processing nodes.\n",
    "\n",
    "> 3. <b>Multithreading for I/O intensive tasks:</b> Imagine you have a task that relies on the input from another part of the system, or from the user. There is no reason to dedicate a process for that job because it would spend most of its time waiting for the stimuli to begin its work. It would be a waste of resources to dedicate a computing node for that, and it would bring no speedup whatsoever, given that the bottleneck is not on execution but on a third-party call. In this case, multithreading is the way to go. \n",
    ">   <b>Multiprocessing for CPU intensive tasks:</b>Now imagine you got a massive amount of data loaded in memory, and it all needs to be processed. Programs that are computing-bound will benefit from multiprocessing because their bottleneck is time and resources. Image and graphics processing are an excellent example of that. They consist of vast amounts of math operations, which can often be divided into separate tasks because their data is independent. GPUs are the state-of-the-art hardware in this regard, being designed to process large chunks of data in parallel.\n",
    "\n",
    "\n",
    "Note(Source): https://towardsdatascience.com/multithreading-vs-multiprocessing-in-python-3afeb73e105f\n"
   ]
  },
  {
   "cell_type": "markdown",
   "id": "9ce1aa3c-591e-4d18-ae6d-f47d47b5f248",
   "metadata": {},
   "source": [
    "### Q4. What is a multiprocessing pool in python? Why is it used?\n",
    "\n",
    "> The multiprocessing.pool class provides a process pool in Python.\n",
    "\n",
    "> Process Pool: A process pool is a programming pattern for automatically managing a pool of worker processes.\n",
    "\n",
    "> The pool is responsible for a fixed number of processes.\n",
    ">  1. It controls when they are created, such as when they are needed.\n",
    ">  2. It also controls what they should do when they are not being used, such as making them wait without consuming computational resources.\n",
    "\n",
    "\n",
    "> A pool or a process pool is a collection of processes used to execute tasks in parallel. Pools help divide an enormous task into smaller parts that multiple processors can handle.\n",
    "\n",
    "> <b>Why we use Multiprocessing Pool:</b>\n",
    "> 1. The Pool is designed to execute heterogeneous tasks, that is tasks that do not resemble each other. For example, each task submitted to the process pool may be a different target function.\n",
    "The Process class is designed to execute homogeneous tasks. For example, if the Process class is extended, then it only supports a single task type defined by the custom class.\n",
    "> 2. The Pool class is designed to submit many ad hoc tasks at ad hoc times throughout the life of a program. The child worker processes in the pool remain active and ready to execute work until the pool is shutdown.\n",
    "The Process class is designed for a single use. This is the case regardless of using the “target” argument or extending the class. Once the Process has executed the task, the object cannot be reused and a new instance must be created.\n",
    "> 3. The multiprocessing.Pool supports multiple tasks, whereas the multiprocessing.Process class supports a single task.\n",
    "The Pool is designed to submit and execute multiple tasks. For example, the map(), imap(), and starmap() functions are explicitly designed to perform multiple function calls in parallel.\n",
    "Additionally, the map_async() and starmap_async() allow multiple tasks to be issued asynchronously, allowing the main program to continue on with other tasks while tasks are executed in parallel in the background.\n",
    "The Process class is designed for executing a single task, either via the “target” argument or by extending the class. There are no built-in tools for managing multiple concurrent tasks; instead, such tools would have to be developed on a case-by-case basis.\n",
    "\n",
    "Information Source: https://superfastpython.com/multiprocessing-pool-vs-process/"
   ]
  },
  {
   "cell_type": "markdown",
   "id": "13aea579-e2f3-400f-9cb7-dfbe3913f84e",
   "metadata": {},
   "source": [
    "### Q5. How can we create a pool of worker processes in python using the multiprocessing module?\n"
   ]
  },
  {
   "cell_type": "code",
   "execution_count": 5,
   "id": "26b4b31a-2bbe-4ac4-8bca-e070d50cb9e7",
   "metadata": {},
   "outputs": [
    {
     "name": "stdout",
     "output_type": "stream",
     "text": [
      " Process D waiting 3 seconds Process C waiting 1 seconds Process A waiting 5 seconds Process B waiting 2 seconds\n",
      "\n",
      "\n",
      "\n",
      " Process C Finished.\n",
      " Process B Finished.\n",
      " Process D Finished.\n",
      " Process A Finished.\n"
     ]
    }
   ],
   "source": [
    "# Implementation of Pool\n",
    "\n",
    "from multiprocessing import Pool\n",
    "\n",
    "import time\n",
    "\n",
    "work = ([\"A\", 5], [\"B\", 2], [\"C\", 1], [\"D\", 3])\n",
    "\n",
    "\n",
    "def work_log(work_data):\n",
    "    print(\" Process %s waiting %s seconds\" % (work_data[0], work_data[1]))\n",
    "    time.sleep(int(work_data[1]))\n",
    "    print(\" Process %s Finished.\" % work_data[0])\n",
    "\n",
    "\n",
    "def pool_handler():\n",
    "    p = Pool(4)\n",
    "    p.map(work_log, work)\n",
    "\n",
    "\n",
    "if __name__ == '__main__':\n",
    "    pool_handler()\n",
    "    \n",
    "# Source: https://towardsdatascience.com/multiprocessing-in-python-9d498b1029ca"
   ]
  },
  {
   "cell_type": "markdown",
   "id": "517fe4d2-2d2b-49bb-b6f6-f9500484b1ac",
   "metadata": {},
   "source": [
    "> <b>Little explanation of above program:</b> \n",
    "\n",
    "> 1. With the Pool set to have nworkers=4 and the list has 4 elements, which means each component is executed simultaneously. Hence, notice the print statement shows the ordering of each finishing being the same order in seconds set to sleep.\n",
    "> 2. Notice, everytime you run the prgram above, message \"Process B waiting 2 seconds Process D waiting 3 seconds Process C waiting 1 seconds Process A waiting 5 seconds\" comes differently, sometimes t starts with Process B and sometimes it starts with Process C. This is because, four process starts together to run simultaneously, and whoever gets the I/O first, prints its message first."
   ]
  },
  {
   "cell_type": "markdown",
   "id": "0f2ec0aa-c4ba-45bb-9435-0681f7269339",
   "metadata": {},
   "source": [
    "### Q6. Write a python program to create 4 processes, each process should print a different number using the multiprocessing module in python."
   ]
  },
  {
   "cell_type": "code",
   "execution_count": 10,
   "id": "869ec167-ae17-4566-9c7c-5da44229c067",
   "metadata": {},
   "outputs": [
    {
     "name": "stdout",
     "output_type": "stream",
     "text": [
      "The random number by Process 4 is 0.3015134549576518\n",
      "Process 4 is done\n",
      "The random number by Process 2 is 0.3430394538048197\n",
      "Process 2 is done\n",
      "The random number by Process 1 is 0.6062133293787306\n",
      "Process 1 is done\n",
      "The random number by Process 3 is 0.7045412099883995\n",
      "Process 3 is done\n",
      "Program finished in 0.728 seconds\n"
     ]
    }
   ],
   "source": [
    "import multiprocessing\n",
    "import time\n",
    "import random\n",
    "\n",
    "def show_random_num(ppp, rrr):\n",
    "    time.sleep(rrr)\n",
    "    print(f'The random number by Process {ppp} is {rrr}')\n",
    "    print(f'Process {ppp} is done')\n",
    "\n",
    "\n",
    "if __name__ == \"__main__\":\n",
    "    start_time = time.perf_counter()\n",
    "    processes = []\n",
    "\n",
    "    # Creates 10 processes then starts them\n",
    "    for i in [1,2,3,4]:\n",
    "        p = multiprocessing.Process(target=show_random_num, args=(i, random.random()))\n",
    "        p.start()\n",
    "        processes.append(p)\n",
    "\n",
    "    # Joins all the processes\n",
    "    for p in processes:\n",
    "        p.join()\n",
    "\n",
    "    finish_time = time.perf_counter()\n",
    "\n",
    "    print(f\"Program finished in {finish_time - start_time:.3f} seconds\")"
   ]
  }
 ],
 "metadata": {
  "kernelspec": {
   "display_name": "Python 3 (ipykernel)",
   "language": "python",
   "name": "python3"
  },
  "language_info": {
   "codemirror_mode": {
    "name": "ipython",
    "version": 3
   },
   "file_extension": ".py",
   "mimetype": "text/x-python",
   "name": "python",
   "nbconvert_exporter": "python",
   "pygments_lexer": "ipython3",
   "version": "3.10.8"
  }
 },
 "nbformat": 4,
 "nbformat_minor": 5
}
