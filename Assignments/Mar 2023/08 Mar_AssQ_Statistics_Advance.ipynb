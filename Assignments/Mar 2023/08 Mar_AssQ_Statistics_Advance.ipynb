{
 "cells": [
  {
   "cell_type": "markdown",
   "id": "2ad19b1c-67dc-45cc-a1a4-9cce565b8ac4",
   "metadata": {},
   "source": [
    "### Q1. What is the Probability density function?\n",
    "\n",
    "A probability density function describes a probability distribution for a random, continuous variable. Use a probability density function to find the chances that the value of a random variable will occur within a range of values that you specify. For example, what are the chances that the next IQ score you measure will fall between 120 and 140? \n",
    "\n",
    "So, PDF is a Probability Distribution, but for Continuous Random Variable.\n",
    "\n",
    "PMF(Probability Mass Function) is a Probability Distribution, but for Discrete random Variable.\n",
    "\n",
    "Note:\n",
    "A random variable is called discrete if it has either a finite or a countable number of possible values. A random variable\n",
    "is called continuous if its possible values contain a whole interval of numbers."
   ]
  },
  {
   "cell_type": "markdown",
   "id": "017a8b55-3f88-44f5-a1f9-4df25658a5c1",
   "metadata": {},
   "source": [
    "### Q2. What are the types of Probability distribution?\n",
    "\n",
    "Statisticians divide probability distributions into the following types:\n",
    "\n",
    "* Discrete Probability Distributions\n",
    "* Continuous Probability Distributions\n",
    "\n",
    "\n",
    "\n",
    "Note: A probability distribution is a list of outcomes and their associated probabilities. A function that represents a discrete probability distribution is called a probability mass function. A function that represents a continuous probability distribution is called a probability density function. "
   ]
  },
  {
   "cell_type": "markdown",
   "id": "3b6f3505-83fc-4c16-8b95-86c39094afc5",
   "metadata": {},
   "source": [
    "### Q3. Write a Python function to calculate the probability density function of a normal distribution with given mean and standard deviation at a given point.\n",
    "\n"
   ]
  },
  {
   "cell_type": "code",
   "execution_count": 4,
   "id": "b607fe9f-2f21-4305-8040-3be893dfb740",
   "metadata": {},
   "outputs": [
    {
     "name": "stdout",
     "output_type": "stream",
     "text": [
      "Dataset: [-5. -4. -3. -2. -1.  0.  1.  2.  3.  4.  5.]\n",
      "0.0804410163156249\n"
     ]
    }
   ],
   "source": [
    "from scipy.stats import norm\n",
    "import numpy as np\n",
    "\n",
    "data_start = -5\n",
    "data_end = 5\n",
    "data_points = 11\n",
    "data = np.linspace(data_start, data_end, data_points)\n",
    "\n",
    "print(\"Dataset:\",data)\n",
    "\n",
    "mean = np.mean(data)\n",
    "std = np.std(data)\n",
    "\n",
    "probability_pdf = norm.pdf(3, loc=mean, scale=std)\n",
    "print(probability_pdf)\n"
   ]
  },
  {
   "cell_type": "markdown",
   "id": "52657ff4-a826-484f-9d33-fd16c93d7158",
   "metadata": {},
   "source": [
    "### Q4. What are the properties of Binomial distribution? Give two examples of events where binomial distribution can be applied.\n",
    "\n",
    "\n",
    "<b>The Property of Binomial Distribution</b>:\n",
    "\n",
    "* It is the probability distribution that is discrete and \n",
    "* It is only applicable to events having only two possible results in an experiment, either success or failure. (the prefix “bi” means two, or twice). \n",
    "\n",
    "<b>Example</b>: \n",
    "* Tossing a coin: head or tail, \n",
    "* The result of a test: pass or fail,"
   ]
  },
  {
   "cell_type": "markdown",
   "id": "bb790ab6-c205-4fb1-afd0-12269e9f574e",
   "metadata": {},
   "source": [
    "### Q5. Generate a random sample of size 1000 from a binomial distribution with probability of success 0.4 and plot a histogram of the results using matplotlib.\n"
   ]
  },
  {
   "cell_type": "code",
   "execution_count": 9,
   "id": "b6501a5b-4842-4968-bb5e-36dc3cc81f2f",
   "metadata": {},
   "outputs": [
    {
     "data": {
      "image/png": "[encoded data removed]",
      "text/plain": [
       "<Figure size 800x400 with 1 Axes>"
      ]
     },
     "metadata": {},
     "output_type": "display_data"
    }
   ],
   "source": [
    "import numpy as np\n",
    "import matplotlib.pyplot as plt\n",
    "\n",
    "# numpy.random.binomial() function used to create a sample of binomial distribution ith probability 0.4 and size 1000\n",
    "\n",
    "sample_Binomial_dist = np.random.binomial(n=10, p=0.4,size=1000)\n",
    "\n",
    "plt.figure(figsize=(8,4))\n",
    "plt.hist(sample_Binomial_dist)\n",
    "plt.show()"
   ]
  },
  {
   "cell_type": "markdown",
   "id": "3ba9d1df-f700-484d-abac-b092f9f0fa04",
   "metadata": {},
   "source": [
    "### Q6. Write a Python function to calculate the cumulative distribution function of a Poisson distribution with given mean at a given point.\n"
   ]
  },
  {
   "cell_type": "code",
   "execution_count": 13,
   "id": "c4ec758b-1fb8-405d-804d-8f6d072fc5c9",
   "metadata": {},
   "outputs": [
    {
     "name": "stdout",
     "output_type": "stream",
     "text": [
      "CDF of the Poisson Distribution: [0.001 0.007 0.03  0.082 0.173 0.301 0.45  0.599 0.729 0.83  0.901 0.947\n",
      " 0.973 0.987 0.994 0.998 0.999]\n"
     ]
    }
   ],
   "source": [
    "import numpy as np\n",
    "import matplotlib.pyplot as plt\n",
    "from scipy.stats import poisson\n",
    "\n",
    "# we will need an array of the k values for which we will compute the Poisson CDF\n",
    "# k is the number of occurrences, in this we are going to have 16 values of k.\n",
    "\n",
    "k = np.arange(0, 17)\n",
    "\n",
    "'''\n",
    "In order to calculate the Poisson CDF using Python, we will use the .cdf() method of the scipy.poisson generator. It will need two parameters:\n",
    "\n",
    "    k value (the k array that we created)\n",
    "    μ value (which we will set to 7 as in this example)\n",
    "    \n",
    "'''\n",
    "def calculate_CDF_Poisson(k,mu):\n",
    "    cdf = poisson.cdf(k, mu)\n",
    "    cdf = np.round(cdf, 3)\n",
    "    print(\"CDF of the Poisson Distribution:\",cdf)\n",
    "\n",
    "calculate_CDF_Poisson(k,7)\n"
   ]
  },
  {
   "cell_type": "markdown",
   "id": "23635e1e-8c38-4476-8c26-478ef63d2a8e",
   "metadata": {},
   "source": [
    "### Q7. How Binomial distribution different from Poisson distribution?\n",
    "\n",
    "<table>\n",
    "    <tr>\n",
    "        <th>Basis for Comparison</th>\n",
    "        <th>Binomial Distribution</th>\n",
    "        <th>Poisson Distribution</th>\n",
    "    </tr>\n",
    "    <tr>\n",
    "        <td>Meaning</td>\n",
    "        <td>Binomial distribution is one in which the probability of repeated number of trials are studied.</td>\n",
    "        <td>Poisson Distribution gives the count of independent events occur randomly with a given period of time.</td>\n",
    "    </tr>\n",
    "    <tr>\n",
    "        <td>Nature</td>\n",
    "        <td>Biparametric</td>\n",
    "        <td>Uniparametric</td>\n",
    "    </tr>\n",
    "    <tr>\n",
    "        <td>Number of trials</td>\n",
    "        <td>Fixed</td>\n",
    "        <td>Infinite</td>\n",
    "    </tr>\n",
    "    <tr>\n",
    "        <td>Success</td>\n",
    "        <td>Constant probability</td>\n",
    "        <td>Infinitesimal chance of success</td>\n",
    "    </tr>\n",
    "    <tr>\n",
    "        <td>Outcomes</td>\n",
    "        <td>Only two possible outcomes, i.e. success or failure.</td>\n",
    "        <td>Unlimited number of possible outcomes.</td>\n",
    "    </tr>\n",
    "    <tr>\n",
    "        <td>Mean and Variance</td>\n",
    "        <td>Mean > Variance</td>\n",
    "        <td>Mean = Variance</td>\n",
    "    </tr>\n",
    "    <tr>\n",
    "        <td>Example</td>\n",
    "        <td>Coin tossing experiment.</td>\n",
    "        <td>Printing mistakes/page of a large book.</td>\n",
    "    </tr>\n",
    "</table>"
   ]
  },
  {
   "cell_type": "markdown",
   "id": "8afa58d8-5072-41b2-a7e2-87ff4ccf35b0",
   "metadata": {},
   "source": [
    "### Q8. Generate a random sample of size 1000 from a Poisson distribution with mean 5 and calculate the sample mean and variance.\n",
    "\n"
   ]
  },
  {
   "cell_type": "code",
   "execution_count": 2,
   "id": "27229f1d-fcf4-4ec4-ae92-88587ead5e3e",
   "metadata": {},
   "outputs": [
    {
     "name": "stdout",
     "output_type": "stream",
     "text": [
      "The mean and the Variance of the Poisson Distribution Sample are 5.015 and 4.976775000000001\n"
     ]
    }
   ],
   "source": [
    "import numpy as np\n",
    "\n",
    "sample_poission_dist = np.random.poisson(5,size=1000)\n",
    "\n",
    "mean = np.mean(sample_poission_dist)\n",
    "variance = np.var(sample_poission_dist)\n",
    "\n",
    "print(\"The mean and the Variance of the Poisson Distribution Sample are {} and {}\".format(mean, variance))"
   ]
  },
  {
   "cell_type": "markdown",
   "id": "2292fb6b-dc30-4cfb-894e-d8bfaa60d10d",
   "metadata": {},
   "source": [
    "### Q9. How mean and variance are related in Binomial distribution and Poisson distribution?\n",
    "\n",
    "In binomial distribution Mean > Variance while in poisson distribution Mean = Variance."
   ]
  },
  {
   "cell_type": "markdown",
   "id": "d280ba32-921d-4225-8fd5-6490e64bc6f3",
   "metadata": {},
   "source": [
    "### Q10. In normal distribution with respect to mean position, where does the least frequent data appear?\n",
    "\n",
    "Outiside of the \"µ+3σ to µ-3σ\" range."
   ]
  }
 ],
 "metadata": {
  "kernelspec": {
   "display_name": "Python 3 (ipykernel)",
   "language": "python",
   "name": "python3"
  },
  "language_info": {
   "codemirror_mode": {
    "name": "ipython",
    "version": 3
   },
   "file_extension": ".py",
   "mimetype": "text/x-python",
   "name": "python",
   "nbconvert_exporter": "python",
   "pygments_lexer": "ipython3",
   "version": "3.10.8"
  }
 },
 "nbformat": 4,
 "nbformat_minor": 5
}
