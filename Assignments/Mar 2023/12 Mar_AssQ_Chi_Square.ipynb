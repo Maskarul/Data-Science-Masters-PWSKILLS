{
 "cells": [
  {
   "cell_type": "code",
   "execution_count": 43,
   "id": "9da241b0-4f83-4a32-bdb2-e9f9e3a1fd89",
   "metadata": {},
   "outputs": [],
   "source": [
    "import numpy as np\n",
    "import scipy.stats as stat"
   ]
  },
  {
   "cell_type": "markdown",
   "id": "b79d6ad6-1504-4e80-a0b5-f1593bcadf93",
   "metadata": {},
   "source": [
    "## Q1. Calculate the 95% confidence interval for a sample of data with a mean of 50 and a standard deviation of 5 using Python. Interpret the results."
   ]
  },
  {
   "cell_type": "code",
   "execution_count": 8,
   "id": "98c513fd-410f-48a0-852c-21a3a60153ca",
   "metadata": {},
   "outputs": [],
   "source": [
    "sample_mean = 50\n",
    "sample_std = 5\n",
    "confidence_interval = 0.95\n",
    "alpha = 1 - confidence_interval"
   ]
  },
  {
   "cell_type": "code",
   "execution_count": 9,
   "id": "0b072f00-0ed2-4664-b42a-b0ae92128620",
   "metadata": {},
   "outputs": [],
   "source": [
    "# assuming sample size is 100\n",
    "\n",
    "sample_size = 100"
   ]
  },
  {
   "cell_type": "code",
   "execution_count": 10,
   "id": "a197387a-fadc-4c1b-bcb5-85479149d522",
   "metadata": {},
   "outputs": [],
   "source": [
    "# assuming the sample is in normal distribution\n",
    "\n",
    "z_critical = stat.norm.ppf(1 - alpha/2)\n",
    "\n",
    "margin_of_error = z_critical * (sample_std/np.sqrt(sample_size))"
   ]
  },
  {
   "cell_type": "code",
   "execution_count": 11,
   "id": "1b9e8f5d-4f40-49e8-b4b1-edf0abf13f44",
   "metadata": {},
   "outputs": [
    {
     "name": "stdout",
     "output_type": "stream",
     "text": [
      "(49.02001800772997, 50.97998199227003)\n"
     ]
    }
   ],
   "source": [
    "confidence_interval = (sample_mean - margin_of_error, sample_mean + margin_of_error)\n",
    "\n",
    "print(confidence_interval)"
   ]
  },
  {
   "cell_type": "markdown",
   "id": "f8fe20f0-eb12-483e-a8a6-71be400e7422",
   "metadata": {},
   "source": [
    "## Q2. Conduct a chi-square goodness of fit test to determine if the distribution of colors of M&Ms in a bag matches the expected distribution of 20% blue, 20% orange, 20% green, 10% yellow, 10% red, and 20% brown. Use Python to perform the test with a significance level of 0.05."
   ]
  },
  {
   "cell_type": "code",
   "execution_count": 12,
   "id": "61e3ceec-dabd-4fc1-be86-fab106c31060",
   "metadata": {},
   "outputs": [],
   "source": [
    "# given\n",
    "\n",
    "expected_distribution_value = [0.2, 0.2, 0.2, 0.1, 0.1, 0.2]\n",
    "alpha = 0.05"
   ]
  },
  {
   "cell_type": "code",
   "execution_count": 13,
   "id": "9cdd8811-7bf3-4d73-bf73-cb726be5ac1e",
   "metadata": {},
   "outputs": [],
   "source": [
    "# assuming the observed value. making sure the sum of the observed value is same as expected value which is 1 or 100 %\n",
    "\n",
    "observed_distribution = [0.3, 0.1, 0.1, 0.2, 0.1, 0.2]"
   ]
  },
  {
   "cell_type": "code",
   "execution_count": 19,
   "id": "f40f9d01-bd73-425e-ac91-42a3037007e5",
   "metadata": {},
   "outputs": [],
   "source": [
    "# using the chisquare function to calculate the chi_square_statistics & p_value\n",
    "\n",
    "chi_square_statistics,p_value = stat.chisquare(observed_distribution, expected_distribution_value)"
   ]
  },
  {
   "cell_type": "code",
   "execution_count": 20,
   "id": "c810071c-aab4-4657-9956-52d204024830",
   "metadata": {},
   "outputs": [
    {
     "data": {
      "text/plain": [
       "(0.25, 0.9984791814466316)"
      ]
     },
     "execution_count": 20,
     "metadata": {},
     "output_type": "execute_result"
    }
   ],
   "source": [
    "chi_square_statistics,p_value"
   ]
  },
  {
   "cell_type": "code",
   "execution_count": 21,
   "id": "f1c1884a-daaf-4c83-a901-a1e092c4d2a1",
   "metadata": {},
   "outputs": [],
   "source": [
    "# have to find the critical value\n",
    "\n",
    "alpha = 0.05\n",
    "Confidence_Interval = 1 - alpha\n",
    "degree_of_freedom = len(observed_distribution)"
   ]
  },
  {
   "cell_type": "code",
   "execution_count": 24,
   "id": "cbfbd463-28a6-4185-a49f-66bc97abb8a8",
   "metadata": {},
   "outputs": [],
   "source": [
    "critical_value = stat.chi2.ppf(Confidence_Interval,degree_of_freedom)"
   ]
  },
  {
   "cell_type": "code",
   "execution_count": 25,
   "id": "502dab6e-a692-4b1c-bd3d-34be1fe7fca6",
   "metadata": {},
   "outputs": [
    {
     "data": {
      "text/plain": [
       "12.591587243743977"
      ]
     },
     "execution_count": 25,
     "metadata": {},
     "output_type": "execute_result"
    }
   ],
   "source": [
    "critical_value"
   ]
  },
  {
   "cell_type": "code",
   "execution_count": 26,
   "id": "39604ac3-d25a-4fc0-83f9-372d10dc7828",
   "metadata": {},
   "outputs": [
    {
     "name": "stdout",
     "output_type": "stream",
     "text": [
      "Accpet the Null HYpothesis\n"
     ]
    }
   ],
   "source": [
    "if chi_square_statistics > critical_value:\n",
    "    print(\"Reject the Null Pypothesis\")\n",
    "else:\n",
    "    print(\"Accpet the Null HYpothesis\")"
   ]
  },
  {
   "cell_type": "markdown",
   "id": "d0fec5ad-7011-45c8-b5e9-586a6ea758ed",
   "metadata": {},
   "source": [
    "## Q3. Use Python to calculate the chi-square statistic and p-value for a contingency table with the following data:"
   ]
  },
  {
   "attachments": {
    "60e5f5f5-5bf6-442f-be76-ebd6665c7d29.png": {
     "image/png": "[encoded data removed]"
    }
   },
   "cell_type": "markdown",
   "id": "e0a93a99-4e48-4ab1-9d94-51a8ca08bcc1",
   "metadata": {},
   "source": [
    "![image.png](attachment:60e5f5f5-5bf6-442f-be76-ebd6665c7d29.png)\n",
    "\n",
    "Interpret the result."
   ]
  },
  {
   "cell_type": "code",
   "execution_count": 28,
   "id": "4ba86e1c-5545-438c-ae5c-d46806c2b631",
   "metadata": {},
   "outputs": [],
   "source": [
    "observed = np.array([[20,10,15],[15,25,20]])"
   ]
  },
  {
   "cell_type": "code",
   "execution_count": 30,
   "id": "26d0e4e6-1601-4323-979f-8a84e75e4da3",
   "metadata": {},
   "outputs": [],
   "source": [
    "chi_square_statistic = stat.chi2_contingency(observed)"
   ]
  },
  {
   "cell_type": "code",
   "execution_count": 31,
   "id": "336ebacb-3e41-4fd8-bee8-c8953336f99c",
   "metadata": {},
   "outputs": [
    {
     "data": {
      "text/plain": [
       "5.833333333333334"
      ]
     },
     "execution_count": 31,
     "metadata": {},
     "output_type": "execute_result"
    }
   ],
   "source": [
    "chi_square_statistic.statistic"
   ]
  },
  {
   "cell_type": "code",
   "execution_count": 32,
   "id": "eb028438-765e-4add-953c-373a93740717",
   "metadata": {},
   "outputs": [
    {
     "data": {
      "text/plain": [
       "0.05411376622282158"
      ]
     },
     "execution_count": 32,
     "metadata": {},
     "output_type": "execute_result"
    }
   ],
   "source": [
    "chi_square_statistic.pvalue"
   ]
  },
  {
   "cell_type": "code",
   "execution_count": 35,
   "id": "b5a5c4e9-76cf-474f-aaf2-36719607f87c",
   "metadata": {},
   "outputs": [
    {
     "name": "stdout",
     "output_type": "stream",
     "text": [
      "p value is 0.05411376622282158\n",
      "Independent (H0 holds true)\n"
     ]
    }
   ],
   "source": [
    "# interpret p-value \n",
    "\n",
    "alpha = 0.05 # assuming\n",
    "print(\"p value is \" + str(chi_square_statistic.pvalue)) \n",
    "if chi_square_statistic.pvalue <= alpha:\n",
    "    print('Dependent (reject H0)') \n",
    "else: \n",
    "    print('Independent (H0 holds true)')"
   ]
  },
  {
   "cell_type": "markdown",
   "id": "10749174-763f-48f7-89db-52c793ff3b65",
   "metadata": {},
   "source": [
    "## Q4. A study of the prevalence of smoking in a population of 500 individuals found that 60 individuals smoked. Use Python to calculate the 95% confidence interval for the true proportion of individuals in the population who smoke."
   ]
  },
  {
   "cell_type": "code",
   "execution_count": 37,
   "id": "a1215980-7aef-4eb4-85f5-140abb8c5eb7",
   "metadata": {},
   "outputs": [],
   "source": [
    "total_polulation = 500\n",
    "smokers = 60\n",
    "non_smokers = 500 - smokers\n",
    "confidence = 0.95\n",
    "alpha = 1 - confidence"
   ]
  },
  {
   "cell_type": "code",
   "execution_count": 33,
   "id": "b8492c1f-47ac-46d4-ac39-5e90de1cbc6b",
   "metadata": {},
   "outputs": [
    {
     "data": {
      "text/plain": [
       "0.12"
      ]
     },
     "execution_count": 33,
     "metadata": {},
     "output_type": "execute_result"
    }
   ],
   "source": [
    "smokers_proportion = smokers / total_polulation\n",
    "\n",
    "smokers_proportion"
   ]
  },
  {
   "cell_type": "code",
   "execution_count": 34,
   "id": "72cbc8b1-03d2-4116-92bf-cdfb2237b33b",
   "metadata": {},
   "outputs": [
    {
     "data": {
      "text/plain": [
       "0.88"
      ]
     },
     "execution_count": 34,
     "metadata": {},
     "output_type": "execute_result"
    }
   ],
   "source": [
    "non_smokers_proportion = non_smokers/ total_polulation\n",
    "\n",
    "non_smokers_proportion"
   ]
  },
  {
   "cell_type": "code",
   "execution_count": 39,
   "id": "a8521468-69de-4621-9c88-f12b4d296d09",
   "metadata": {},
   "outputs": [
    {
     "name": "stdout",
     "output_type": "stream",
     "text": [
      "Standard Error:  0.014532721699667961\n"
     ]
    }
   ],
   "source": [
    "standard_error = np.sqrt((smokers_proportion * non_smokers_proportion)/ total_polulation)\n",
    "\n",
    "print(\"Standard Error: \", standard_error)"
   ]
  },
  {
   "cell_type": "code",
   "execution_count": 38,
   "id": "b63f1acd-7e3b-4b22-ad36-b3c509d27242",
   "metadata": {},
   "outputs": [
    {
     "name": "stdout",
     "output_type": "stream",
     "text": [
      "Z Critical Value:  1.959963984540054\n"
     ]
    }
   ],
   "source": [
    "# assuming the sample is in normal distribution\n",
    "\n",
    "z_critical = stat.norm.ppf(1 - alpha/2)\n",
    "\n",
    "print(\"Z Critical Value: \" ,z_critical)"
   ]
  },
  {
   "cell_type": "code",
   "execution_count": 40,
   "id": "5d57f521-670c-4d49-a36d-9e190ce3c993",
   "metadata": {},
   "outputs": [
    {
     "name": "stdout",
     "output_type": "stream",
     "text": [
      "Margin of Error:  0.028483611128692923\n"
     ]
    }
   ],
   "source": [
    "margin_of_error = z_critical * standard_error\n",
    "\n",
    "print(\"Margin of Error: \", margin_of_error)"
   ]
  },
  {
   "cell_type": "code",
   "execution_count": 41,
   "id": "b947b6aa-6d08-43f4-8315-fdc4e559f124",
   "metadata": {},
   "outputs": [
    {
     "name": "stdout",
     "output_type": "stream",
     "text": [
      "With 95% of confidence Interval, the true proportion of population who prefer to smoke is within 0.09151638887130707 and 0.1484836111286929\n"
     ]
    }
   ],
   "source": [
    "confidence_interval = [smokers_proportion - margin_of_error, smokers_proportion + margin_of_error]\n",
    "\n",
    "print(\"With 95% of confidence Interval, the true proportion of population who prefer to smoke is within {0} and {1}\".format(confidence_interval[0], confidence_interval[1]))"
   ]
  },
  {
   "cell_type": "markdown",
   "id": "b24ed9af-9946-4368-b444-06f0c02630ea",
   "metadata": {
    "scrolled": true
   },
   "source": [
    "## Q5. Calculate the 90% confidence interval for a sample of data with a mean of 75 and a standard deviation of 12 using Python. Interpret the results."
   ]
  },
  {
   "cell_type": "code",
   "execution_count": 72,
   "id": "dd815ca2-4d60-42a5-bbd9-e180436b9c0d",
   "metadata": {},
   "outputs": [],
   "source": [
    "# provided\n",
    "\n",
    "sample_mean = 75\n",
    "standard_deviation = 12\n",
    "confidence_interval = 0.90\n"
   ]
  },
  {
   "cell_type": "code",
   "execution_count": 73,
   "id": "7baf3438-315a-447f-9179-c306a8f3af48",
   "metadata": {},
   "outputs": [],
   "source": [
    "alpha = 1 - confidence_interval"
   ]
  },
  {
   "cell_type": "code",
   "execution_count": 74,
   "id": "d67871d0-8073-4628-b5e4-18434a2e3648",
   "metadata": {},
   "outputs": [],
   "source": [
    "# assuming sample size is 200\n",
    "\n",
    "sample_size = 200"
   ]
  },
  {
   "cell_type": "code",
   "execution_count": 77,
   "id": "d41d851c-ccc5-44d3-9423-b65fc1751c55",
   "metadata": {},
   "outputs": [
    {
     "name": "stdout",
     "output_type": "stream",
     "text": [
      "Critical Value:  1.6448536269514722\n",
      "Margin Of Error:  0.5815435768383368\n"
     ]
    }
   ],
   "source": [
    "# assuming the sample is in normal distribution\n",
    "\n",
    "z_critical = stat.norm.ppf(1 - alpha/2)\n",
    "print(\"Critical Value: \", z_critical)\n",
    "\n",
    "margin_of_error = z_critical * (sample_std/np.sqrt(sample_size))\n",
    "print(\"Margin Of Error: \", margin_of_error)"
   ]
  },
  {
   "cell_type": "code",
   "execution_count": 78,
   "id": "4fb060e5-a0e6-4a02-a792-edb770087d61",
   "metadata": {},
   "outputs": [
    {
     "name": "stdout",
     "output_type": "stream",
     "text": [
      "Confidence Interval:  (74.41845642316166, 75.58154357683834)\n"
     ]
    }
   ],
   "source": [
    "confidence_interval = (sample_mean - margin_of_error, sample_mean + margin_of_error)\n",
    "\n",
    "print(\"Confidence Interval: \", confidence_interval)"
   ]
  },
  {
   "cell_type": "markdown",
   "id": "74ee4cd5-c052-47fd-be63-b176e7db8e2b",
   "metadata": {},
   "source": [
    "## Q7. A random sample of 1000 people was asked if they preferred Coke or Pepsi. Of the sample, 520 preferred Coke. Calculate a 99% confidence interval for the true proportion of people in the population who prefer Coke."
   ]
  },
  {
   "cell_type": "code",
   "execution_count": 16,
   "id": "02526139-b4e8-4aad-a42c-10ad35b1f361",
   "metadata": {},
   "outputs": [],
   "source": [
    "# given\n",
    "\n",
    "sample_size = 1000\n",
    "sample_coked = 520\n",
    "pepsied = 1000 - sample_coked\n",
    "confidence_interval = 0.99"
   ]
  },
  {
   "cell_type": "code",
   "execution_count": 17,
   "id": "2a3e8c18-ba8b-41a7-9479-2436481f2091",
   "metadata": {},
   "outputs": [
    {
     "name": "stdout",
     "output_type": "stream",
     "text": [
      "0.010000000000000009\n"
     ]
    }
   ],
   "source": [
    "alpha = 1 - confidence_interval\n",
    "\n",
    "print(alpha)"
   ]
  },
  {
   "cell_type": "code",
   "execution_count": 18,
   "id": "401fbff0-0406-4a04-ab1c-9be61c3604eb",
   "metadata": {},
   "outputs": [
    {
     "name": "stdout",
     "output_type": "stream",
     "text": [
      "0.52\n"
     ]
    }
   ],
   "source": [
    "sample_coke_proportion = sample_coked / sample_size\n",
    "\n",
    "print(sample_coke_proportion)"
   ]
  },
  {
   "cell_type": "code",
   "execution_count": 19,
   "id": "ad5edbae-055c-4ef3-817c-21e34110b93a",
   "metadata": {},
   "outputs": [
    {
     "name": "stdout",
     "output_type": "stream",
     "text": [
      "0.48\n"
     ]
    }
   ],
   "source": [
    "sample_pepsied_proportion = pepsied / sample_size\n",
    "\n",
    "print(sample_pepsied_proportion)"
   ]
  },
  {
   "cell_type": "code",
   "execution_count": 20,
   "id": "bfcefbaf-f6a0-45c1-a449-f0cb76923c23",
   "metadata": {},
   "outputs": [
    {
     "name": "stdout",
     "output_type": "stream",
     "text": [
      "Z Critical Value:  2.5758293035489004\n"
     ]
    }
   ],
   "source": [
    "# assuming the sample is in normal distribution\n",
    "\n",
    "z_critical = stat.norm.ppf(1 - alpha/2)\n",
    "\n",
    "print(\"Z Critical Value: \" ,z_critical)"
   ]
  },
  {
   "cell_type": "code",
   "execution_count": 21,
   "id": "d4b79207-bd87-4734-a9ab-29af5796bd7b",
   "metadata": {},
   "outputs": [
    {
     "name": "stdout",
     "output_type": "stream",
     "text": [
      "Standard Error:  0.0157987341265052\n"
     ]
    }
   ],
   "source": [
    "standard_error = np.sqrt((sample_coke_proportion * sample_pepsied_proportion)/ sample_size)\n",
    "\n",
    "print(\"Standard Error: \", standard_error)"
   ]
  },
  {
   "cell_type": "code",
   "execution_count": 22,
   "id": "1339c1bb-d842-4c8e-8e9b-e2063b6e90d0",
   "metadata": {},
   "outputs": [
    {
     "name": "stdout",
     "output_type": "stream",
     "text": [
      "Margin of Error:  0.040694842322030134\n"
     ]
    }
   ],
   "source": [
    "margin_of_error = z_critical * standard_error\n",
    "\n",
    "print(\"Margin of Error: \", margin_of_error)"
   ]
  },
  {
   "cell_type": "code",
   "execution_count": 30,
   "id": "24a935fa-56d7-437b-9272-549ddb08205b",
   "metadata": {},
   "outputs": [
    {
     "name": "stdout",
     "output_type": "stream",
     "text": [
      "[0.4793051576779699, 0.5606948423220302]\n"
     ]
    }
   ],
   "source": [
    "confidence_interval = [sample_coke_proportion - margin_of_error, sample_coke_proportion + margin_of_error]\n",
    "\n",
    "print(confidence_interval)"
   ]
  },
  {
   "cell_type": "code",
   "execution_count": 31,
   "id": "943fdd15-5585-402d-a60e-f93428dc3337",
   "metadata": {},
   "outputs": [
    {
     "name": "stdout",
     "output_type": "stream",
     "text": [
      "With 99% of confidence Interval, the true proportion of population who prefer coke is within 0.4793051576779699 and 0.5606948423220302\n"
     ]
    }
   ],
   "source": [
    "print(\"With 99% of confidence Interval, the true proportion of population who prefer coke is within {0} and {1}\".format(confidence_interval[0], confidence_interval[1]))"
   ]
  },
  {
   "cell_type": "markdown",
   "id": "a48fe295-2ad1-45e5-97bb-27afd8e414b0",
   "metadata": {},
   "source": [
    "## Q8. A researcher hypothesizes that a coin is biased towards tails. They flip the coin 100 times and observe 45 tails. Conduct a chi-square goodness of fit test to determine if the observed frequencies match the expected frequencies of a fair coin. Use a significance level of 0.05."
   ]
  },
  {
   "cell_type": "code",
   "execution_count": 52,
   "id": "c946a4bb-24ef-4ef0-9c80-4be1ca107ea2",
   "metadata": {},
   "outputs": [],
   "source": [
    "observed_value = [55, 45]\n",
    "expected_value = [50, 50]\n",
    "alpha = 0.05"
   ]
  },
  {
   "cell_type": "code",
   "execution_count": 48,
   "id": "f4e29a13-286c-453b-8246-8a8f57e51aa9",
   "metadata": {},
   "outputs": [
    {
     "data": {
      "text/plain": [
       "array([[55, 45],\n",
       "       [50, 50]])"
      ]
     },
     "execution_count": 48,
     "metadata": {},
     "output_type": "execute_result"
    }
   ],
   "source": [
    "data = np.array([observed_value, expected_value])\n",
    "data"
   ]
  },
  {
   "cell_type": "code",
   "execution_count": 49,
   "id": "2dd56071-d69c-4318-8256-ba7953d6c58a",
   "metadata": {},
   "outputs": [],
   "source": [
    "chi_square_stat = stat.chi2_contingency(data)"
   ]
  },
  {
   "cell_type": "code",
   "execution_count": 50,
   "id": "740b8a9b-078d-4f21-9ebe-e5442d66ab63",
   "metadata": {},
   "outputs": [
    {
     "data": {
      "text/plain": [
       "0.3208020050125313"
      ]
     },
     "execution_count": 50,
     "metadata": {},
     "output_type": "execute_result"
    }
   ],
   "source": [
    "chi_square_stat.statistic"
   ]
  },
  {
   "cell_type": "code",
   "execution_count": 51,
   "id": "379de95d-1dea-4e1b-aad9-cdaffc19cd35",
   "metadata": {},
   "outputs": [
    {
     "data": {
      "text/plain": [
       "0.5711260675200032"
      ]
     },
     "execution_count": 51,
     "metadata": {},
     "output_type": "execute_result"
    }
   ],
   "source": [
    "chi_square_stat.pvalue"
   ]
  },
  {
   "cell_type": "code",
   "execution_count": 55,
   "id": "aed1ecfe-bb74-4549-964c-e4b4ee63f53b",
   "metadata": {},
   "outputs": [
    {
     "name": "stdout",
     "output_type": "stream",
     "text": [
      "p value is 0.5711260675200032\n",
      "Match the expected frequencies (H0 holds true)\n"
     ]
    }
   ],
   "source": [
    "print(\"p value is \" + str(chi_square_stat.pvalue)) \n",
    "if chi_square_stat.pvalue <= alpha:\n",
    "    print('Does not match frequencies (reject H0)') \n",
    "else: \n",
    "    print('Match the expected frequencies (H0 holds true)')"
   ]
  },
  {
   "cell_type": "markdown",
   "id": "bc66a986-eea5-4972-82e3-8e036a936b42",
   "metadata": {},
   "source": [
    "## Q9. A study was conducted to determine if there is an association between smoking status (smoker or non-smoker) and lung cancer diagnosis (yes or no). The results are shown in the contingency table below. Conduct a chi-square test for independence to determine if there is a significant association between smoking status and lung cancer diagnosis. Use a significance level of 0.05.."
   ]
  },
  {
   "attachments": {
    "73d63b5e-ed5b-4f3f-82f2-7c5b463b9cf6.png": {
     "image/png": "[encoded data removed]"
    }
   },
   "cell_type": "markdown",
   "id": "c0e86725-9edc-4fe8-a9bc-c6a735c21436",
   "metadata": {},
   "source": [
    "![image.png](attachment:73d63b5e-ed5b-4f3f-82f2-7c5b463b9cf6.png)"
   ]
  },
  {
   "cell_type": "code",
   "execution_count": 61,
   "id": "4fac49e1-0318-4ae6-ae8e-72fd8da8d6a4",
   "metadata": {},
   "outputs": [],
   "source": [
    "smoker = [60, 140]\n",
    "non_smoker = [30, 170]\n",
    "alpha = 0.05"
   ]
  },
  {
   "cell_type": "code",
   "execution_count": 57,
   "id": "d866d081-c2fe-4c55-a9d4-6e771ac91864",
   "metadata": {},
   "outputs": [],
   "source": [
    "data = np.array([smoker, non_smoker])"
   ]
  },
  {
   "cell_type": "code",
   "execution_count": 58,
   "id": "b4beb802-cd29-4765-9dba-7e10838abec4",
   "metadata": {},
   "outputs": [],
   "source": [
    "chi_square_test_stat = stat.chi2_contingency(data)"
   ]
  },
  {
   "cell_type": "code",
   "execution_count": 59,
   "id": "8fde24d7-dc77-4802-8a45-3cec9a926cbe",
   "metadata": {},
   "outputs": [
    {
     "data": {
      "text/plain": [
       "12.057347670250895"
      ]
     },
     "execution_count": 59,
     "metadata": {},
     "output_type": "execute_result"
    }
   ],
   "source": [
    "chi_square_test_stat.statistic"
   ]
  },
  {
   "cell_type": "code",
   "execution_count": 60,
   "id": "4a628fb5-1662-4ea2-83fd-ffdb508426f2",
   "metadata": {},
   "outputs": [
    {
     "data": {
      "text/plain": [
       "0.0005158863863703744"
      ]
     },
     "execution_count": 60,
     "metadata": {},
     "output_type": "execute_result"
    }
   ],
   "source": [
    "chi_square_test_stat.pvalue"
   ]
  },
  {
   "cell_type": "code",
   "execution_count": 63,
   "id": "1dcd4b4d-c1ad-40a3-ab9d-2d65bba88c25",
   "metadata": {},
   "outputs": [
    {
     "name": "stdout",
     "output_type": "stream",
     "text": [
      "p value is 0.0005158863863703744\n",
      "No association between Smokers and Non-Smokers (reject H0)\n"
     ]
    }
   ],
   "source": [
    "print(\"p value is \" + str(chi_square_test_stat.pvalue)) \n",
    "if chi_square_test_stat.pvalue <= alpha:\n",
    "    print('No association between Smokers and Non-Smokers (reject H0)') \n",
    "else: \n",
    "    print('Smokers and Non-Smokers Associates (H0 holds true)')"
   ]
  },
  {
   "cell_type": "markdown",
   "id": "c8b9536e-7893-45f2-a26c-aaa344949f0b",
   "metadata": {},
   "source": [
    "## Q10. A study was conducted to determine if the proportion of people who prefer milk chocolate, dark chocolate, or white chocolate is different in the U.S. versus the U.K. A random sample of 500 people from the U.S. and a random sample of 500 people from the U.K. were surveyed. The results are shown in the contingency table below. Conduct a chi-square test for independence to determine if there is a significant association between chocolate preference and country of origin. Use a significance level of 0.01.\n"
   ]
  },
  {
   "attachments": {
    "f460d138-ee1c-469c-a000-2685e7f1f225.png": {
     "image/png": "[encoded data removed]"
    }
   },
   "cell_type": "markdown",
   "id": "bf85204d-4094-49d1-b85a-e157aba2dbbc",
   "metadata": {},
   "source": [
    "![image.png](attachment:f460d138-ee1c-469c-a000-2685e7f1f225.png)"
   ]
  },
  {
   "cell_type": "code",
   "execution_count": 69,
   "id": "01d007fa-c64d-40f0-89e9-24ab9166fadf",
   "metadata": {},
   "outputs": [],
   "source": [
    "us_preference = [200, 150, 150]\n",
    "uk_preference = [225, 175, 100]\n",
    "alpha = 0.01"
   ]
  },
  {
   "cell_type": "code",
   "execution_count": 65,
   "id": "2eac3b4d-0c5b-4eb4-9901-42afdeb46df1",
   "metadata": {},
   "outputs": [
    {
     "data": {
      "text/plain": [
       "array([[200, 150, 150],\n",
       "       [225, 175, 100]])"
      ]
     },
     "execution_count": 65,
     "metadata": {},
     "output_type": "execute_result"
    }
   ],
   "source": [
    "preference_data = np.array([us_preference, uk_preference])\n",
    "\n",
    "preference_data"
   ]
  },
  {
   "cell_type": "code",
   "execution_count": 66,
   "id": "ade49c6f-d0f3-421a-a786-44125052cb2f",
   "metadata": {},
   "outputs": [],
   "source": [
    "chisquare_test_stat = stat.chi2_contingency(preference_data)"
   ]
  },
  {
   "cell_type": "code",
   "execution_count": 67,
   "id": "67d85c66-c67f-4a71-8fc3-5aebb5cedd0b",
   "metadata": {},
   "outputs": [
    {
     "data": {
      "text/plain": [
       "13.393665158371041"
      ]
     },
     "execution_count": 67,
     "metadata": {},
     "output_type": "execute_result"
    }
   ],
   "source": [
    "chisquare_test_stat.statistic"
   ]
  },
  {
   "cell_type": "code",
   "execution_count": 68,
   "id": "71fa9277-5383-4142-a8ad-becd9b9cc489",
   "metadata": {},
   "outputs": [
    {
     "data": {
      "text/plain": [
       "0.0012348168997745918"
      ]
     },
     "execution_count": 68,
     "metadata": {},
     "output_type": "execute_result"
    }
   ],
   "source": [
    "chisquare_test_stat.pvalue"
   ]
  },
  {
   "cell_type": "code",
   "execution_count": 71,
   "id": "d9a4af77-22ec-4dad-9cb1-ff54da96b70e",
   "metadata": {},
   "outputs": [
    {
     "name": "stdout",
     "output_type": "stream",
     "text": [
      "p value is 0.0012348168997745918\n",
      "No significant association between chocolate preference and country of origin. (reject H0)\n"
     ]
    }
   ],
   "source": [
    "print(\"p value is \" + str(chisquare_test_stat.pvalue)) \n",
    "if chisquare_test_stat.pvalue <= alpha:\n",
    "    print('No significant association between chocolate preference and country of origin. (reject H0)') \n",
    "else: \n",
    "    print('Have significant association between chocolate preference and country of origin. (H0 holds true)')"
   ]
  },
  {
   "cell_type": "markdown",
   "id": "c12e6b00-923f-458b-9e80-2ad0deeac0b1",
   "metadata": {},
   "source": [
    "## Q11. A random sample of 30 people was selected from a population with an unknown mean and standard deviation. The sample mean was found to be 72 and the sample standard deviation was found to be 10. Conduct a hypothesis test to determine if the population mean is significantly different from 70. Use a significance level of 0.05."
   ]
  },
  {
   "cell_type": "code",
   "execution_count": 72,
   "id": "b8f88b7e-cedf-400b-b30b-9e711fb1bd42",
   "metadata": {},
   "outputs": [],
   "source": [
    "# Population Mean \n",
    "population_mean = 70\n",
    "\n",
    "# sample mean\n",
    "sample_mean = 72\n",
    "\n",
    "# Sample Size\n",
    "sample_size = 30\n",
    "\n",
    "# Degrees of freedom  \n",
    "dof = sample_size - 1\n",
    "\n",
    "# sample standard deviation\n",
    "sample_std = 10\n",
    "\n",
    "#significance level\n",
    "alpha = 0.05"
   ]
  },
  {
   "cell_type": "code",
   "execution_count": 75,
   "id": "4c33808e-91b1-4f65-ad41-ec36e755ceab",
   "metadata": {},
   "outputs": [
    {
     "data": {
      "text/plain": [
       "1.8257418583505538"
      ]
     },
     "execution_count": 75,
     "metadata": {},
     "output_type": "execute_result"
    }
   ],
   "source": [
    "standard_error = sample_std/np.sqrt(sample_size)\n",
    "\n",
    "standard_error"
   ]
  },
  {
   "cell_type": "code",
   "execution_count": 76,
   "id": "169d83f7-cb49-4de9-9a56-11ed838f328f",
   "metadata": {},
   "outputs": [
    {
     "name": "stdout",
     "output_type": "stream",
     "text": [
      "t-statistic = 1.0954451150103321\n",
      "p-value = 0.2823362372860698\n"
     ]
    }
   ],
   "source": [
    "# Calculating the T-Statistics  \n",
    "t_stat = (sample_mean - population_mean) / standard_error\n",
    "\n",
    "# p-value of the t-statistic\n",
    "p_val = 2*(1 - stat.t.cdf(abs(t_stat), df = dof))\n",
    "print(\"t-statistic = \" + str(t_stat))  \n",
    "print(\"p-value = \" + str(p_val)) "
   ]
  },
  {
   "cell_type": "code",
   "execution_count": 77,
   "id": "b83f815b-0806-41e6-b71f-482d8ec0bc3f",
   "metadata": {},
   "outputs": [
    {
     "name": "stdout",
     "output_type": "stream",
     "text": [
      "Population mean is not different than the sample mean (H0 holds true)\n"
     ]
    }
   ],
   "source": [
    "if p_val <= alpha:\n",
    "    print('Population mean is significantly different than the sample mean (reject H0)') \n",
    "else: \n",
    "    print('Population mean is not different than the sample mean (H0 holds true)')"
   ]
  }
 ],
 "metadata": {
  "kernelspec": {
   "display_name": "Python 3 (ipykernel)",
   "language": "python",
   "name": "python3"
  },
  "language_info": {
   "codemirror_mode": {
    "name": "ipython",
    "version": 3
   },
   "file_extension": ".py",
   "mimetype": "text/x-python",
   "name": "python",
   "nbconvert_exporter": "python",
   "pygments_lexer": "ipython3",
   "version": "3.12.4"
  }
 },
 "nbformat": 4,
 "nbformat_minor": 5
}
