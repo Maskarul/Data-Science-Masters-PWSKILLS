{
 "cells": [
  {
   "cell_type": "markdown",
   "id": "3a509e77-6b2b-4197-a58f-01f716093d99",
   "metadata": {},
   "source": [
    "## Q1. What is data encoding? How is it useful in data science?\n"
   ]
  },
  {
   "cell_type": "markdown",
   "id": "678fe592-7203-4dd3-a862-f3cbfd03f770",
   "metadata": {},
   "source": [
    "#### <b><u>Data Encoding</u></b>:\n",
    "\n",
    "> Encoding is a technique of converting categorical variables into numerical values so that it could be easily fitted to a machine learning model.\n",
    "\n",
    "\n",
    "#### <b><u>How it is useful in the Data Science</u></b>?\n",
    "\n",
    "\n",
    "> Models only work with numerical values. For this reason, it is necessary to convert the categorical values of the features into numerical ones, So the machine can learn from those data and gives the right model. "
   ]
  },
  {
   "cell_type": "markdown",
   "id": "710ceef3-50a0-4797-9691-bd62e8aa501f",
   "metadata": {},
   "source": [
    "## Q2. What is nominal encoding? Provide an example of how you would use it in a real-world scenario.\n"
   ]
  },
  {
   "cell_type": "markdown",
   "id": "bd4a2ae0-5a5b-42bf-a969-acb81e8e5dc9",
   "metadata": {},
   "source": [
    "#### <b><u>Nominal Encoding</u></b>:\n",
    "\n",
    "> When we convert Nominal Catergorical values of features into numerical data, this type of encoding called Nominal Encoding.\n",
    "\n"
   ]
  },
  {
   "cell_type": "code",
   "execution_count": 10,
   "id": "b4c064f5-dbcf-4132-86f8-41579038d85e",
   "metadata": {},
   "outputs": [
    {
     "data": {
      "text/plain": [
       "0         setosa\n",
       "1         setosa\n",
       "2         setosa\n",
       "3         setosa\n",
       "4         setosa\n",
       "         ...    \n",
       "145    virginica\n",
       "146    virginica\n",
       "147    virginica\n",
       "148    virginica\n",
       "149    virginica\n",
       "Name: species, Length: 150, dtype: object"
      ]
     },
     "execution_count": 10,
     "metadata": {},
     "output_type": "execute_result"
    }
   ],
   "source": [
    "import seaborn as sns\n",
    "import pandas as pd\n",
    "\n",
    "df_iris = sns.load_dataset('iris')\n",
    "\n",
    "# 'species' column has the categorical data.\n",
    "\n",
    "df_iris['species']"
   ]
  },
  {
   "cell_type": "code",
   "execution_count": 26,
   "id": "9018b1a0-4a62-4816-b622-514070dfe388",
   "metadata": {},
   "outputs": [
    {
     "data": {
      "text/html": [
       "<div>\n",
       "<style scoped>\n",
       "    .dataframe tbody tr th:only-of-type {\n",
       "        vertical-align: middle;\n",
       "    }\n",
       "\n",
       "    .dataframe tbody tr th {\n",
       "        vertical-align: top;\n",
       "    }\n",
       "\n",
       "    .dataframe thead th {\n",
       "        text-align: right;\n",
       "    }\n",
       "</style>\n",
       "<table border=\"1\" class=\"dataframe\">\n",
       "  <thead>\n",
       "    <tr style=\"text-align: right;\">\n",
       "      <th></th>\n",
       "      <th>species</th>\n",
       "      <th>species_setosa</th>\n",
       "      <th>species_versicolor</th>\n",
       "      <th>species_virginica</th>\n",
       "    </tr>\n",
       "  </thead>\n",
       "  <tbody>\n",
       "    <tr>\n",
       "      <th>0</th>\n",
       "      <td>setosa</td>\n",
       "      <td>1.0</td>\n",
       "      <td>0.0</td>\n",
       "      <td>0.0</td>\n",
       "    </tr>\n",
       "    <tr>\n",
       "      <th>1</th>\n",
       "      <td>setosa</td>\n",
       "      <td>1.0</td>\n",
       "      <td>0.0</td>\n",
       "      <td>0.0</td>\n",
       "    </tr>\n",
       "    <tr>\n",
       "      <th>2</th>\n",
       "      <td>setosa</td>\n",
       "      <td>1.0</td>\n",
       "      <td>0.0</td>\n",
       "      <td>0.0</td>\n",
       "    </tr>\n",
       "    <tr>\n",
       "      <th>3</th>\n",
       "      <td>setosa</td>\n",
       "      <td>1.0</td>\n",
       "      <td>0.0</td>\n",
       "      <td>0.0</td>\n",
       "    </tr>\n",
       "    <tr>\n",
       "      <th>4</th>\n",
       "      <td>setosa</td>\n",
       "      <td>1.0</td>\n",
       "      <td>0.0</td>\n",
       "      <td>0.0</td>\n",
       "    </tr>\n",
       "    <tr>\n",
       "      <th>...</th>\n",
       "      <td>...</td>\n",
       "      <td>...</td>\n",
       "      <td>...</td>\n",
       "      <td>...</td>\n",
       "    </tr>\n",
       "    <tr>\n",
       "      <th>145</th>\n",
       "      <td>virginica</td>\n",
       "      <td>0.0</td>\n",
       "      <td>0.0</td>\n",
       "      <td>1.0</td>\n",
       "    </tr>\n",
       "    <tr>\n",
       "      <th>146</th>\n",
       "      <td>virginica</td>\n",
       "      <td>0.0</td>\n",
       "      <td>0.0</td>\n",
       "      <td>1.0</td>\n",
       "    </tr>\n",
       "    <tr>\n",
       "      <th>147</th>\n",
       "      <td>virginica</td>\n",
       "      <td>0.0</td>\n",
       "      <td>0.0</td>\n",
       "      <td>1.0</td>\n",
       "    </tr>\n",
       "    <tr>\n",
       "      <th>148</th>\n",
       "      <td>virginica</td>\n",
       "      <td>0.0</td>\n",
       "      <td>0.0</td>\n",
       "      <td>1.0</td>\n",
       "    </tr>\n",
       "    <tr>\n",
       "      <th>149</th>\n",
       "      <td>virginica</td>\n",
       "      <td>0.0</td>\n",
       "      <td>0.0</td>\n",
       "      <td>1.0</td>\n",
       "    </tr>\n",
       "  </tbody>\n",
       "</table>\n",
       "<p>150 rows × 4 columns</p>\n",
       "</div>"
      ],
      "text/plain": [
       "       species  species_setosa  species_versicolor  species_virginica\n",
       "0       setosa             1.0                 0.0                0.0\n",
       "1       setosa             1.0                 0.0                0.0\n",
       "2       setosa             1.0                 0.0                0.0\n",
       "3       setosa             1.0                 0.0                0.0\n",
       "4       setosa             1.0                 0.0                0.0\n",
       "..         ...             ...                 ...                ...\n",
       "145  virginica             0.0                 0.0                1.0\n",
       "146  virginica             0.0                 0.0                1.0\n",
       "147  virginica             0.0                 0.0                1.0\n",
       "148  virginica             0.0                 0.0                1.0\n",
       "149  virginica             0.0                 0.0                1.0\n",
       "\n",
       "[150 rows x 4 columns]"
      ]
     },
     "execution_count": 26,
     "metadata": {},
     "output_type": "execute_result"
    }
   ],
   "source": [
    "# So we are going to convert the 'species' column of df_iris dataframe into numerical data using One Hot Encoding.\n",
    "\n",
    "from sklearn.preprocessing import OneHotEncoder\n",
    "\n",
    "# Initializing the OneHotEncoder Class.\n",
    "\n",
    "encoder = OneHotEncoder()\n",
    "\n",
    "# Training the OneHotencoder with the existing data(fit prt) and Encoding the species column data(transform \n",
    "# part) and converting the encoded data into array.\n",
    "\n",
    "Encoded_Species_Data = encoder.fit_transform(df_iris[['species']]).toarray()\n",
    "\n",
    "# converting the encoded array data into DataFrame\n",
    "\n",
    "# encoder.get_feature_names_out() - helping to set the column names according to the categorical data\n",
    "\n",
    "encoded_species_df = pd.DataFrame(Encoded_Species_Data,columns=encoder.get_feature_names_out())\n",
    "\n",
    "# merging the 'species' column into the newly created df so that we can see the Encoded values of the\n",
    "# categorical values side by side.\n",
    "\n",
    "OneHotEncoded_df = pd.concat([df_iris['species'], encoded_species_df], axis=1)\n",
    "\n",
    "OneHotEncoded_df"
   ]
  },
  {
   "cell_type": "code",
   "execution_count": 30,
   "id": "8f771a46-222e-4ff0-bce7-77e2deef3c92",
   "metadata": {},
   "outputs": [
    {
     "name": "stderr",
     "output_type": "stream",
     "text": [
      "/opt/conda/lib/python3.10/site-packages/sklearn/base.py:409: UserWarning: X does not have valid feature names, but OneHotEncoder was fitted with feature names\n",
      "  warnings.warn(\n"
     ]
    },
    {
     "data": {
      "text/plain": [
       "array([[1., 0., 0.]])"
      ]
     },
     "execution_count": 30,
     "metadata": {},
     "output_type": "execute_result"
    }
   ],
   "source": [
    "# Encoding a New Data with \n",
    "\n",
    "new_encoded_data = encoder.transform([['setosa']]).toarray()\n",
    "\n",
    "new_encoded_data"
   ]
  },
  {
   "cell_type": "markdown",
   "id": "eebbc0d9-6771-4ba5-8955-46a48718e0ac",
   "metadata": {},
   "source": [
    "## Q3. In what situations is nominal encoding preferred over one-hot encoding? Provide a practical example.\n",
    "\n",
    "\n"
   ]
  },
  {
   "cell_type": "markdown",
   "id": "6060b374-53a5-4ff7-b5ff-d2ffa209b52f",
   "metadata": {},
   "source": [
    "One Hot Encoding is a type of Nominal Encoding. So, to encode the nominal data, we wil use One Hot Encoding technique."
   ]
  },
  {
   "cell_type": "markdown",
   "id": "0d1a2359-7fa8-488c-81a3-69beda7460c8",
   "metadata": {},
   "source": [
    "## Q4. Suppose you have a dataset containing categorical data with 5 unique values. Which encoding technique would you use to transform this data into a format suitable for machine learning algorithms? Explain why you made this choice.\n"
   ]
  },
  {
   "cell_type": "markdown",
   "id": "bb0a160e-1228-459b-aee5-791d14bbb427",
   "metadata": {},
   "source": [
    "* If those unique values, does not have any relation with each other, i.e they are Nominal Data, then I am going to use the One Hot Encoding Technique to Encode them.\n",
    "\n",
    "* If those unique values in the feature have raltionship or rank between them, then I am going to use the Label Encoding or Ordinal Encoding technique."
   ]
  },
  {
   "cell_type": "markdown",
   "id": "e6abf73f-5a90-45d7-ab77-2aabeaac1d62",
   "metadata": {},
   "source": [
    "## Q5. In a machine learning project, you have a dataset with 1000 rows and 5 columns. Two of the columns are categorical, and the remaining three columns are numerical. If you were to use nominal encoding to transform the categorical data, how many new columns would be created? Show your calculations.\n"
   ]
  },
  {
   "cell_type": "markdown",
   "id": "1b0cc7e2-d318-443b-8482-1362f6066252",
   "metadata": {},
   "source": [
    "Suppose, 'Col1' and 'Col2' have categorical data. And, both have 3 unique nominal values.\n",
    "\n",
    "So, in nominal encoding, 'Col1' will be converted into 3 new columns and 'Col2' also will be converted into 3 new columns.\n",
    "\n",
    "\n",
    "So, now after encoding of 'Col1' & 'Col2', there will be total 6+3=9 columns in the dataset."
   ]
  },
  {
   "cell_type": "markdown",
   "id": "113b087f-d773-49b2-8ca5-32179e872fc2",
   "metadata": {},
   "source": [
    "## Q6. You are working with a dataset containing information about different types of animals, including their species, habitat, and diet. Which encoding technique would you use to transform the categorical data into a format suitable for machine learning algorithms? Justify your answer."
   ]
  },
  {
   "cell_type": "markdown",
   "id": "bca9385b-08a7-40c8-85d0-ebd83b429053",
   "metadata": {},
   "source": [
    "Species, Diet and Habitat all are Nominal categorical data which does not have any order or rank or relationship within themselve. So in this case, we will use Nominal Encoding to transform the data."
   ]
  },
  {
   "cell_type": "markdown",
   "id": "989fc8d7-a8b8-4e64-b9bd-294f49b22ac7",
   "metadata": {},
   "source": [
    "## Q7.You are working on a project that involves predicting customer churn for a telecommunications company. You have a dataset with 5 features, including the customer's gender, age, contract type, monthly charges, and tenure. Which encoding technique(s) would you use to transform the categorical data into numerical data? Provide a step-by-step explanation of how you would implement the encoding."
   ]
  },
  {
   "cell_type": "markdown",
   "id": "85b390c4-2c49-4c72-ab17-ed2a2dee16d5",
   "metadata": {},
   "source": [
    "1. First, we will select features with categorical data. In this case: gender, contract type & Tenure.\n",
    "\n",
    "2. We will detect which categorical data the features are having to define which encoding technique to apply. In this case, all three features are having Nominal Data, so we will use Nominal encoding.\n",
    "\n",
    "3. Import the OneHotEncoder from sklearn.preprocessing library\n",
    "\n",
    "4. Initialize the encoder\n",
    "\n",
    "5. using fit_transform() function of OneHotEncoder , will train the model and transform the Nominal data into Numerical data."
   ]
  }
 ],
 "metadata": {
  "kernelspec": {
   "display_name": "Python 3 (ipykernel)",
   "language": "python",
   "name": "python3"
  },
  "language_info": {
   "codemirror_mode": {
    "name": "ipython",
    "version": 3
   },
   "file_extension": ".py",
   "mimetype": "text/x-python",
   "name": "python",
   "nbconvert_exporter": "python",
   "pygments_lexer": "ipython3",
   "version": "3.10.8"
  }
 },
 "nbformat": 4,
 "nbformat_minor": 5
}
