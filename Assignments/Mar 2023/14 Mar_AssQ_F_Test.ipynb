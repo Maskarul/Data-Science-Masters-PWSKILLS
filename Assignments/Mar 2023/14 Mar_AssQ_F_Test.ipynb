{
 "cells": [
  {
   "cell_type": "markdown",
   "id": "96e306a7-67f4-475c-ac79-4e0bd3e3784f",
   "metadata": {},
   "source": [
    "## Q1. Write a Python function that takes in two arrays of data and calculates the F-value for a variance ratio test. The function should return the F-value and the corresponding p-value for the test.\r\n"
   ]
  },
  {
   "cell_type": "code",
   "execution_count": 1,
   "id": "dceb43e1-8196-4efe-8e75-f5c573e3d738",
   "metadata": {},
   "outputs": [],
   "source": [
    "import numpy as np\n",
    "import scipy.stats as stat"
   ]
  },
  {
   "cell_type": "code",
   "execution_count": 2,
   "id": "da0f2eb3-184a-4c6f-a09e-d9b1616619cc",
   "metadata": {},
   "outputs": [],
   "source": [
    "group_a = [80, 85, 90, 92, 87, 83]\n",
    "group_b = [75, 78, 82, 79, 81, 84]\n",
    "alpha = 0.99"
   ]
  },
  {
   "cell_type": "code",
   "execution_count": 3,
   "id": "a8fe6a4e-9139-4e96-8cbc-ddaae32d3324",
   "metadata": {},
   "outputs": [],
   "source": [
    "variance_a = np.var(group_a)\n",
    "variance_b = np.var(group_b)"
   ]
  },
  {
   "cell_type": "code",
   "execution_count": 4,
   "id": "c940d2ec-4cf8-4b82-837c-b57580b4fbad",
   "metadata": {},
   "outputs": [],
   "source": [
    "f_value = variance_a/variance_b"
   ]
  },
  {
   "cell_type": "code",
   "execution_count": 5,
   "id": "1830559b-2e9b-4ba3-a9f1-65daf4c59a13",
   "metadata": {},
   "outputs": [],
   "source": [
    "df_a = len(group_a) - 1\n",
    "df_b = len(group_b) - 1"
   ]
  },
  {
   "cell_type": "code",
   "execution_count": 6,
   "id": "1a379194-95e9-4d0a-acf2-b9257cfb9b27",
   "metadata": {},
   "outputs": [],
   "source": [
    "p_value = stat.f.cdf(f_value, df_a, df_b)"
   ]
  },
  {
   "cell_type": "code",
   "execution_count": 7,
   "id": "188098de-f66a-4230-b26e-5b2ef03e495c",
   "metadata": {},
   "outputs": [
    {
     "name": "stdout",
     "output_type": "stream",
     "text": [
      "Degree of freedom 1: 5\n",
      "Degree of freedom 2: 5\n",
      "F-statistic: 1.9442622950819677\n",
      "p-value: 0.7584478225464656\n"
     ]
    }
   ],
   "source": [
    "print('Degree of freedom 1:',df_a)\n",
    "print('Degree of freedom 2:',df_b)\n",
    "print(\"F-statistic:\", f_value)\n",
    "print(\"p-value:\", p_value)"
   ]
  },
  {
   "cell_type": "markdown",
   "id": "faa18679-e180-41f0-b449-df4cb925d856",
   "metadata": {},
   "source": [
    "## Q2. Given a significance level of 0.05 and the degrees of freedom for the numerator and denominator of an F-distribution, write a Python function that returns the critical F-value for a two-tailed test"
   ]
  },
  {
   "cell_type": "code",
   "execution_count": 9,
   "id": "afdca71c-daa9-4b10-bf1a-0183d8a4588d",
   "metadata": {},
   "outputs": [
    {
     "data": {
      "text/html": [
       "<div>\n",
       "<style scoped>\n",
       "    .dataframe tbody tr th:only-of-type {\n",
       "        vertical-align: middle;\n",
       "    }\n",
       "\n",
       "    .dataframe tbody tr th {\n",
       "        vertical-align: top;\n",
       "    }\n",
       "\n",
       "    .dataframe thead th {\n",
       "        text-align: right;\n",
       "    }\n",
       "</style>\n",
       "<table border=\"1\" class=\"dataframe\">\n",
       "  <thead>\n",
       "    <tr style=\"text-align: right;\">\n",
       "      <th></th>\n",
       "      <th>sum_sq</th>\n",
       "      <th>df</th>\n",
       "      <th>F</th>\n",
       "      <th>PR(&gt;F)</th>\n",
       "    </tr>\n",
       "  </thead>\n",
       "  <tbody>\n",
       "    <tr>\n",
       "      <th>C(water)</th>\n",
       "      <td>8.533333</td>\n",
       "      <td>1.0</td>\n",
       "      <td>16.0000</td>\n",
       "      <td>0.000527</td>\n",
       "    </tr>\n",
       "    <tr>\n",
       "      <th>C(sun)</th>\n",
       "      <td>24.866667</td>\n",
       "      <td>2.0</td>\n",
       "      <td>23.3125</td>\n",
       "      <td>0.000002</td>\n",
       "    </tr>\n",
       "    <tr>\n",
       "      <th>C(water):C(sun)</th>\n",
       "      <td>2.466667</td>\n",
       "      <td>2.0</td>\n",
       "      <td>2.3125</td>\n",
       "      <td>0.120667</td>\n",
       "    </tr>\n",
       "    <tr>\n",
       "      <th>Residual</th>\n",
       "      <td>12.800000</td>\n",
       "      <td>24.0</td>\n",
       "      <td>NaN</td>\n",
       "      <td>NaN</td>\n",
       "    </tr>\n",
       "  </tbody>\n",
       "</table>\n",
       "</div>"
      ],
      "text/plain": [
       "                    sum_sq    df        F    PR(>F)\n",
       "C(water)          8.533333   1.0  16.0000  0.000527\n",
       "C(sun)           24.866667   2.0  23.3125  0.000002\n",
       "C(water):C(sun)   2.466667   2.0   2.3125  0.120667\n",
       "Residual         12.800000  24.0      NaN       NaN"
      ]
     },
     "execution_count": 9,
     "metadata": {},
     "output_type": "execute_result"
    }
   ],
   "source": [
    "# Importing libraries \n",
    "import statsmodels.api as sm \n",
    "from statsmodels.formula.api import ols \n",
    "import numpy as np\n",
    "import pandas as pd\n",
    "\n",
    "#create data\n",
    "df = pd.DataFrame({'water': np.repeat(['daily', 'weekly'], 15),\n",
    "                   'sun': np.tile(np.repeat(['low', 'med', 'high'], 5), 2),\n",
    "                   'height': [6, 6, 6, 5, 6, 5, 5, 6, 4, 5,\n",
    "                              6, 6, 7, 8, 7, 3, 4, 4, 4, 5,\n",
    "                              4, 4, 4, 4, 4, 5, 6, 6, 7, 8]})\n",
    "\n",
    "\n",
    "#perform two-way ANOVA\n",
    "model = ols('height ~ C(water) + C(sun) + C(water):C(sun)', data=df).fit()\n",
    "sm.stats.anova_lm(model, typ=2)\n",
    "\n"
   ]
  },
  {
   "cell_type": "markdown",
   "id": "21a7e89e-f9c4-4933-9615-2331d6bbb5e4",
   "metadata": {},
   "source": [
    "We can see the following p-values for each of the factors in the table:\n",
    "\n",
    "\n",
    "water: p-value = .000527,\n",
    "  \n",
    "Sun: p-value = .0000002\n",
    "\n",
    "water*sun: p-value = .1206670667"
   ]
  },
  {
   "cell_type": "markdown",
   "id": "009bb170-ff61-40a2-bf53-be59d43d9850",
   "metadata": {},
   "source": [
    "Since the p-values for water and sun are both less than .05, this means that both factors have a statistically significant effect on plant height.\n",
    "\n",
    "And since the p-value for the interaction effect (.120667) is not less than .05, this tells us that there is no significant interaction effect between sunlight exposure and watering frequency.\n",
    "\n",
    "Note: Although the ANOVA results tell us that watering frequency and sunlight exposure have a statistically significant effect on plant height, we would need to perform post-hoc tests to determine exactly how different levels of water and sunlight affect plant height."
   ]
  },
  {
   "cell_type": "markdown",
   "id": "9f9f77a5-4f8c-481b-9f78-16d70bc9522d",
   "metadata": {},
   "source": [
    "## Q3. Write a Python program that generates random samples from two normal distributions with known variances and uses an F-test to determine if the variances are equal. The program should output the Fvalue, degrees of freedom, and p-value for the test.\r\n"
   ]
  },
  {
   "cell_type": "code",
   "execution_count": 18,
   "id": "06fd6205-0cbc-4047-bcfd-4ed3bb8aa9fb",
   "metadata": {},
   "outputs": [
    {
     "name": "stdin",
     "output_type": "stream",
     "text": [
      "Enter the Variance_1: 2\n",
      "Enter the Variance_2: 7\n"
     ]
    },
    {
     "name": "stdout",
     "output_type": "stream",
     "text": [
      "[10.10179123 10.19868154  9.74093234  8.47681257 10.50526331 10.37829332\n",
      "  9.22167887  8.91074821 11.14931839 10.5591079 ]\n",
      "[ 8.48108999  7.59227763 10.63535518  6.66884585  7.72118972 13.32390537\n",
      "  8.94261369  9.23793925  9.15201103  7.14034289]\n"
     ]
    }
   ],
   "source": [
    "import numpy as np\n",
    "\n",
    "var_1 = float(input(\"Enter the Variance_1:\"))\n",
    "var_2 = float(input(\"Enter the Variance_2:\"))\n",
    "\n",
    "mean_1 = 10\n",
    "mean_2 = 10\n",
    "\n",
    "size_1 = 10\n",
    "size_2 = 10\n",
    "\n",
    "#generating the data\n",
    "\n",
    "normal_data_1 = np.random.normal(loc=mean_1, scale=np.sqrt(var_1), size=size_1)\n",
    "normal_data_2 = np.random.normal(loc=mean_2, scale=np.sqrt(var_2), size=size_2)\n",
    "\n",
    "print(normal_data_1)\n",
    "print(normal_data_2)"
   ]
  },
  {
   "cell_type": "code",
   "execution_count": 21,
   "id": "e3ceaa8f-56b1-40cd-b8dc-1cbd6d7e2394",
   "metadata": {},
   "outputs": [
    {
     "name": "stdout",
     "output_type": "stream",
     "text": [
      "Degree of freedom 1: 9\n",
      "Degree of freedom 2: 9\n",
      "F-statistic: 0.2857142857142857\n",
      "p-value: 0.3869845600725601\n",
      "Accept the Null Hypothesis that Var(X) == Var(Y)\n"
     ]
    }
   ],
   "source": [
    "import scipy.stats as stats\n",
    "\n",
    "# Calculate the F-statistic\n",
    "f_value = var_1 / var_2\n",
    "\n",
    "# Calculate the degrees of freedom\n",
    "df1 = size_1 - 1\n",
    "df2 = size_2 - 1\n",
    "\n",
    "# Calculate the p-value\n",
    "p_value = stats.f.pdf(f_value, df1, df2)\n",
    "\n",
    "# Print the results\n",
    "print('Degree of freedom 1:',df1)\n",
    "print('Degree of freedom 2:',df2)\n",
    "print(\"F-statistic:\", f_value)\n",
    "print(\"p-value:\", p_value)\n",
    "\n",
    "# assume significance Level is 5%\n",
    "\n",
    "alpha = 0.95\n",
    "\n",
    "if p_value > alpha:\n",
    "    print(\"Reject the null hypothesis that Var(X) == Var(Y)\")\n",
    "else:\n",
    "    print(\"Accept the Null Hypothesis that Var(X) == Var(Y)\")"
   ]
  },
  {
   "cell_type": "markdown",
   "id": "140d02c7-c017-446b-a71d-aea4d3458dae",
   "metadata": {},
   "source": [
    "## Q4.The variances of two populations are known to be 10 and 15. A sample of 12 observations is taken from each population. Conduct an F-test at the 5% significance level to determine if the variances are significantly different.\r\n"
   ]
  },
  {
   "cell_type": "code",
   "execution_count": 22,
   "id": "902119f3-936c-4f29-9929-c88cae09a989",
   "metadata": {},
   "outputs": [],
   "source": [
    "# provided\n",
    "\n",
    "var_11 = 10\n",
    "var_12 = 15\n",
    "\n",
    "sample_size_both = 12\n",
    "\n",
    "alpha = 0.95"
   ]
  },
  {
   "cell_type": "code",
   "execution_count": 23,
   "id": "ddd8f98c-c4a5-4a57-acc6-faaa51b87048",
   "metadata": {},
   "outputs": [
    {
     "name": "stdout",
     "output_type": "stream",
     "text": [
      "F-statistic: 0.6666666666666666\n",
      "p-value: 0.2561948993678998\n",
      "Accept the Null Hypothesis that Var(X) == Var(Y)\n"
     ]
    }
   ],
   "source": [
    "import numpy as np\n",
    "import scipy.stats as stat\n",
    "\n",
    "f_value = var_11/var_12\n",
    "\n",
    "df_both = sample_size_both - 1\n",
    "\n",
    "p_value = stat.f.cdf(f_value, df_both, df_both)\n",
    "\n",
    "print(\"F-statistic:\", f_value)\n",
    "print(\"p-value:\", p_value)\n",
    "\n",
    "if p_value > alpha:\n",
    "    print(\"Reject the null hypothesis that Var(X) == Var(Y)\")\n",
    "else:\n",
    "    print(\"Accept the Null Hypothesis that Var(X) == Var(Y)\")"
   ]
  },
  {
   "cell_type": "markdown",
   "id": "b01d0e5a-3c45-4f3d-90f5-7b95fdf85b27",
   "metadata": {},
   "source": [
    "## Q5. A manufacturer claims that the variance of the diameter of a certain product is 0.005. A sample of 25 products is taken, and the sample variance is found to be 0.006. Conduct an F-test at the 1% significance level to determine if the claim is justified.\r\n"
   ]
  },
  {
   "cell_type": "code",
   "execution_count": 24,
   "id": "78381c3f-657f-4c4a-be08-c309e701d45d",
   "metadata": {},
   "outputs": [],
   "source": [
    "# provided\n",
    "\n",
    "var_p1 = .005\n",
    "var_s1 = .006\n",
    "\n",
    "alpha = 0.99\n",
    "\n",
    "sample_size = 25\n"
   ]
  },
  {
   "cell_type": "code",
   "execution_count": 28,
   "id": "70d00947-e346-4698-9016-e76422685206",
   "metadata": {},
   "outputs": [
    {
     "name": "stdout",
     "output_type": "stream",
     "text": [
      "F-statistic: 0.8333333333333334\n",
      "p-value: 0.3293654682817239\n",
      "Accept the Null Hypothesis that Sample Variance == Product Variance\n"
     ]
    }
   ],
   "source": [
    "f_value = var_p1/var_s1\n",
    "\n",
    "degree_freedom = sample_size - 1\n",
    "\n",
    "p_value = stat.f.cdf(f_value,degree_freedom, degree_freedom)\n",
    "\n",
    "print(\"F-statistic:\", f_value)\n",
    "print(\"p-value:\", p_value)\n",
    "\n",
    "if p_value > alpha:\n",
    "    print(\"Reject the null hypothesis that Sample Variance == Product Variance\")\n",
    "else:\n",
    "    print(\"Accept the Null Hypothesis that Sample Variance == Product Variance\")"
   ]
  },
  {
   "cell_type": "markdown",
   "id": "299d29f5-8cd4-4453-a20f-362dfb5d7c0c",
   "metadata": {},
   "source": [
    "## Q6. Write a Python function that takes in the degrees of freedom for the numerator and denominator of an F-distribution and calculates the mean and variance of the distribution. The function should return the mean and variance as a tuple.\r\n"
   ]
  },
  {
   "cell_type": "code",
   "execution_count": 29,
   "id": "045cb396-9077-44e7-b626-82f2c28868f4",
   "metadata": {},
   "outputs": [],
   "source": [
    "def calculate_distribution(df1, df2):\n",
    "    mean = df2 / (df2 - 1)\n",
    "    variance = ((2 * df2 * (df1 + df2 -2))/ (df1 * (df2 - 2)**2 * (df2 - 4)))\n",
    "    return (mean, variance)"
   ]
  },
  {
   "cell_type": "code",
   "execution_count": 30,
   "id": "011cfec8-5df6-406d-b3ed-197751859300",
   "metadata": {},
   "outputs": [
    {
     "name": "stdout",
     "output_type": "stream",
     "text": [
      "(Mean, Variance):  (1.1, 0.09700176366843033)\n"
     ]
    }
   ],
   "source": [
    "mean_var = calculate_distribution(6,11)\n",
    "print(\"(Mean, Variance): \", mean_var)"
   ]
  },
  {
   "cell_type": "markdown",
   "id": "cee97fce-6e4c-41b2-8ee7-df65885b4a71",
   "metadata": {},
   "source": [
    "Source: \n",
    "1. https://www.sciencedirect.com/topics/mathematics/f-distribution"
   ]
  },
  {
   "cell_type": "markdown",
   "id": "6e304033-3224-46bd-9921-53012b1c3827",
   "metadata": {},
   "source": [
    "## Q7. A random sample of 10 measurements is taken from a normal population with unknown variance. The sample variance is found to be 25. Another random sample of 15 measurements is taken from another normal population with unknown variance, and the sample variance is found to be 20. Conduct an F-test at the 10% significance level to determine if the variances are significantly different.\r\n"
   ]
  },
  {
   "cell_type": "code",
   "execution_count": 31,
   "id": "3700e543-8c92-4dbd-b146-28d9e0ae7427",
   "metadata": {},
   "outputs": [],
   "source": [
    "sample_size_1 = 10\n",
    "sample_size_2 = 15\n",
    "\n",
    "sample_variance_1 = 25\n",
    "sample_variance_2 = 20\n",
    "\n",
    "alpha = 0.90"
   ]
  },
  {
   "cell_type": "code",
   "execution_count": 32,
   "id": "b1c13d95-e7dc-4be7-b7f0-3e45bd9d0115",
   "metadata": {},
   "outputs": [],
   "source": [
    "f_value = sample_variance_1/sample_variance_2"
   ]
  },
  {
   "cell_type": "code",
   "execution_count": 33,
   "id": "d3be42c4-db79-4065-8d0f-9e669f53270f",
   "metadata": {},
   "outputs": [],
   "source": [
    "df1 = sample_size_1 - 1\n",
    "df2 = sample_size_2 - 2"
   ]
  },
  {
   "cell_type": "code",
   "execution_count": 36,
   "id": "0b8e0cc0-0ec1-4516-95ce-89aa445e094a",
   "metadata": {},
   "outputs": [],
   "source": [
    "p_value = stat.f.cdf(f_value, df1, df2)"
   ]
  },
  {
   "cell_type": "code",
   "execution_count": 38,
   "id": "eca9dc92-8a6a-4fbe-adb7-636120ebf96e",
   "metadata": {},
   "outputs": [
    {
     "name": "stdout",
     "output_type": "stream",
     "text": [
      "F-statistic: 1.25\n",
      "p-value: 0.6536719696789688\n",
      "Accept the Null Hypothesis that First Sample Variance == Second Sample Variance\n"
     ]
    }
   ],
   "source": [
    "print(\"F-statistic:\", f_value)\n",
    "print(\"p-value:\", p_value)\n",
    "\n",
    "if p_value > alpha:\n",
    "    print(\"Reject the null hypothesis that First Sample Variance == Second Sample Variance\")\n",
    "else:\n",
    "    print(\"Accept the Null Hypothesis that First Sample Variance == Second Sample Variance\")"
   ]
  },
  {
   "cell_type": "markdown",
   "id": "363939df-62d4-48ee-919a-214a9ebb279d",
   "metadata": {},
   "source": [
    "## Q8. The following data represent the waiting times in minutes at two different restaurants on a Saturday night: Restaurant A: 24, 25, 28, 23, 22, 20, 27; Restaurant B: 31, 33, 35, 30, 32, 36. Conduct an F-test at the 5% significance level to determine if the variances are significantly different.\r\n"
   ]
  },
  {
   "cell_type": "code",
   "execution_count": 2,
   "id": "cf7efe6e-2847-4e42-ba53-61947ed9c357",
   "metadata": {},
   "outputs": [],
   "source": [
    "res_a_data = [24, 25, 28, 23, 22, 20, 27]\n",
    "res_b_data = [31, 33, 35, 30, 32, 36]\n",
    "\n",
    "alpha = 0.95"
   ]
  },
  {
   "cell_type": "code",
   "execution_count": 1,
   "id": "829854ae-470c-46dd-9192-809cd306f9a8",
   "metadata": {},
   "outputs": [],
   "source": [
    "import numpy as np\n",
    "import scipy.stats as stat"
   ]
  },
  {
   "cell_type": "code",
   "execution_count": 3,
   "id": "1f5b6fab-4d4d-4257-9285-089ddb73ef17",
   "metadata": {},
   "outputs": [],
   "source": [
    "var_a = np.var(res_a_data)\n",
    "var_b = np.var(res_b_data)"
   ]
  },
  {
   "cell_type": "code",
   "execution_count": 4,
   "id": "765a519f-5080-4452-9f10-74f3d82b3371",
   "metadata": {},
   "outputs": [],
   "source": [
    "f_value = var_a/var_b"
   ]
  },
  {
   "cell_type": "code",
   "execution_count": 5,
   "id": "8c1e25c6-d61e-485a-ad9e-df1a66cc492c",
   "metadata": {},
   "outputs": [],
   "source": [
    "df_a = len(res_a_data) - 1\n",
    "df_b = len(res_b_data) - 1"
   ]
  },
  {
   "cell_type": "code",
   "execution_count": 8,
   "id": "169fb7f9-e0c9-43a0-bc55-572392bdb2b4",
   "metadata": {},
   "outputs": [],
   "source": [
    "p_value = stat.f.cdf(f_value, df_a, df_b)"
   ]
  },
  {
   "cell_type": "code",
   "execution_count": 9,
   "id": "9e2f891e-db84-4da9-8f7e-5a89730b0b91",
   "metadata": {},
   "outputs": [
    {
     "name": "stdout",
     "output_type": "stream",
     "text": [
      "F-statistic: 1.496767651159843\n",
      "p-value: 0.6625866430359175\n",
      "Accept the Null Hypothesis that First Sample Variance == Second Sample Variance\n"
     ]
    }
   ],
   "source": [
    "print(\"F-statistic:\", f_value)\n",
    "print(\"p-value:\", p_value)\n",
    "\n",
    "if p_value > alpha:\n",
    "    print(\"Reject the null hypothesis that First Sample Variance == Second Sample Variance\")\n",
    "else:\n",
    "    print(\"Accept the Null Hypothesis that First Sample Variance == Second Sample Variance\")"
   ]
  },
  {
   "cell_type": "markdown",
   "id": "63cb1fd7-23b1-4c79-b2cd-7910b79a7217",
   "metadata": {},
   "source": [
    "## Q9. The following data represent the test scores of two groups of students: Group A: 80, 85, 90, 92, 87, 83; Group B: 75, 78, 82, 79, 81, 84. Conduct an F test at the 1% significance level to determine if the variances are significantly different.t."
   ]
  },
  {
   "cell_type": "code",
   "execution_count": 1,
   "id": "60b714ca-14da-4030-a3bb-55bd4857b9ce",
   "metadata": {},
   "outputs": [],
   "source": [
    "student_a = [80, 85, 90, 92, 87, 83]\n",
    "student_b = [75, 78, 82, 79, 81, 84]\n",
    "\n",
    "alpha = 0.99"
   ]
  },
  {
   "cell_type": "code",
   "execution_count": 2,
   "id": "087bb330-16f5-48a7-82d1-5e3d00e85f5d",
   "metadata": {},
   "outputs": [],
   "source": [
    "import numpy as np\n",
    "import scipy.stats as stat"
   ]
  },
  {
   "cell_type": "code",
   "execution_count": 4,
   "id": "aa0810af-cf2d-406b-ba50-32f2fa86b5f1",
   "metadata": {},
   "outputs": [],
   "source": [
    "df_a = len(student_a) - 1\n",
    "df_b = len(student_b) - 1"
   ]
  },
  {
   "cell_type": "code",
   "execution_count": 5,
   "id": "965076bd-ba81-4823-879d-981aab98c52c",
   "metadata": {},
   "outputs": [],
   "source": [
    "var_a = np.var(student_a)\n",
    "var_b = np.var(student_b)"
   ]
  },
  {
   "cell_type": "code",
   "execution_count": 6,
   "id": "1f1da451-aa05-407d-9a25-782b6d308f31",
   "metadata": {},
   "outputs": [],
   "source": [
    "f_value = var_a/var_b"
   ]
  },
  {
   "cell_type": "code",
   "execution_count": 7,
   "id": "a1b6ce73-54b9-4546-bcff-ce1ae71365fa",
   "metadata": {},
   "outputs": [],
   "source": [
    "p_value = stat.f.cdf(f_value, df_a, df_b)"
   ]
  },
  {
   "cell_type": "code",
   "execution_count": 9,
   "id": "0c76e217-3a73-442c-8503-2586ef17326a",
   "metadata": {},
   "outputs": [
    {
     "name": "stdout",
     "output_type": "stream",
     "text": [
      "F-statistic: 1.9442622950819677\n",
      "p-value: 0.7584478225464656\n",
      "Accept the Null Hypothesis that Sample Variance of Group A == Sample Variance of Group B\n"
     ]
    }
   ],
   "source": [
    "print(\"F-statistic:\", f_value)\n",
    "print(\"p-value:\", p_value)\n",
    "\n",
    "if p_value > alpha:\n",
    "    print(\"Reject the null hypothesis that Sample Variance of Group A == Sample Variance of Group B\")\n",
    "else:\n",
    "    print(\"Accept the Null Hypothesis that Sample Variance of Group A == Sample Variance of Group B\")"
   ]
  },
  {
   "cell_type": "code",
   "execution_count": null,
   "id": "9eb76e1d-573d-4563-9de9-c068214d0dc0",
   "metadata": {},
   "outputs": [],
   "source": []
  }
 ],
 "metadata": {
  "kernelspec": {
   "display_name": "Python 3 (ipykernel)",
   "language": "python",
   "name": "python3"
  },
  "language_info": {
   "codemirror_mode": {
    "name": "ipython",
    "version": 3
   },
   "file_extension": ".py",
   "mimetype": "text/x-python",
   "name": "python",
   "nbconvert_exporter": "python",
   "pygments_lexer": "ipython3",
   "version": "3.12.4"
  }
 },
 "nbformat": 4,
 "nbformat_minor": 5
}
