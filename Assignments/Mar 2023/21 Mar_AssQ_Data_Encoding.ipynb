{
 "cells": [
  {
   "cell_type": "markdown",
   "id": "64b77de6-614d-44fb-af60-47af1bc90d6e",
   "metadata": {},
   "source": [
    "## Q1. What is the difference between Ordinal Encoding and Label Encoding? Provide an example of when you might choose one over the other.\n"
   ]
  },
  {
   "cell_type": "markdown",
   "id": "9c25b567-22b8-4ce9-8c70-cc95bb01a814",
   "metadata": {},
   "source": [
    "#### <b><u>Difference Between Ordinal Encoding and Label Encoding</u></b>:\n",
    "\n",
    "In Label Encoding, it assign the numerical value to the categorical data 'arbitrarily'. Their labels have no actual meaning, but they are simple to deal with. Ordinal encoding is a slightly-advanced form of label encoding; we assign labels based on an order or hierarchy. \n",
    "\n",
    "#### <b><u>Example</u></b>:\n",
    "\n",
    "If we have to assign labels to colors from a features in a dataset, we can assign numbers to color at random, thus Label Enoding can be used in this case. However, if we are dealing with cuts of diamonds, we may want to set up a system where the worse cuts are either assigned a higher or lower number. In this case, we will use Ordinal Encoding."
   ]
  },
  {
   "cell_type": "markdown",
   "id": "4a8c9171-e3f4-4e1e-b6f7-b433d5044202",
   "metadata": {},
   "source": [
    "## Q2. Explain how Target Guided Ordinal Encoding works and provide an example of when you might use it in a machine learning project. "
   ]
  },
  {
   "cell_type": "markdown",
   "id": "29a99a58-f481-4bfa-abaa-0a763902ea3b",
   "metadata": {},
   "source": [
    "#### <b><u>Target Guided Ordinal Encoding works</u></b>:\n",
    "\n",
    "Target encoding aligns unique categorical values with the target feature based on the average relationship. \n",
    "\n",
    "Say we are presented with a data set trying to predict a house’s price range based on color and our colors are red, yellow, and blue. Let’s also say our price ranges for houses are 1, 2, 3, and 4 and our features include basic housing things like square footage and other features (but also color). If we see that red houses tend to fall on average at a 3.35, it means red houses are slightly above a 3 but far below a 4. We then assign every occurrence of the value red to 3.35 as that is the mean target value. This is taking label and ordinal encoding to the next level. We introduce meaningful numbers to take the place of colors as opposed to arbitrary numbers. Also, if blue houses fall at 3.34, or even at 3.35 like red, we have no problem and can assign the number 3.34 or 3.35 to blue. This “double-labeling” (that’s what I have decided to call it) would be impossible with label or ordinal encoding.\n",
    "\n",
    "\n"
   ]
  },
  {
   "cell_type": "code",
   "execution_count": 11,
   "id": "c5bd14cc-b711-462d-b308-b11e61332f9f",
   "metadata": {},
   "outputs": [
    {
     "data": {
      "text/html": [
       "<div>\n",
       "<style scoped>\n",
       "    .dataframe tbody tr th:only-of-type {\n",
       "        vertical-align: middle;\n",
       "    }\n",
       "\n",
       "    .dataframe tbody tr th {\n",
       "        vertical-align: top;\n",
       "    }\n",
       "\n",
       "    .dataframe thead th {\n",
       "        text-align: right;\n",
       "    }\n",
       "</style>\n",
       "<table border=\"1\" class=\"dataframe\">\n",
       "  <thead>\n",
       "    <tr style=\"text-align: right;\">\n",
       "      <th></th>\n",
       "      <th>total_bill</th>\n",
       "      <th>tip</th>\n",
       "      <th>sex</th>\n",
       "      <th>smoker</th>\n",
       "      <th>day</th>\n",
       "      <th>time</th>\n",
       "      <th>size</th>\n",
       "    </tr>\n",
       "  </thead>\n",
       "  <tbody>\n",
       "    <tr>\n",
       "      <th>0</th>\n",
       "      <td>16.99</td>\n",
       "      <td>1.01</td>\n",
       "      <td>Female</td>\n",
       "      <td>No</td>\n",
       "      <td>Sun</td>\n",
       "      <td>Dinner</td>\n",
       "      <td>2</td>\n",
       "    </tr>\n",
       "    <tr>\n",
       "      <th>1</th>\n",
       "      <td>10.34</td>\n",
       "      <td>1.66</td>\n",
       "      <td>Male</td>\n",
       "      <td>No</td>\n",
       "      <td>Sun</td>\n",
       "      <td>Dinner</td>\n",
       "      <td>3</td>\n",
       "    </tr>\n",
       "    <tr>\n",
       "      <th>2</th>\n",
       "      <td>21.01</td>\n",
       "      <td>3.50</td>\n",
       "      <td>Male</td>\n",
       "      <td>No</td>\n",
       "      <td>Sun</td>\n",
       "      <td>Dinner</td>\n",
       "      <td>3</td>\n",
       "    </tr>\n",
       "    <tr>\n",
       "      <th>3</th>\n",
       "      <td>23.68</td>\n",
       "      <td>3.31</td>\n",
       "      <td>Male</td>\n",
       "      <td>No</td>\n",
       "      <td>Sun</td>\n",
       "      <td>Dinner</td>\n",
       "      <td>2</td>\n",
       "    </tr>\n",
       "    <tr>\n",
       "      <th>4</th>\n",
       "      <td>24.59</td>\n",
       "      <td>3.61</td>\n",
       "      <td>Female</td>\n",
       "      <td>No</td>\n",
       "      <td>Sun</td>\n",
       "      <td>Dinner</td>\n",
       "      <td>4</td>\n",
       "    </tr>\n",
       "  </tbody>\n",
       "</table>\n",
       "</div>"
      ],
      "text/plain": [
       "   total_bill   tip     sex smoker  day    time  size\n",
       "0       16.99  1.01  Female     No  Sun  Dinner     2\n",
       "1       10.34  1.66    Male     No  Sun  Dinner     3\n",
       "2       21.01  3.50    Male     No  Sun  Dinner     3\n",
       "3       23.68  3.31    Male     No  Sun  Dinner     2\n",
       "4       24.59  3.61  Female     No  Sun  Dinner     4"
      ]
     },
     "execution_count": 11,
     "metadata": {},
     "output_type": "execute_result"
    }
   ],
   "source": [
    "import seaborn as sns\n",
    "import pandas as pd\n",
    "\n",
    "df_tips=sns.load_dataset('tips')\n",
    "df_tips.head()"
   ]
  },
  {
   "cell_type": "code",
   "execution_count": 24,
   "id": "0680bd64-ca37-490d-976a-0545fe749eb2",
   "metadata": {},
   "outputs": [
    {
     "data": {
      "text/plain": [
       "['Dinner', 'Lunch']\n",
       "Categories (2, object): ['Lunch', 'Dinner']"
      ]
     },
     "execution_count": 24,
     "metadata": {},
     "output_type": "execute_result"
    }
   ],
   "source": [
    "df_tips['time'].unique()"
   ]
  },
  {
   "cell_type": "code",
   "execution_count": 25,
   "id": "375989b0-93d6-47a9-8f05-1a1bff9c02eb",
   "metadata": {},
   "outputs": [
    {
     "data": {
      "text/html": [
       "<div>\n",
       "<style scoped>\n",
       "    .dataframe tbody tr th:only-of-type {\n",
       "        vertical-align: middle;\n",
       "    }\n",
       "\n",
       "    .dataframe tbody tr th {\n",
       "        vertical-align: top;\n",
       "    }\n",
       "\n",
       "    .dataframe thead th {\n",
       "        text-align: right;\n",
       "    }\n",
       "</style>\n",
       "<table border=\"1\" class=\"dataframe\">\n",
       "  <thead>\n",
       "    <tr style=\"text-align: right;\">\n",
       "      <th></th>\n",
       "      <th>total_bill</th>\n",
       "      <th>tip</th>\n",
       "      <th>sex</th>\n",
       "      <th>smoker</th>\n",
       "      <th>day</th>\n",
       "      <th>time</th>\n",
       "      <th>size</th>\n",
       "    </tr>\n",
       "  </thead>\n",
       "  <tbody>\n",
       "    <tr>\n",
       "      <th>0</th>\n",
       "      <td>16.99</td>\n",
       "      <td>1.01</td>\n",
       "      <td>Female</td>\n",
       "      <td>No</td>\n",
       "      <td>Sun</td>\n",
       "      <td>3.10267</td>\n",
       "      <td>2</td>\n",
       "    </tr>\n",
       "    <tr>\n",
       "      <th>1</th>\n",
       "      <td>10.34</td>\n",
       "      <td>1.66</td>\n",
       "      <td>Male</td>\n",
       "      <td>No</td>\n",
       "      <td>Sun</td>\n",
       "      <td>3.10267</td>\n",
       "      <td>3</td>\n",
       "    </tr>\n",
       "    <tr>\n",
       "      <th>2</th>\n",
       "      <td>21.01</td>\n",
       "      <td>3.50</td>\n",
       "      <td>Male</td>\n",
       "      <td>No</td>\n",
       "      <td>Sun</td>\n",
       "      <td>3.10267</td>\n",
       "      <td>3</td>\n",
       "    </tr>\n",
       "    <tr>\n",
       "      <th>3</th>\n",
       "      <td>23.68</td>\n",
       "      <td>3.31</td>\n",
       "      <td>Male</td>\n",
       "      <td>No</td>\n",
       "      <td>Sun</td>\n",
       "      <td>3.10267</td>\n",
       "      <td>2</td>\n",
       "    </tr>\n",
       "    <tr>\n",
       "      <th>4</th>\n",
       "      <td>24.59</td>\n",
       "      <td>3.61</td>\n",
       "      <td>Female</td>\n",
       "      <td>No</td>\n",
       "      <td>Sun</td>\n",
       "      <td>3.10267</td>\n",
       "      <td>4</td>\n",
       "    </tr>\n",
       "  </tbody>\n",
       "</table>\n",
       "</div>"
      ],
      "text/plain": [
       "   total_bill   tip     sex smoker  day     time  size\n",
       "0       16.99  1.01  Female     No  Sun  3.10267     2\n",
       "1       10.34  1.66    Male     No  Sun  3.10267     3\n",
       "2       21.01  3.50    Male     No  Sun  3.10267     3\n",
       "3       23.68  3.31    Male     No  Sun  3.10267     2\n",
       "4       24.59  3.61  Female     No  Sun  3.10267     4"
      ]
     },
     "execution_count": 25,
     "metadata": {},
     "output_type": "execute_result"
    }
   ],
   "source": [
    "'''\n",
    "\n",
    "In the below code, we are going to replace the 'time' feature which has categorical values, with the average 'tip' value \n",
    "of the corresponding time. So, in this case, our target value is 'tip' and we are using Target Encoding.\n",
    "\n",
    "\n",
    "In our case, 'time' feature has two unique value, 'Dinner' & \"Lunch\". We will have to take all the 'tip' value at 'dinner'\n",
    "and calculate it's mean. Same thing for 'Lunch'. And, then will have replace 'Dinner' & 'Lunch' by their corresponding\n",
    "mean values.\n",
    "\n",
    "\n",
    "'''\n",
    "\n",
    "df_tips_encoded = df_tips.copy()\n",
    "\n",
    "# After grouping by the unique values under 'time' feature, we are calculating the mean of the 'tip' values of the corresponding\n",
    "# groups.\n",
    "\n",
    "mean_series = df_tips_encoded.groupby('time')['tip'].mean()\n",
    "\n",
    "df_tips_encoded['time'] = df_tips_encoded['time'].map(mean_series)\n",
    "\n",
    "df_tips_encoded.head()"
   ]
  },
  {
   "cell_type": "code",
   "execution_count": 28,
   "id": "cb0caeb1-7082-4da2-9415-7712ec16976f",
   "metadata": {},
   "outputs": [
    {
     "data": {
      "text/html": [
       "<div>\n",
       "<style scoped>\n",
       "    .dataframe tbody tr th:only-of-type {\n",
       "        vertical-align: middle;\n",
       "    }\n",
       "\n",
       "    .dataframe tbody tr th {\n",
       "        vertical-align: top;\n",
       "    }\n",
       "\n",
       "    .dataframe thead th {\n",
       "        text-align: right;\n",
       "    }\n",
       "</style>\n",
       "<table border=\"1\" class=\"dataframe\">\n",
       "  <thead>\n",
       "    <tr style=\"text-align: right;\">\n",
       "      <th></th>\n",
       "      <th>time</th>\n",
       "      <th>time</th>\n",
       "    </tr>\n",
       "  </thead>\n",
       "  <tbody>\n",
       "    <tr>\n",
       "      <th>0</th>\n",
       "      <td>Dinner</td>\n",
       "      <td>3.10267</td>\n",
       "    </tr>\n",
       "    <tr>\n",
       "      <th>1</th>\n",
       "      <td>Dinner</td>\n",
       "      <td>3.10267</td>\n",
       "    </tr>\n",
       "    <tr>\n",
       "      <th>2</th>\n",
       "      <td>Dinner</td>\n",
       "      <td>3.10267</td>\n",
       "    </tr>\n",
       "    <tr>\n",
       "      <th>3</th>\n",
       "      <td>Dinner</td>\n",
       "      <td>3.10267</td>\n",
       "    </tr>\n",
       "    <tr>\n",
       "      <th>4</th>\n",
       "      <td>Dinner</td>\n",
       "      <td>3.10267</td>\n",
       "    </tr>\n",
       "    <tr>\n",
       "      <th>...</th>\n",
       "      <td>...</td>\n",
       "      <td>...</td>\n",
       "    </tr>\n",
       "    <tr>\n",
       "      <th>239</th>\n",
       "      <td>Dinner</td>\n",
       "      <td>3.10267</td>\n",
       "    </tr>\n",
       "    <tr>\n",
       "      <th>240</th>\n",
       "      <td>Dinner</td>\n",
       "      <td>3.10267</td>\n",
       "    </tr>\n",
       "    <tr>\n",
       "      <th>241</th>\n",
       "      <td>Dinner</td>\n",
       "      <td>3.10267</td>\n",
       "    </tr>\n",
       "    <tr>\n",
       "      <th>242</th>\n",
       "      <td>Dinner</td>\n",
       "      <td>3.10267</td>\n",
       "    </tr>\n",
       "    <tr>\n",
       "      <th>243</th>\n",
       "      <td>Dinner</td>\n",
       "      <td>3.10267</td>\n",
       "    </tr>\n",
       "  </tbody>\n",
       "</table>\n",
       "<p>244 rows × 2 columns</p>\n",
       "</div>"
      ],
      "text/plain": [
       "       time     time\n",
       "0    Dinner  3.10267\n",
       "1    Dinner  3.10267\n",
       "2    Dinner  3.10267\n",
       "3    Dinner  3.10267\n",
       "4    Dinner  3.10267\n",
       "..      ...      ...\n",
       "239  Dinner  3.10267\n",
       "240  Dinner  3.10267\n",
       "241  Dinner  3.10267\n",
       "242  Dinner  3.10267\n",
       "243  Dinner  3.10267\n",
       "\n",
       "[244 rows x 2 columns]"
      ]
     },
     "execution_count": 28,
     "metadata": {},
     "output_type": "execute_result"
    }
   ],
   "source": [
    "# Concating just for ease of comparing.\n",
    "\n",
    "pd.concat([df_tips['time'], df_tips_encoded['time']], axis=1)"
   ]
  },
  {
   "cell_type": "markdown",
   "id": "28c30aa5-2e2f-4a91-b990-b9de787553bb",
   "metadata": {},
   "source": [
    "## Q3. Define covariance and explain why it is important in statistical analysis. How is covariance calculated?\n"
   ]
  },
  {
   "cell_type": "markdown",
   "id": "6e23b9bb-2f95-4a0e-8e9c-8f6b3eb55176",
   "metadata": {},
   "source": [
    "#### <b><u>Covariance</u></b>:\n",
    "\n",
    "Covariance in statistics measures the extent to which two variables vary linearly. It reveals whether two variables move in the same or opposite directions.\n",
    "\n",
    "\n",
    "#### <b><u>Importance in Statistical Analysis</u></b>:\n",
    "\n",
    "\n",
    "Covariance tells us about the direction of the relationship between two random variable. When the covariance between two variables is positive, they tend to move in the same direction. Conversely, a negative covariance signifies that the variables move in opposite directions.\n",
    "\n",
    "\n",
    "#### <b><u>Covariance Formula</u></b>:\n",
    "\n",
    "$Cov(X, Y) = Σ [(Xi - Xmean) * (Yi - Ymean)] / (n - 1)$\n",
    "\n",
    "\n",
    "Where:\n",
    "\n",
    "    Xᵢ and Yᵢ represent the observed values of X and Y.\n",
    "    X̄ and Ȳ denote their respective means.\n",
    "    N is the number of observations.\n"
   ]
  },
  {
   "cell_type": "markdown",
   "id": "cd7718c7-3b93-4370-9b5a-079a5880bddd",
   "metadata": {},
   "source": [
    "## Q4. For a dataset with the following categorical variables: Color (red, green, blue), Size (small, medium, large), and Material (wood, metal, plastic), perform label encoding using Python's scikit-learn library. Show your code and explain the output.\n"
   ]
  },
  {
   "cell_type": "code",
   "execution_count": 32,
   "id": "f6b41a16-0c48-4b2a-9e8e-5c19788e5584",
   "metadata": {},
   "outputs": [
    {
     "data": {
      "text/html": [
       "<div>\n",
       "<style scoped>\n",
       "    .dataframe tbody tr th:only-of-type {\n",
       "        vertical-align: middle;\n",
       "    }\n",
       "\n",
       "    .dataframe tbody tr th {\n",
       "        vertical-align: top;\n",
       "    }\n",
       "\n",
       "    .dataframe thead th {\n",
       "        text-align: right;\n",
       "    }\n",
       "</style>\n",
       "<table border=\"1\" class=\"dataframe\">\n",
       "  <thead>\n",
       "    <tr style=\"text-align: right;\">\n",
       "      <th></th>\n",
       "      <th>Color</th>\n",
       "      <th>Size</th>\n",
       "      <th>Material</th>\n",
       "    </tr>\n",
       "  </thead>\n",
       "  <tbody>\n",
       "    <tr>\n",
       "      <th>0</th>\n",
       "      <td>red</td>\n",
       "      <td>small</td>\n",
       "      <td>wood</td>\n",
       "    </tr>\n",
       "    <tr>\n",
       "      <th>1</th>\n",
       "      <td>green</td>\n",
       "      <td>medium</td>\n",
       "      <td>metal</td>\n",
       "    </tr>\n",
       "    <tr>\n",
       "      <th>2</th>\n",
       "      <td>blue</td>\n",
       "      <td>large</td>\n",
       "      <td>plastic</td>\n",
       "    </tr>\n",
       "  </tbody>\n",
       "</table>\n",
       "</div>"
      ],
      "text/plain": [
       "   Color    Size Material\n",
       "0    red   small     wood\n",
       "1  green  medium    metal\n",
       "2   blue   large  plastic"
      ]
     },
     "execution_count": 32,
     "metadata": {},
     "output_type": "execute_result"
    }
   ],
   "source": [
    "import pandas as pd\n",
    "\n",
    "df_wood = pd.DataFrame(\n",
    "    {'Color': ['red','green','blue'],\n",
    "     'Size': ['small','medium','large'],\n",
    "     'Material' : ['wood','metal','plastic']\n",
    "    })\n",
    "\n",
    "df_wood"
   ]
  },
  {
   "cell_type": "code",
   "execution_count": 39,
   "id": "77dd11b5-2699-46d7-aad6-d38553f84fde",
   "metadata": {},
   "outputs": [
    {
     "data": {
      "text/html": [
       "<div>\n",
       "<style scoped>\n",
       "    .dataframe tbody tr th:only-of-type {\n",
       "        vertical-align: middle;\n",
       "    }\n",
       "\n",
       "    .dataframe tbody tr th {\n",
       "        vertical-align: top;\n",
       "    }\n",
       "\n",
       "    .dataframe thead th {\n",
       "        text-align: right;\n",
       "    }\n",
       "</style>\n",
       "<table border=\"1\" class=\"dataframe\">\n",
       "  <thead>\n",
       "    <tr style=\"text-align: right;\">\n",
       "      <th></th>\n",
       "      <th>Color</th>\n",
       "      <th>Size</th>\n",
       "      <th>Material</th>\n",
       "    </tr>\n",
       "  </thead>\n",
       "  <tbody>\n",
       "    <tr>\n",
       "      <th>0</th>\n",
       "      <td>2</td>\n",
       "      <td>2</td>\n",
       "      <td>2</td>\n",
       "    </tr>\n",
       "    <tr>\n",
       "      <th>1</th>\n",
       "      <td>1</td>\n",
       "      <td>1</td>\n",
       "      <td>0</td>\n",
       "    </tr>\n",
       "    <tr>\n",
       "      <th>2</th>\n",
       "      <td>0</td>\n",
       "      <td>0</td>\n",
       "      <td>1</td>\n",
       "    </tr>\n",
       "  </tbody>\n",
       "</table>\n",
       "</div>"
      ],
      "text/plain": [
       "   Color  Size  Material\n",
       "0      2     2         2\n",
       "1      1     1         0\n",
       "2      0     0         1"
      ]
     },
     "execution_count": 39,
     "metadata": {},
     "output_type": "execute_result"
    }
   ],
   "source": [
    "from sklearn.preprocessing import LabelEncoder\n",
    "\n",
    "encoder = LabelEncoder()\n",
    "\n",
    "df_wood_encoded = df_wood.copy()\n",
    "\n",
    "df_wood_encoded['Color'] =  encoder.fit_transform(df_wood_encoded['Color'])\n",
    "df_wood_encoded['Size'] =  encoder.fit_transform(df_wood_encoded['Size'])\n",
    "df_wood_encoded['Material'] =  encoder.fit_transform(df_wood_encoded['Material'])\n",
    "\n",
    "df_wood_encoded"
   ]
  },
  {
   "cell_type": "markdown",
   "id": "c746fe62-25f0-447a-a72d-37a7696fc8f8",
   "metadata": {},
   "source": [
    "## Q5. Calculate the covariance matrix for the following variables in a dataset: Age, Income, and Education level. Interpret the results.\n"
   ]
  },
  {
   "cell_type": "markdown",
   "id": "fad24108-5de9-4491-943f-1b0a8b95dc4d",
   "metadata": {},
   "source": [
    "<table>\n",
    "    <tr>\n",
    "        <th></th>\n",
    "        <th>Age</th>\n",
    "        <th>Income</th>\n",
    "        <th>Educational Level</th>\n",
    "    </tr>\n",
    "    <tr>\n",
    "        <th>Age</th>\n",
    "        <td>VAR(Age)</td>\n",
    "        <td>COV(Age,Income)</td>\n",
    "        <td>COV(Age, Educational Level)</td>\n",
    "    </tr>\n",
    "    <tr>\n",
    "        <th>Income</th>\n",
    "        <td>COV(Income,Age)</td>\n",
    "        <td>VAR(Income)</td>\n",
    "        <td>COV(IIncome,Educational Level)</td>\n",
    "    </tr>\n",
    "    <tr>\n",
    "        <th>Educational Level</th>\n",
    "        <td>COV(Educational Level,Age)</td>\n",
    "        <td>COV(Educational Level, Incomes)</td>\n",
    "        <td>VAR(Educational Level)</td>\n",
    "    </tr>\n",
    "</table>"
   ]
  },
  {
   "cell_type": "markdown",
   "id": "4255f3cc-511b-48ad-9112-955e01ef5490",
   "metadata": {},
   "source": [
    "## Q6. You are working on a machine learning project with a dataset containing several categorical variables, including \"Gender\" (Male/Female), \"Education Level\" (High School/Bachelor's/Master's/PhD), and \"Employment Status\" (Unemployed/Part-Time/Full-Time). Which encoding method would you use for each variable, and why?\n"
   ]
  },
  {
   "cell_type": "markdown",
   "id": "dabcad1d-9799-4d27-9809-302275ccc552",
   "metadata": {},
   "source": [
    "* Gender(Male/Female) - Label Encoding - No relation or rank between the data, so arbitrary label can be encoded with them.\n",
    "\n",
    "* Education Level(High School/Bachelor's/Master's/PhD) - Ordinal Encoding - There is rank present betweeen the data. We can use Target Encoding as well, if there is a \"Income\" feature in the dataset, we can Label it according to the mean of income.\n",
    "\n",
    "* Employment Status\" (Unemployed/Part-Time/Full-Time) - Target Encoding - If there is a \"Income\" feature in the dataset, we can Label it according to the mean of income for each group. "
   ]
  },
  {
   "cell_type": "markdown",
   "id": "9d76964b-aea6-440a-8d6c-9339630e2338",
   "metadata": {},
   "source": [
    "## Q7. You are analyzing a dataset with two continuous variables, \"Temperature\" and \"Humidity\", and two categorical variables, \"Weather Condition\" (Sunny/Cloudy/Rainy) and \"Wind Direction\" (North/South/East/West). Calculate the covariance between each pair of variables and interpret the results."
   ]
  },
  {
   "cell_type": "code",
   "execution_count": 4,
   "id": "ce5a2dbc-0251-4649-a042-a629353ab2a2",
   "metadata": {},
   "outputs": [
    {
     "name": "stderr",
     "output_type": "stream",
     "text": [
      "/tmp/ipykernel_102/1686699406.py:14: FutureWarning: The default value of numeric_only in DataFrame.cov is deprecated. In a future version, it will default to False. Select only valid columns or specify the value of numeric_only to silence this warning.\n",
      "  df_weather.cov()\n"
     ]
    },
    {
     "data": {
      "text/html": [
       "<div>\n",
       "<style scoped>\n",
       "    .dataframe tbody tr th:only-of-type {\n",
       "        vertical-align: middle;\n",
       "    }\n",
       "\n",
       "    .dataframe tbody tr th {\n",
       "        vertical-align: top;\n",
       "    }\n",
       "\n",
       "    .dataframe thead th {\n",
       "        text-align: right;\n",
       "    }\n",
       "</style>\n",
       "<table border=\"1\" class=\"dataframe\">\n",
       "  <thead>\n",
       "    <tr style=\"text-align: right;\">\n",
       "      <th></th>\n",
       "      <th>Temperature</th>\n",
       "      <th>Humidity</th>\n",
       "    </tr>\n",
       "  </thead>\n",
       "  <tbody>\n",
       "    <tr>\n",
       "      <th>Temperature</th>\n",
       "      <td>57.5</td>\n",
       "      <td>11.600000</td>\n",
       "    </tr>\n",
       "    <tr>\n",
       "      <th>Humidity</th>\n",
       "      <td>11.6</td>\n",
       "      <td>144.666667</td>\n",
       "    </tr>\n",
       "  </tbody>\n",
       "</table>\n",
       "</div>"
      ],
      "text/plain": [
       "             Temperature    Humidity\n",
       "Temperature         57.5   11.600000\n",
       "Humidity            11.6  144.666667"
      ]
     },
     "execution_count": 4,
     "metadata": {},
     "output_type": "execute_result"
    }
   ],
   "source": [
    "import pandas as pd\n",
    "\n",
    "# preparation of the dataset\n",
    "\n",
    "df_weather = pd.DataFrame({'Temperature': [17,19,35,31,18,21],\n",
    "                           'Humidity': [71,83,77,92,95,64],\n",
    "                           'Weather Condition' : ['Sunny','Cloudy','Sunny','Rainy', 'Rainy','Cloudy'],\n",
    "                           'Wind Direction' : ['South', 'East', 'North', 'West', 'South', 'East']\n",
    "                          })\n",
    "\n",
    "\n",
    "# Covariance between each numerical feature pair can be calculated by the below line of code.\n",
    "\n",
    "df_weather.cov()"
   ]
  },
  {
   "cell_type": "code",
   "execution_count": null,
   "id": "e12837f2-23b6-435a-a380-fcc19e336633",
   "metadata": {},
   "outputs": [],
   "source": []
  }
 ],
 "metadata": {
  "kernelspec": {
   "display_name": "Python 3 (ipykernel)",
   "language": "python",
   "name": "python3"
  },
  "language_info": {
   "codemirror_mode": {
    "name": "ipython",
    "version": 3
   },
   "file_extension": ".py",
   "mimetype": "text/x-python",
   "name": "python",
   "nbconvert_exporter": "python",
   "pygments_lexer": "ipython3",
   "version": "3.10.8"
  }
 },
 "nbformat": 4,
 "nbformat_minor": 5
}
