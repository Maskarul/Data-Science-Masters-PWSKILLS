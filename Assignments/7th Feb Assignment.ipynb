{
 "cells": [
  {
   "cell_type": "markdown",
   "id": "ce76e9ec-f6d8-40a6-b35a-95d59970af1e",
   "metadata": {},
   "source": [
    "### Q1: You are writing a code for a company. The requirement of the company is that you create a python function that will check whether a password entered by the user is correct or not. The function should take the password as input and return the string \"Valid Password\" if the password entered follows the below given password guidelines else it should return \"Invalid Password\".\n",
    "\n",
    "Note: \n",
    "1. Password should contain atleast two uppercase letters and atleast two lowercase letters.\n",
    "2. The password should contain a number and three special case characters.\n",
    "3. The length of the password should be 10 characters long."
   ]
  },
  {
   "cell_type": "code",
   "execution_count": 15,
   "id": "dca1823b-b3a0-45c5-be3f-a0866e5897c5",
   "metadata": {},
   "outputs": [
    {
     "name": "stdin",
     "output_type": "stream",
     "text": [
      "Enter your password:  123457890\n"
     ]
    },
    {
     "name": "stdout",
     "output_type": "stream",
     "text": [
      "Invalid Password\n"
     ]
    }
   ],
   "source": [
    "password = input(\"Enter your password: \")\n",
    "\n",
    "def is_valid(pp):\n",
    "    lower_list = [i for i in pp if i.islower()]\n",
    "    upper_list = [i for i in pp if i.isupper()]\n",
    "    number_list = [i for i in pp if i.isdigit()]\n",
    "    special_list = [i for i in pp if not (i.isalnum())]\n",
    "    \n",
    "    if len(pp)==10 and len(lower_list)>=2 and len(upper_list)>=2 and len(number_list)==1 and len(special_list)==3:\n",
    "        return 'Valid Password'\n",
    "    else:\n",
    "        return 'Invalid Password'\n",
    "\n",
    "\n",
    "    \n",
    "\n",
    "result = is_valid(password)  \n",
    "print(result)"
   ]
  },
  {
   "cell_type": "markdown",
   "id": "203bef44-6726-4e21-b844-4582394ef50b",
   "metadata": {},
   "source": [
    "### Q2: Solve the below given questions using at least the following:\n",
    "\n",
    "1. Lambda function\n",
    "2. Filter function\n",
    "3. Map function\n",
    "4. List comprehension"
   ]
  },
  {
   "cell_type": "code",
   "execution_count": 26,
   "id": "fd3e7fe0-d685-44b5-bfeb-f7ce51df798d",
   "metadata": {},
   "outputs": [
    {
     "name": "stdin",
     "output_type": "stream",
     "text": [
      "Enter some string:  seevbdvjdb\n"
     ]
    },
    {
     "name": "stdout",
     "output_type": "stream",
     "text": [
      "'ssss' starts with 'S' or 's': True\n"
     ]
    }
   ],
   "source": [
    "# Check if a string starts with a particular letter\n",
    "\n",
    "ssss = input(\"Enter some string: \")\n",
    "\n",
    "starts_with_s = lambda s: True if s[0]=='s' or s[0]=='S' else False\n",
    "\n",
    "print(\"'ssss' starts with 'S' or 's': {}\".format(starts_with_s(ssss)))"
   ]
  },
  {
   "cell_type": "code",
   "execution_count": 39,
   "id": "ae7fb4da-1343-476f-b0b6-b58a58e10e4e",
   "metadata": {},
   "outputs": [
    {
     "name": "stdin",
     "output_type": "stream",
     "text": [
      "Enter Your String to check:  dbkhvbdvedbvejvh\n"
     ]
    },
    {
     "name": "stdout",
     "output_type": "stream",
     "text": [
      "False\n"
     ]
    }
   ],
   "source": [
    "# check if a string is numeric\n",
    "\n",
    "from functools import reduce\n",
    "\n",
    "ss = input(\"Enter Your String to check: \")\n",
    "\n",
    "result = reduce(lambda x,y: True if x and y else False, [True if i.isdigit() else False for i in ss])\n",
    "print(result)"
   ]
  },
  {
   "cell_type": "code",
   "execution_count": 41,
   "id": "4173c436-15bb-4eb3-95cb-82544c5681ed",
   "metadata": {},
   "outputs": [
    {
     "name": "stdout",
     "output_type": "stream",
     "text": [
      "[('orange', 80), ('mango', 99), ('grapes', 1000)]\n"
     ]
    }
   ],
   "source": [
    "# sort a list of tuples having fruit name and quantity\n",
    "\n",
    "tup1 = [(\"mango\",99),(\"orange\",80),(\"grapes\",1000)]\n",
    "\n",
    "print(sorted(tup1,key=lambda x: x[1]))"
   ]
  },
  {
   "cell_type": "code",
   "execution_count": 42,
   "id": "d13abbfe-3b34-4ae3-8a00-a18cbfd7392e",
   "metadata": {},
   "outputs": [
    {
     "name": "stdout",
     "output_type": "stream",
     "text": [
      "[1, 4, 9, 16, 25, 36, 49, 64, 81, 100]\n"
     ]
    }
   ],
   "source": [
    "# find the square of numbers from 1 to 10\n",
    "\n",
    "print(list(map(lambda x:x**2,range(1,11))))"
   ]
  },
  {
   "cell_type": "code",
   "execution_count": 1,
   "id": "f15142a1-bb21-4a86-963f-90875ed65790",
   "metadata": {},
   "outputs": [
    {
     "name": "stdout",
     "output_type": "stream",
     "text": [
      "[1.0, 1.2599210498948732, 1.4422495703074083, 1.5874010519681994, 1.7099759466766968, 1.8171205928321397, 1.912931182772389, 2.0, 2.080083823051904, 2.154434690031884]\n"
     ]
    }
   ],
   "source": [
    "# find the qube root of numbers from 1 to 10\n",
    "\n",
    "print(list(map(lambda x:x**(1/3),range(1,11))))"
   ]
  },
  {
   "cell_type": "code",
   "execution_count": 7,
   "id": "573979df-ef61-45b9-9d5c-f80895bfb577",
   "metadata": {},
   "outputs": [
    {
     "name": "stdin",
     "output_type": "stream",
     "text": [
      "Enter some string:  dbdkjdbv\n"
     ]
    },
    {
     "name": "stdout",
     "output_type": "stream",
     "text": [
      "'ssss' starts with 'S' or 's': False\n"
     ]
    }
   ],
   "source": [
    "# Check if a given number is even\n",
    "\n",
    "ssss = input(\"Enter some string: \")\n",
    "\n",
    "starts_with_s = lambda s: True if s[0]=='s' or s[0]=='S' else False\n",
    "\n",
    "print(\"'ssss' starts with 'S' or 's': {}\".format(starts_with_s(ssss)))"
   ]
  },
  {
   "cell_type": "code",
   "execution_count": 3,
   "id": "b68b9bdb-ac63-47b5-a873-d0a65b1e3a02",
   "metadata": {},
   "outputs": [
    {
     "name": "stdout",
     "output_type": "stream",
     "text": [
      "[1, 3, 5, 7, 9]\n"
     ]
    }
   ],
   "source": [
    "# filter odd numbers from a given list\n",
    "\n",
    "lst = [1,2,3,4,5,6,7,8,9,10]\n",
    "\n",
    "print(list(filter(lambda x: x if x%2 !=0 else False,lst)))"
   ]
  },
  {
   "cell_type": "code",
   "execution_count": 8,
   "id": "35cba6cf-e9d8-4d20-998d-87fa1124c56e",
   "metadata": {},
   "outputs": [
    {
     "name": "stdout",
     "output_type": "stream",
     "text": [
      "[0, 1, 2, 3, 4, 5, 6]\n",
      "[-5, -4, -3, -2, -1]\n"
     ]
    }
   ],
   "source": [
    "# sort a list of integer into negative and positive integer lists\n",
    "\n",
    "lst2 = [1,2,3,4,5,6,-1,-2,-3,-4,-5,0]\n",
    "\n",
    "pos_lst = sorted([i for i in lst2 if i>=0])\n",
    "neg_list = sorted([i for i in lst2 if i<0])\n",
    "\n",
    "print(pos_lst)\n",
    "print(neg_list)"
   ]
  },
  {
   "cell_type": "code",
   "execution_count": null,
   "id": "8aa10c40-5edf-41c3-9a62-1086ab35c6e7",
   "metadata": {},
   "outputs": [],
   "source": []
  }
 ],
 "metadata": {
  "kernelspec": {
   "display_name": "Python 3 (ipykernel)",
   "language": "python",
   "name": "python3"
  },
  "language_info": {
   "codemirror_mode": {
    "name": "ipython",
    "version": 3
   },
   "file_extension": ".py",
   "mimetype": "text/x-python",
   "name": "python",
   "nbconvert_exporter": "python",
   "pygments_lexer": "ipython3",
   "version": "3.10.8"
  }
 },
 "nbformat": 4,
 "nbformat_minor": 5
}
