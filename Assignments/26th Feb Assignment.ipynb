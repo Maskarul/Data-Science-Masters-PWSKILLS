{
 "cells": [
  {
   "cell_type": "code",
   "execution_count": 2,
   "id": "51538e92-319e-4c02-9e52-aaddf0f1e9b1",
   "metadata": {},
   "outputs": [],
   "source": [
    "import numpy as np\n",
    "\n",
    "list_ = [ \"1\" , \"2\" , \"3\" , \"4\" , \"5\" ]\n",
    "\n",
    "array_list = np.array(object = list_)"
   ]
  },
  {
   "cell_type": "markdown",
   "id": "8ce5b152-6d10-4517-9d33-cbf126c8c5d9",
   "metadata": {},
   "source": [
    "### Q1. Is there any difference in the data type of variables list_ and array_list? If there is then write a code to print the data types of both the variables.\n",
    "\n",
    "1. List can consist of elements belonging to different data types. Array only consists of elements belonging to the same data type.\n",
    "2. List cannot directly handle arithmetic operations. Arrays can.\n",
    "3. List consume larger memory for easy addition of elements. Array comparatively more compact in memory size."
   ]
  },
  {
   "cell_type": "code",
   "execution_count": 4,
   "id": "d793f3c2-0d88-45df-8480-f145d94d3644",
   "metadata": {},
   "outputs": [
    {
     "name": "stdout",
     "output_type": "stream",
     "text": [
      "Data type of a list:  <class 'list'>\n",
      "\n",
      "\n",
      "Data type of an array:  <class 'numpy.ndarray'>\n"
     ]
    }
   ],
   "source": [
    "print(\"Data type of a list: \",type(list_))\n",
    "print(\"\\n\")\n",
    "print(\"Data type of an array: \", type(array_list))"
   ]
  },
  {
   "cell_type": "markdown",
   "id": "acaefe82-9c69-42c4-bf2a-bbde5be74e53",
   "metadata": {},
   "source": [
    "### Q2. Write a code to print the data type of each and every element of both the variables list_ and array_list.\n"
   ]
  },
  {
   "cell_type": "code",
   "execution_count": 10,
   "id": "7ffbacee-b873-4529-a4b5-9fad9d3284bf",
   "metadata": {},
   "outputs": [
    {
     "name": "stdout",
     "output_type": "stream",
     "text": [
      "Type of 0th item in the list is: <class 'str'>\n",
      "Type of 1th item in the list is: <class 'str'>\n",
      "Type of 2th item in the list is: <class 'str'>\n",
      "Type of 3th item in the list is: <class 'str'>\n",
      "Type of 4th item in the list is: <class 'str'>\n",
      "\n",
      "\n",
      "Type of 0th item in the array is: <class 'numpy.str_'>\n",
      "Type of 1th item in the array is: <class 'numpy.str_'>\n",
      "Type of 2th item in the array is: <class 'numpy.str_'>\n",
      "Type of 3th item in the array is: <class 'numpy.str_'>\n",
      "Type of 4th item in the array is: <class 'numpy.str_'>\n"
     ]
    }
   ],
   "source": [
    "for count,value in enumerate(list_):\n",
    "    print(\"Type of {}th item in the list is: {}\".format(count,type(value)))\n",
    "\n",
    "print(\"\\n\")\n",
    "\n",
    "for count,value in enumerate(array_list):\n",
    "    print(\"Type of {}th item in the array is: {}\".format(count,type(value)))"
   ]
  },
  {
   "cell_type": "markdown",
   "id": "a6046c5d-15f0-4893-8b6b-a5c5efe4f117",
   "metadata": {
    "tags": []
   },
   "source": [
    "### Q3. Considering the following changes in the variable, array_list:\n",
    "\n",
    "#### array_list = np.array(object = list_, dtype = int)\n",
    "\n",
    "#### Will there be any difference in the data type of the elements present in both the variables, list_ and array_list? If so then print the data types of each and every element present in both the variables, list_ and array_list.\n",
    "\n",
    "\n",
    "Yes. Before the change, the type of the list elements are of Strings which is a object of Class 'str', and the type of the elements of numpy array was of object of Class 'numpy.str_'. Now, after the change, the type of the array elements became of type of Class \"numpy.int64\" which is still different than the type of the element of the list."
   ]
  },
  {
   "cell_type": "code",
   "execution_count": 5,
   "id": "ad84ce14-cc04-4015-bdc4-1c7171351838",
   "metadata": {},
   "outputs": [
    {
     "name": "stdout",
     "output_type": "stream",
     "text": [
      "Type of 0th item in the list is: <class 'str'>\n",
      "Type of 1th item in the list is: <class 'str'>\n",
      "Type of 2th item in the list is: <class 'str'>\n",
      "Type of 3th item in the list is: <class 'str'>\n",
      "Type of 4th item in the list is: <class 'str'>\n",
      "\n",
      "\n",
      "Type of 0th item in the array is: <class 'numpy.int64'>\n",
      "Type of 1th item in the array is: <class 'numpy.int64'>\n",
      "Type of 2th item in the array is: <class 'numpy.int64'>\n",
      "Type of 3th item in the array is: <class 'numpy.int64'>\n",
      "Type of 4th item in the array is: <class 'numpy.int64'>\n"
     ]
    }
   ],
   "source": [
    "array_list = np.array(object = list_, dtype = int)\n",
    "\n",
    "for count,value in enumerate(list_):\n",
    "    print(\"Type of {}th item in the list is: {}\".format(count,type(value)))\n",
    "\n",
    "print(\"\\n\")\n",
    "\n",
    "for count,value in enumerate(array_list):\n",
    "    print(\"Type of {}th item in the array is: {}\".format(count,type(value)))"
   ]
  },
  {
   "cell_type": "code",
   "execution_count": 6,
   "id": "e3272530-cf04-4e80-9882-9116e27f673a",
   "metadata": {},
   "outputs": [],
   "source": [
    "import numpy as np\n",
    "\n",
    "num_list = [ [ 1 , 2 , 3 ] , [ 4 , 5 , 6 ] ]\n",
    "\n",
    "num_array = np.array(object = num_list)"
   ]
  },
  {
   "cell_type": "markdown",
   "id": "0955424c-49d9-4994-861e-2cc6e31afec9",
   "metadata": {},
   "source": [
    "### Q4. Write a code to find the following characteristics of variable, num_array:\n",
    "\n",
    "(i) shape\n",
    "\n",
    "(ii) size\n",
    "\n"
   ]
  },
  {
   "cell_type": "code",
   "execution_count": 10,
   "id": "e689b0d1-d09e-4585-a755-87d036a87d74",
   "metadata": {},
   "outputs": [
    {
     "name": "stdout",
     "output_type": "stream",
     "text": [
      "Shape:  (2, 3)\n",
      "Size:  6\n"
     ]
    }
   ],
   "source": [
    "print(\"Shape: \",num_array.shape)\n",
    "\n",
    "print(\"Size: \",num_array.size)"
   ]
  },
  {
   "cell_type": "markdown",
   "id": "b3e10d05-9366-448b-84ab-a122fbee3f31",
   "metadata": {},
   "source": [
    "### Q5. Write a code to create numpy array of 3*3 matrix containing zeros only, using a numpy array creation function.\n",
    "\n",
    "[Hint: The size of the array will be 9 and the shape will be (3,3).]\n",
    "\n"
   ]
  },
  {
   "cell_type": "code",
   "execution_count": 17,
   "id": "a1d7730d-19c2-49ac-b7d4-f1790e24a430",
   "metadata": {},
   "outputs": [
    {
     "data": {
      "text/plain": [
       "array([[0., 0., 0.],\n",
       "       [0., 0., 0.],\n",
       "       [0., 0., 0.]])"
      ]
     },
     "execution_count": 17,
     "metadata": {},
     "output_type": "execute_result"
    }
   ],
   "source": [
    "zzz = np.zeros((3,3))\n",
    "\n",
    "zzz"
   ]
  },
  {
   "cell_type": "markdown",
   "id": "858ff14b-6bfc-4392-bf19-c64e2ba26589",
   "metadata": {},
   "source": [
    "### Q6. Create an identity matrix of shape (5,5) using numpy functions?\n",
    "\n",
    "[Hint: An identity matrix is a matrix containing 1 diagonally and other elements will be 0.]"
   ]
  },
  {
   "cell_type": "code",
   "execution_count": 15,
   "id": "e233c5c2-d943-4a74-bed1-38e74fd2af0e",
   "metadata": {},
   "outputs": [
    {
     "data": {
      "text/plain": [
       "array([[1., 0., 0., 0., 0.],\n",
       "       [0., 1., 0., 0., 0.],\n",
       "       [0., 0., 1., 0., 0.],\n",
       "       [0., 0., 0., 1., 0.],\n",
       "       [0., 0., 0., 0., 1.]])"
      ]
     },
     "execution_count": 15,
     "metadata": {},
     "output_type": "execute_result"
    }
   ],
   "source": [
    "import numpy as np\n",
    "\n",
    "eee = np.eye(5,5)\n",
    "\n",
    "eee"
   ]
  }
 ],
 "metadata": {
  "kernelspec": {
   "display_name": "Python 3 (ipykernel)",
   "language": "python",
   "name": "python3"
  },
  "language_info": {
   "codemirror_mode": {
    "name": "ipython",
    "version": 3
   },
   "file_extension": ".py",
   "mimetype": "text/x-python",
   "name": "python",
   "nbconvert_exporter": "python",
   "pygments_lexer": "ipython3",
   "version": "3.10.8"
  }
 },
 "nbformat": 4,
 "nbformat_minor": 5
}
