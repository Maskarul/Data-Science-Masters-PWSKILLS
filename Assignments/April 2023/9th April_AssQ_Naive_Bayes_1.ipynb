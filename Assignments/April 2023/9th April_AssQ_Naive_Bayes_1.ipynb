{
 "cells": [
  {
   "cell_type": "markdown",
   "metadata": {},
   "source": [
    "## Q1. What is Bayes' theorem?\n"
   ]
  },
  {
   "cell_type": "markdown",
   "metadata": {},
   "source": [
    "Bayes theorem (also known as the Bayes Rule or Bayes Law) is used to determine the conditional probability of event A when event B has already occurred.\n",
    "\n"
   ]
  },
  {
   "cell_type": "markdown",
   "metadata": {},
   "source": [
    "## Q2. What is the formula for Bayes' theorem?\n"
   ]
  },
  {
   "cell_type": "markdown",
   "metadata": {},
   "source": [
    "The general statement of Bayes’ theorem is “The conditional probability of an event A, given the occurrence of another event B, is equal to the product of the event of B, given A and the probability of A divided by the probability of event B.” i.e.\n",
    "\n",
    "P(A|B) = P(B|A)P(A) / P(B)\n",
    "\n",
    "where,\n",
    "\n",
    "* P(A) and P(B) are the probabilities of events A and B also P(B) is never equal to zero.\n",
    "* P(A|B) is the probability of event A when event B happens\n",
    "* P(B|A) is the probability of event B when A happens"
   ]
  },
  {
   "cell_type": "markdown",
   "metadata": {},
   "source": [
    "## Q3. How is Bayes' theorem used in practice?\n"
   ]
  },
  {
   "cell_type": "markdown",
   "metadata": {},
   "source": [
    "Bayesian inference is very important and has found application in various activities, including medicine, science, philosophy, engineering, sports, law, etc., and Bayesian inference is directly derived from Bayes’ theorem.\n",
    "\n",
    "Example: Bayes’ theorem defines the accuracy of the medical test by taking into account how likely a person is to have a disease and what is the overall accuracy of the test."
   ]
  },
  {
   "cell_type": "markdown",
   "metadata": {},
   "source": [
    "## Q4. What is the relationship between Bayes' theorem and conditional probability?"
   ]
  },
  {
   "cell_type": "markdown",
   "metadata": {},
   "source": [
    "The difference between Conditional Probability and Bayes Theorem can be understood with the help of the table given below,\n",
    "\n",
    "\n",
    "<table>\n",
    "<tr> \n",
    "<th>Bayes’ Theorem</th>\n",
    "<th>Conditional Probability</th>\n",
    "</tr>\n",
    "\n",
    "<tr> \n",
    "<td>Bayes’ Theorem is derived using the definition of conditional probability. It is used to find the reverse probability.</td>\n",
    "<td>Conditional Probability is the probability of event A when event B has already occurred.</td>\n",
    "</tr>\n",
    "\n",
    "<tr> \n",
    "<td>Formula: P(A|B) = [P(B|A)P(A)] / P(B)</td>\n",
    "<td>Formula: P(A|B) = P(A∩B) / P(B)</td>\n",
    "</tr>\n",
    "\n",
    "\n",
    "</table>"
   ]
  },
  {
   "cell_type": "markdown",
   "metadata": {},
   "source": [
    "## Q5. How do you choose which type of Naive Bayes classifier to use for any given problem?\n"
   ]
  },
  {
   "cell_type": "markdown",
   "metadata": {},
   "source": [
    "Naive Bayes classifiers are categorized based on the type of data they handle. These classifier types are tailored for various data distributions. Each type is designed to effectively process different kinds of data. Let's delve into the main categories and their applications.\n",
    "\n",
    "<b>Gaussian Naive Bayes</b>:\n",
    "\n",
    "Gaussian Naive Bayes is suited for continuous data. It posits that the features adhere to a Gaussian distribution. This classifier is particularly useful for numerical data, such as measurements or sensor readings.\n",
    "\n",
    "<b>Multinomial Naive Bayes</b>:\n",
    "\n",
    "Multinomial Naive Bayes excels with discrete data. It's commonly used in text classification tasks. This classifier is adept at handling features that represent counts, like word frequencies in documents.\n",
    "\n",
    "<b>Bernoulli Naive Bayes</b>:\n",
    "\n",
    "Bernoulli Naive Bayes is designed for binary or boolean features. It's effective in scenarios where data is represented as yes/no or true/false. This classifier is frequently employed in spam detection and sentiment analysis.\n",
    "\n",
    "<br>\n",
    "\n",
    "\n",
    "<table>\n",
    "\n",
    "<tr> \n",
    "<th>Classifier Type</th>\n",
    "<th>Data Type</th>\n",
    "<th>Common Use Cases</th>\n",
    "</tr>\n",
    "\n",
    "<tr> \n",
    "<td>Gaussian Naive Bayes</td>\n",
    "<td>Continuous</td>\n",
    "<td>Sensor data analysis, medical diagnostics</td>\n",
    "</tr>\n",
    "\n",
    "<tr> \n",
    "<td>Multinomial Naive Bayes</td>\n",
    "<td>Discrete</td>\n",
    "<td>Text classification, document categorization</td>\n",
    "</tr>\n",
    "\n",
    "<tr> \n",
    "<td>Bernoulli Naive Bayes</td>\n",
    "<td>Binary</td>\n",
    "<td>Spam detection, sentiment analysis</td>\n",
    "</tr>\n",
    "\n",
    "</table>"
   ]
  },
  {
   "cell_type": "markdown",
   "metadata": {},
   "source": [
    "## You have a dataset with two features, X1 and X2, and two possible classes, A and B. You want to use Naive Bayes to classify a new instance with features X1 = 3 and X2 = 4. The following table shows the frequency of each feature value for each class:\n",
    "\n",
    "## Class X1=1 X1=2 X1=3 X2=1 X2=2 X2=3 X2=4\n",
    "\n",
    "## A 3 3 4 4 3 3 3\n",
    "\n",
    "## B 2 2 1 2 2 2 3\n",
    "\n",
    "## Assuming equal prior probabilities for each class, which class would Naive Bayes predict the new instance to belong to?\n"
   ]
  },
  {
   "cell_type": "markdown",
   "metadata": {},
   "source": []
  }
 ],
 "metadata": {
  "language_info": {
   "name": "python"
  }
 },
 "nbformat": 4,
 "nbformat_minor": 2
}
