{
 "cells": [
  {
   "cell_type": "markdown",
   "id": "f3137065-15c5-42ed-95d1-8e89ff924e5b",
   "metadata": {},
   "source": [
    "### Q1. Create a function which will take a list as an argument and return the product of all the numbers after creating a flat list. Use the below-given list as an argument for your function.\n",
    "\n",
    "list1 = [1,2,3,4, [44,55,66, True], False, (34,56,78,89,34), {1,2,3,3,2,1}, {1:34, \"key2\": [55, 67, 78, 89], 4: (45,\n",
    "22, 61, 34)}, [56, 'data science'], 'Machine Learning']\n",
    "\n"
   ]
  },
  {
   "cell_type": "code",
   "execution_count": 26,
   "id": "df46b586-1e5e-4830-b21e-e490006e61c3",
   "metadata": {},
   "outputs": [
    {
     "name": "stdout",
     "output_type": "stream",
     "text": [
      "4134711838987085478833841242112000\n"
     ]
    }
   ],
   "source": [
    "from functools import reduce\n",
    "\n",
    "def only_intergers(l):\n",
    "    interger_list = []\n",
    "    for i in l:\n",
    "        if type(i)==int:\n",
    "            interger_list.append(i)\n",
    "            \n",
    "        elif type(i)==list:\n",
    "            for a in i:\n",
    "                if type(a)==int:\n",
    "                    interger_list.append(a)\n",
    "                    \n",
    "        elif type(i)==set:\n",
    "            for b in i:\n",
    "                if type(b)==int:\n",
    "                    interger_list.append(b)\n",
    "                    \n",
    "        elif type(i)==dict:\n",
    "            for c,d in i.items():\n",
    "                if type(c)==int:\n",
    "                    interger_list.append(c)\n",
    "                if type(d)==int:\n",
    "                    interger_list.append(d)\n",
    "                elif type(d)==tuple:\n",
    "                    for d1 in d:\n",
    "                        if type(d1)==int:\n",
    "                            interger_list.append(d1)\n",
    "                elif type(d)==list:\n",
    "                    for d2 in d:\n",
    "                        if type(d2)==int:\n",
    "                            interger_list.append(d2)\n",
    "                                   \n",
    "        elif type(i)==tuple:\n",
    "            for e in i:\n",
    "                if type(e)==int:\n",
    "                    interger_list.append(e)\n",
    "    \n",
    "    mult_interger = reduce(lambda x,y: x*y,interger_list)\n",
    "    \n",
    "    print(mult_interger)\n",
    "        \n",
    "            \n",
    "list1 = [1,2,3,4, [44,55,66, True], False, (34,56,78,89,34), {1,2,3,3,2,1}, {1:34, \"key2\": [55, 67, 78, 89], 4: (45, 22, 61, 34)}, [56, 'data science'], 'Machine Learning']            \n",
    "\n",
    "\n",
    "only_intergers(list1)\n",
    "\n"
   ]
  },
  {
   "cell_type": "markdown",
   "id": "c39e2cf2-5318-4aaf-8be8-d2e6c79e8134",
   "metadata": {},
   "source": [
    "### Q2. Write a python program for encrypting a message sent to you by your friend. The logic of encryption should be such that, for a the output should be z. For b, the output should be y. For c, the output should be x respectively. Also, the whitespace should be replaced with a dollar sign. Keep the punctuation marks unchanged.\n",
    "\n",
    "Input Sentence: I want to become a Data Scientist.\n",
    "\n",
    "Encrypt the above input sentence using the program you just created.\n",
    "\n",
    "Note: Convert the given input sentence into lowercase before encrypting. The final output should be\n",
    "lowercase.\n"
   ]
  },
  {
   "cell_type": "code",
   "execution_count": 1,
   "id": "f00d1220-a915-4259-aa3c-0c9caa148e96",
   "metadata": {},
   "outputs": [
    {
     "name": "stdout",
     "output_type": "stream",
     "text": [
      "I$wznt$to$yexome$z$Dztz$Sxientist.\n"
     ]
    }
   ],
   "source": [
    "message =  'I want to become a Data Scientist.'\n",
    "\n",
    "translated =  ''   \n",
    " \n",
    "for i in message:\n",
    "    if i=='a':\n",
    "        translated = translated + 'z'\n",
    "    elif i=='b':\n",
    "        translated = translated + 'y'\n",
    "    elif i=='c':\n",
    "        translated = translated + 'x'\n",
    "    elif i==' ':\n",
    "        translated = translated + '$'\n",
    "    else:\n",
    "        translated = translated + i     \n",
    "        \n",
    "print(translated)"
   ]
  },
  {
   "cell_type": "code",
   "execution_count": null,
   "id": "6bdcde77-c8df-4204-a52b-da8bd89dc2cd",
   "metadata": {},
   "outputs": [],
   "source": []
  }
 ],
 "metadata": {
  "kernelspec": {
   "display_name": "Python 3 (ipykernel)",
   "language": "python",
   "name": "python3"
  },
  "language_info": {
   "codemirror_mode": {
    "name": "ipython",
    "version": 3
   },
   "file_extension": ".py",
   "mimetype": "text/x-python",
   "name": "python",
   "nbconvert_exporter": "python",
   "pygments_lexer": "ipython3",
   "version": "3.10.8"
  }
 },
 "nbformat": 4,
 "nbformat_minor": 5
}
