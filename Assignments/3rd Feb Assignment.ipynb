{
 "cells": [
  {
   "cell_type": "markdown",
   "id": "b94c0433-8bec-4547-b827-18aef05f7c12",
   "metadata": {},
   "source": [
    "## 3rd Feb Assignement"
   ]
  },
  {
   "cell_type": "markdown",
   "id": "4b9b68d6-645b-49a0-ba2f-3deb87bb87d8",
   "metadata": {},
   "source": [
    "### Q1. Which keyword is used to create a function? Create a function to return a list of odd numbers in the range of 1 to 25.\n",
    "\n",
    "> 'def' keyword used to define a function in python. \n"
   ]
  },
  {
   "cell_type": "code",
   "execution_count": 1,
   "id": "1616e3b4-58a3-4dd4-8c71-7f6a0978e1e2",
   "metadata": {},
   "outputs": [
    {
     "data": {
      "text/plain": [
       "[1, 3, 5, 7, 9, 11, 13, 15, 17, 19, 21, 23, 25]"
      ]
     },
     "execution_count": 1,
     "metadata": {},
     "output_type": "execute_result"
    }
   ],
   "source": [
    "def odd_ones_out(n):\n",
    "    odd_num_holder = []\n",
    "    for i in range(n+1):\n",
    "        if i%2 != 0:\n",
    "            odd_num_holder.append(i)\n",
    "    return odd_num_holder\n",
    "\n",
    "odd_ones_out(25)"
   ]
  },
  {
   "cell_type": "markdown",
   "id": "a7a7ade5-d6dd-4bd5-8596-25b40f8f9c71",
   "metadata": {},
   "source": [
    "### Q2. Why *args and **kwargs is used in some functions? Create a function each for *args and **kwargs to demonstrate their use.\n",
    "\n",
    "> When we have to define a function but dealing with unknown number of positional and keyword arguments, we  use *args and **kwargs in those function to pass variable length of arguments to it."
   ]
  },
  {
   "cell_type": "code",
   "execution_count": 6,
   "id": "83fc6d88-8d51-42f1-8530-fbb8b5e48926",
   "metadata": {},
   "outputs": [
    {
     "name": "stdout",
     "output_type": "stream",
     "text": [
      "Integer Separated List:  [14, 65, 2548792]\n",
      "String Separated List:  ['Maskarul', 'python', 'args']\n"
     ]
    }
   ],
   "source": [
    "# use of *args\n",
    "\n",
    "def func1(*args):\n",
    "    l_int = []\n",
    "    l_str = []\n",
    "    for i in args:\n",
    "        if type(i) == int:\n",
    "            l_int.append(i)\n",
    "        elif type(i) == str:\n",
    "            l_str.append(i)\n",
    "    print(\"Integer Separated List: \",l_int)\n",
    "    print(\"String Separated List: \",l_str)\n",
    "    \n",
    "\n",
    "func1(14,65,'Maskarul',2548792,'python','args')\n"
   ]
  },
  {
   "cell_type": "code",
   "execution_count": 16,
   "id": "6c9ec6c7-3d16-4f1b-bc00-17b2d3400994",
   "metadata": {},
   "outputs": [
    {
     "name": "stdout",
     "output_type": "stream",
     "text": [
      "You got First Class in:  ['Math', 'Chesmistry']\n",
      "You got Second Class in:  ['English', 'Geography', 'Physics']\n"
     ]
    }
   ],
   "source": [
    "# use of **kwargs\n",
    "\n",
    "def func2(**kwargs):\n",
    "    first_class, second_class = [], []\n",
    "    for k,v in kwargs.items():\n",
    "        if v>=80:\n",
    "            first_class.append(k)\n",
    "        elif v>=60 and v<80:\n",
    "            second_class.append(k)\n",
    "    print('You got First Class in: ',first_class)\n",
    "    print('You got Second Class in: ',second_class)\n",
    "\n",
    "func2(Math=90, English=75, Geography=79, History=55, Physics=67, Chesmistry=82)"
   ]
  },
  {
   "cell_type": "markdown",
   "id": "3a46e24f-088a-4414-bde9-ba7574b5a220",
   "metadata": {},
   "source": [
    "### Q3. What is an iterator in python? Name the method used to initialise the iterator object and the method used for iteration. Use these methods to print the first five elements of the given list \n",
    "### [2, 4, 6, 8, 10, 12, 14, 16, 18, 20].\n",
    "\n",
    "> An iterator is an object in python that allows you to iterate over collections of data, i.e lists, tuples, dictionaries, and sets.\n",
    "\n",
    "> 1.   .\\__iter__() :\t Initializes the iterator. It must return an iterator object.\n",
    "> 2.   .\\__next__() :\tCalled to iterate over the iterator. It must return the next value in the data stream."
   ]
  },
  {
   "cell_type": "code",
   "execution_count": 19,
   "id": "08d967cc-3498-4ab4-94a7-bc964b8b4744",
   "metadata": {},
   "outputs": [
    {
     "name": "stdout",
     "output_type": "stream",
     "text": [
      "2\n",
      "4\n",
      "6\n",
      "8\n",
      "10\n"
     ]
    }
   ],
   "source": [
    "lst1 = [2, 4, 6, 8, 10, 12, 14, 16, 18, 20]\n",
    "\n",
    "class list_iterator: \n",
    "    def __init__(self,lst):\n",
    "        self._indx = 0\n",
    "        self._lst = lst\n",
    "        \n",
    "    def __iter__(self):\n",
    "        return self\n",
    "    \n",
    "    def __next__(self):\n",
    "        if self._indx < 5:\n",
    "            itm = self._lst[self._indx]\n",
    "            self._indx += 1\n",
    "            return itm\n",
    "        else:\n",
    "            raise StopIteration\n",
    "            \n",
    "            \n",
    "for item in list_iterator(lst1):\n",
    "    print(item)\n",
    "        "
   ]
  },
  {
   "cell_type": "markdown",
   "id": "c648b553-b944-4160-b6e2-fd60395279fe",
   "metadata": {},
   "source": [
    "### Q4. What is a generator function in python? Why yield keyword is used? Give an example of a generator function.\n",
    "\n",
    "> Generator Functions are a special kind of function that return a lazy iterator, an object that you can loop over like a list. But it is quite different from a normal itertor as it does not store their contents in memory.\n",
    "\n",
    "> Whenever 'yield' keyword is mentioned inside a function definition, the function becomes a generator function. Unlike 'return', 'yield' returns a lazy itertor object to its caller and don’t exit the function afterward."
   ]
  },
  {
   "cell_type": "code",
   "execution_count": 5,
   "id": "165167dd-4b7b-4c3b-94b8-442750c3ce5e",
   "metadata": {},
   "outputs": [
    {
     "name": "stdout",
     "output_type": "stream",
     "text": [
      "0\n",
      "1\n",
      "2\n",
      "3\n",
      "4\n",
      "5\n",
      "6\n",
      "7\n",
      "8\n",
      "9\n"
     ]
    }
   ],
   "source": [
    "def my_generator(n):\n",
    "    value = 0\n",
    "    \n",
    "    while value < n:\n",
    "        yield value\n",
    "        value += 1\n",
    "\n",
    "        \n",
    "for value in my_generator(10):\n",
    "    print(value)"
   ]
  },
  {
   "cell_type": "markdown",
   "id": "1e0c5333-783e-4523-aeed-b939366eef54",
   "metadata": {},
   "source": [
    "### Q5. Create a generator function for prime numbers less than 1000. Use the next() method to print the first 20 prime numbers.\n"
   ]
  },
  {
   "cell_type": "code",
   "execution_count": 24,
   "id": "b78caa87-94f3-4390-ba11-e7bdac45aab2",
   "metadata": {},
   "outputs": [],
   "source": [
    "def is_prime(number):\n",
    "    if number > 1:\n",
    "        for num in range(2, int(number**0.5) + 1):\n",
    "            if number % num == 0:\n",
    "                return False\n",
    "        return True\n",
    "    return False\n",
    "\n",
    "def prime_upto(num):\n",
    "    for n in range(2,num):\n",
    "        if is_prime(n):\n",
    "            yield n\n",
    "\n",
    "prime_numbers = prime_upto(1000)           \n"
   ]
  },
  {
   "cell_type": "code",
   "execution_count": 25,
   "id": "1b140a00-81e7-4d16-8d71-79088d20bdd9",
   "metadata": {},
   "outputs": [
    {
     "data": {
      "text/plain": [
       "2"
      ]
     },
     "execution_count": 25,
     "metadata": {},
     "output_type": "execute_result"
    }
   ],
   "source": [
    "next(prime_numbers)"
   ]
  },
  {
   "cell_type": "code",
   "execution_count": 26,
   "id": "bc7187ee-39db-48ae-ac0f-40aadb277573",
   "metadata": {},
   "outputs": [
    {
     "data": {
      "text/plain": [
       "3"
      ]
     },
     "execution_count": 26,
     "metadata": {},
     "output_type": "execute_result"
    }
   ],
   "source": [
    "next(prime_numbers)"
   ]
  },
  {
   "cell_type": "code",
   "execution_count": 27,
   "id": "25e9d9dc-3477-42e8-9209-51c6207ba211",
   "metadata": {},
   "outputs": [
    {
     "data": {
      "text/plain": [
       "5"
      ]
     },
     "execution_count": 27,
     "metadata": {},
     "output_type": "execute_result"
    }
   ],
   "source": [
    "next(prime_numbers)"
   ]
  },
  {
   "cell_type": "code",
   "execution_count": 28,
   "id": "bf9d0200-ef1d-4d72-b3ff-8141efc122b4",
   "metadata": {},
   "outputs": [
    {
     "data": {
      "text/plain": [
       "7"
      ]
     },
     "execution_count": 28,
     "metadata": {},
     "output_type": "execute_result"
    }
   ],
   "source": [
    "next(prime_numbers)"
   ]
  },
  {
   "cell_type": "code",
   "execution_count": 29,
   "id": "b031f438-80c2-4bc4-b8ae-e98913d5a408",
   "metadata": {},
   "outputs": [
    {
     "data": {
      "text/plain": [
       "11"
      ]
     },
     "execution_count": 29,
     "metadata": {},
     "output_type": "execute_result"
    }
   ],
   "source": [
    "next(prime_numbers)"
   ]
  },
  {
   "cell_type": "code",
   "execution_count": 30,
   "id": "5b776052-1105-4c57-ba93-b53274a21309",
   "metadata": {},
   "outputs": [
    {
     "data": {
      "text/plain": [
       "13"
      ]
     },
     "execution_count": 30,
     "metadata": {},
     "output_type": "execute_result"
    }
   ],
   "source": [
    "next(prime_numbers)"
   ]
  },
  {
   "cell_type": "code",
   "execution_count": 31,
   "id": "3f2b8aa3-62ac-4bbe-a71c-08e41b2402dc",
   "metadata": {},
   "outputs": [
    {
     "data": {
      "text/plain": [
       "17"
      ]
     },
     "execution_count": 31,
     "metadata": {},
     "output_type": "execute_result"
    }
   ],
   "source": [
    "next(prime_numbers)"
   ]
  },
  {
   "cell_type": "code",
   "execution_count": 32,
   "id": "47c7631a-b9f0-444d-bc67-dcfdead9b4fd",
   "metadata": {},
   "outputs": [
    {
     "data": {
      "text/plain": [
       "19"
      ]
     },
     "execution_count": 32,
     "metadata": {},
     "output_type": "execute_result"
    }
   ],
   "source": [
    "next(prime_numbers)"
   ]
  },
  {
   "cell_type": "code",
   "execution_count": 33,
   "id": "9e150f9d-f23d-4210-af74-b633f58c1e56",
   "metadata": {},
   "outputs": [
    {
     "data": {
      "text/plain": [
       "23"
      ]
     },
     "execution_count": 33,
     "metadata": {},
     "output_type": "execute_result"
    }
   ],
   "source": [
    "next(prime_numbers)"
   ]
  },
  {
   "cell_type": "code",
   "execution_count": 34,
   "id": "79c7c1e5-42c7-4ae2-8477-65b7fdf795f4",
   "metadata": {},
   "outputs": [
    {
     "data": {
      "text/plain": [
       "29"
      ]
     },
     "execution_count": 34,
     "metadata": {},
     "output_type": "execute_result"
    }
   ],
   "source": [
    "next(prime_numbers)"
   ]
  },
  {
   "cell_type": "code",
   "execution_count": 35,
   "id": "57ba76c8-4743-43bb-bf7e-2f378a90eaee",
   "metadata": {},
   "outputs": [
    {
     "data": {
      "text/plain": [
       "31"
      ]
     },
     "execution_count": 35,
     "metadata": {},
     "output_type": "execute_result"
    }
   ],
   "source": [
    "next(prime_numbers)"
   ]
  },
  {
   "cell_type": "code",
   "execution_count": 36,
   "id": "257dddf9-d6e5-493a-8e10-6728189680eb",
   "metadata": {},
   "outputs": [
    {
     "data": {
      "text/plain": [
       "37"
      ]
     },
     "execution_count": 36,
     "metadata": {},
     "output_type": "execute_result"
    }
   ],
   "source": [
    "next(prime_numbers)"
   ]
  },
  {
   "cell_type": "code",
   "execution_count": 37,
   "id": "13ef5e29-495a-4f7a-bcf2-3d330f1c4bdc",
   "metadata": {},
   "outputs": [
    {
     "data": {
      "text/plain": [
       "41"
      ]
     },
     "execution_count": 37,
     "metadata": {},
     "output_type": "execute_result"
    }
   ],
   "source": [
    "next(prime_numbers)"
   ]
  },
  {
   "cell_type": "code",
   "execution_count": 38,
   "id": "6aa572b6-978f-4104-92a0-af54e57224a0",
   "metadata": {},
   "outputs": [
    {
     "data": {
      "text/plain": [
       "43"
      ]
     },
     "execution_count": 38,
     "metadata": {},
     "output_type": "execute_result"
    }
   ],
   "source": [
    "next(prime_numbers)"
   ]
  },
  {
   "cell_type": "code",
   "execution_count": 39,
   "id": "f864d19c-0852-4dbf-976b-b5ceefcb0fb7",
   "metadata": {},
   "outputs": [
    {
     "data": {
      "text/plain": [
       "47"
      ]
     },
     "execution_count": 39,
     "metadata": {},
     "output_type": "execute_result"
    }
   ],
   "source": [
    "next(prime_numbers)"
   ]
  },
  {
   "cell_type": "code",
   "execution_count": 40,
   "id": "a9a54e97-e66d-4f2d-9c5a-db7a91c9143e",
   "metadata": {},
   "outputs": [
    {
     "data": {
      "text/plain": [
       "53"
      ]
     },
     "execution_count": 40,
     "metadata": {},
     "output_type": "execute_result"
    }
   ],
   "source": [
    "next(prime_numbers)"
   ]
  },
  {
   "cell_type": "code",
   "execution_count": 41,
   "id": "60193a52-42fb-4495-9162-28ecab404f2c",
   "metadata": {},
   "outputs": [
    {
     "data": {
      "text/plain": [
       "59"
      ]
     },
     "execution_count": 41,
     "metadata": {},
     "output_type": "execute_result"
    }
   ],
   "source": [
    "next(prime_numbers)"
   ]
  },
  {
   "cell_type": "code",
   "execution_count": 42,
   "id": "2226fc49-0522-46f9-b03f-8f094dae1378",
   "metadata": {},
   "outputs": [
    {
     "data": {
      "text/plain": [
       "61"
      ]
     },
     "execution_count": 42,
     "metadata": {},
     "output_type": "execute_result"
    }
   ],
   "source": [
    "next(prime_numbers)"
   ]
  },
  {
   "cell_type": "code",
   "execution_count": null,
   "id": "673530bf-d3ea-4b1a-8da4-bde935f15ce3",
   "metadata": {},
   "outputs": [],
   "source": []
  }
 ],
 "metadata": {
  "kernelspec": {
   "display_name": "Python 3 (ipykernel)",
   "language": "python",
   "name": "python3"
  },
  "language_info": {
   "codemirror_mode": {
    "name": "ipython",
    "version": 3
   },
   "file_extension": ".py",
   "mimetype": "text/x-python",
   "name": "python",
   "nbconvert_exporter": "python",
   "pygments_lexer": "ipython3",
   "version": "3.10.8"
  }
 },
 "nbformat": 4,
 "nbformat_minor": 5
}
