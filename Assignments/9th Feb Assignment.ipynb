{
 "cells": [
  {
   "cell_type": "markdown",
   "id": "d452d39a-3c9a-4a82-8d95-c7ce699c4897",
   "metadata": {},
   "source": [
    "### Q1: Create a vehicle class with an init method having instance variables as name_of_vehicle, max_speed and average_of_vehicle."
   ]
  },
  {
   "cell_type": "code",
   "execution_count": 3,
   "id": "786eb721-8c6f-4150-a114-34cf2e872d86",
   "metadata": {},
   "outputs": [
    {
     "name": "stdout",
     "output_type": "stream",
     "text": [
      "Name of the Vehicle: Jeep Wranglar, Maximum Speed of the Vehicle 180 km/hr and Average Speed of the Vehicle 85 km/hr\n"
     ]
    }
   ],
   "source": [
    "class vehicle:\n",
    "    def __init__(self, name_of_vehicle, max_speed, average_of_vehicle):\n",
    "        self.name = name_of_vehicle\n",
    "        self.max_speed = max_speed\n",
    "        self.avg_speed = average_of_vehicle\n",
    "        \n",
    "    def vehicle_details(self):\n",
    "        print(\"Name of the Vehicle: {}, Maximum Speed of the Vehicle {} km/hr and Average Speed of the Vehicle {} km/hr\".format(self.name, self.max_speed, self.avg_speed))\n",
    "\n",
    "vehicle1 = vehicle('Jeep Wranglar', 180, 85)\n",
    "\n",
    "vehicle1.vehicle_details()"
   ]
  },
  {
   "cell_type": "markdown",
   "id": "9ab5edfa-2f2b-4cc1-9f0c-75630df094e4",
   "metadata": {},
   "source": [
    "### Q2. Create a child class car from the vehicle class created in Que 1, which will inherit the vehicle class. Create a method named seating_capacity which takes capacity as an argument and returns the name of the vehicle and its seating capacity.\n"
   ]
  },
  {
   "cell_type": "code",
   "execution_count": 6,
   "id": "38ee65e1-fcce-4b6a-93e0-1c00b5ff4c29",
   "metadata": {},
   "outputs": [
    {
     "data": {
      "text/plain": [
       "('Jeep Wranglar', 7)"
      ]
     },
     "execution_count": 6,
     "metadata": {},
     "output_type": "execute_result"
    }
   ],
   "source": [
    "class car(vehicle):\n",
    "    def seating_capacity(self, capacity):\n",
    "        self.capacity = capacity\n",
    "        return self.name, self.capacity\n",
    "    \n",
    "car1 = car('Jeep Wranglar', 180, 85)\n",
    "\n",
    "car1.seating_capacity(7)"
   ]
  },
  {
   "cell_type": "markdown",
   "id": "c729b70e-e3ee-4304-b98c-f065b5be2fba",
   "metadata": {},
   "source": [
    "### Q3. What is multiple inheritance? Write a python code to demonstrate multiple inheritance.\n",
    "\n",
    "> When a child class inherits from more than one class, it is called as multiple inheritance in Python. "
   ]
  },
  {
   "cell_type": "code",
   "execution_count": 7,
   "id": "61a45a27-b334-456b-88b8-29e2b0d50812",
   "metadata": {},
   "outputs": [
    {
     "name": "stdout",
     "output_type": "stream",
     "text": [
      "Good Morning, Father\n",
      "Good Morning, Mother\n",
      "Good Morning, Guardian\n",
      "Be Motivated\n"
     ]
    }
   ],
   "source": [
    "# MULTIPLE INHERTANCE\n",
    "\n",
    "class Father:\n",
    "    def greet1(self):\n",
    "        print(\"Good Morning, Father\")\n",
    "        \n",
    "class Mother:\n",
    "    def greet2(self):\n",
    "        print(\"Good Morning, Mother\")\n",
    "        \n",
    "        \n",
    "class Guardian:\n",
    "    def greet3(self):\n",
    "        print(\"Good Morning, Guardian\")\n",
    "        \n",
    "\n",
    "class child(Father,Mother,Guardian):\n",
    "    def greet4(self):\n",
    "        print(\"Be Motivated\")\n",
    "\n",
    "human = child()\n",
    "human.greet1()\n",
    "human.greet2()\n",
    "human.greet3()\n",
    "human.greet4()"
   ]
  },
  {
   "cell_type": "markdown",
   "id": "362b4cf3-e688-473b-9ccc-5be8fadeee31",
   "metadata": {},
   "source": [
    "### Q4. What are getter and setter in python? Create a class and create a getter and a setter method in this class.\n",
    "\n",
    "> A 'getter' is a method that allows you to access an attribute in a given class and a 'setter' is a method that alloows you to set or update the value of an attribute of a class.\n"
   ]
  },
  {
   "cell_type": "code",
   "execution_count": 1,
   "id": "f84f3c16-74c7-46b8-a765-24a1b891e4d1",
   "metadata": {},
   "outputs": [],
   "source": [
    "# getter and setter\n",
    "\n",
    "class Car:\n",
    "    def __init__(self, car_name, max_speed, build_year):\n",
    "        self._name = car_name\n",
    "        self._max_speed = max_speed\n",
    "        self._build_year = build_year\n",
    "        \n",
    "    def get_details(self):\n",
    "        print(\"Car name: {}, Max Speed: {} & Year Created: {}\".format(self._name, self._max_speed,self._build_year))\n",
    "        \n",
    "    def set_max_speed(self, new_max_speed):\n",
    "        if self._max_speed>new_max_speed:\n",
    "            print(\"Current max speed is greater than the new given one\")\n",
    "        elif new_max_speed>200:\n",
    "            print(\"Car can not take this speed, enter a feasible max speed\")\n",
    "        else:\n",
    "            self._max_speed = new_max_speed\n",
    "            print(\"New Max Speed is:\", self._max_speed)\n",
    "            \n"
   ]
  },
  {
   "cell_type": "code",
   "execution_count": 2,
   "id": "6dafe5e4-e8f5-4a22-b0a1-dfa2031574e7",
   "metadata": {},
   "outputs": [
    {
     "name": "stdout",
     "output_type": "stream",
     "text": [
      "Car name: Thar, Max Speed: 157 & Year Created: 2019\n"
     ]
    }
   ],
   "source": [
    "car1 = Car(\"Thar\", 157, 2019)\n",
    "car1.get_details()"
   ]
  },
  {
   "cell_type": "code",
   "execution_count": 3,
   "id": "0da73f77-8dda-45dd-9a60-734f7daf7973",
   "metadata": {},
   "outputs": [
    {
     "name": "stdout",
     "output_type": "stream",
     "text": [
      "New Max Speed is: 198\n"
     ]
    }
   ],
   "source": [
    "car1.set_max_speed(198)"
   ]
  },
  {
   "cell_type": "code",
   "execution_count": null,
   "id": "f946777b-3847-40da-b85c-9c6ed451827d",
   "metadata": {},
   "outputs": [],
   "source": []
  }
 ],
 "metadata": {
  "kernelspec": {
   "display_name": "Python 3 (ipykernel)",
   "language": "python",
   "name": "python3"
  },
  "language_info": {
   "codemirror_mode": {
    "name": "ipython",
    "version": 3
   },
   "file_extension": ".py",
   "mimetype": "text/x-python",
   "name": "python",
   "nbconvert_exporter": "python",
   "pygments_lexer": "ipython3",
   "version": "3.10.8"
  }
 },
 "nbformat": 4,
 "nbformat_minor": 5
}
