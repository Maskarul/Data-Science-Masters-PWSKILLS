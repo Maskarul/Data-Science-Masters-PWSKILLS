{
 "cells": [
  {
   "cell_type": "markdown",
   "id": "a73c7e7a-6f09-47b6-83e4-c9679e68eef7",
   "metadata": {},
   "source": [
    "### Q1. Explain Class and Object with respect to Object-Oriented Programming. Give a suitable example.\n",
    "\n",
    "> In Object Orientate Programming, Class is like a User defined data type, a blueprint or like a template. Class is like a party where all the related variables and functions can be in a single room. When you define a class, no memory will be allocated to it.\n",
    "\n",
    "> Object is an instance which is build from a class which contain some data. When you create an object, it will be allocated in the memory.\n"
   ]
  },
  {
   "cell_type": "code",
   "execution_count": 5,
   "id": "bbb89ba3-3064-45f9-b1c8-5206bd5cb860",
   "metadata": {},
   "outputs": [
    {
     "name": "stdout",
     "output_type": "stream",
     "text": [
      "Name of the human is 'Maskarul' and age is 30 years.\n"
     ]
    }
   ],
   "source": [
    "class human:\n",
    "    def __init__(self, Name, Age):\n",
    "        self.name = Name\n",
    "        self.age = Age\n",
    "    \n",
    "    def human_details(self):\n",
    "        print(\"Name of the human is '{}' and age is {} years.\".format(self.name,self.age))\n",
    "\n",
    "hu1 = human('Maskarul', 30)\n",
    "\n",
    "hu1.human_details()"
   ]
  },
  {
   "cell_type": "markdown",
   "id": "7daa832b-0a25-4306-a826-3b58441b7f42",
   "metadata": {},
   "source": [
    "### Q2. Name the four pillars of OOPs.\n",
    "\n",
    "> Polymorphism, Inheritance, Encapsulation & Abstraction."
   ]
  },
  {
   "cell_type": "markdown",
   "id": "85cd7416-ee3e-436f-9936-92eb4a4c5877",
   "metadata": {},
   "source": [
    "### Explain why the \\__init__() function is used. Give a suitable example.\n",
    "\n",
    "> \\__init__() function is a constructor. It used to initialize the object's state i.e assign values to the data members of the class when an object of the class is being created."
   ]
  },
  {
   "cell_type": "code",
   "execution_count": 1,
   "id": "069cdadb-af00-4d68-8a5d-60fdcbb3055c",
   "metadata": {},
   "outputs": [
    {
     "name": "stdout",
     "output_type": "stream",
     "text": [
      "It's a Blackberry phone with model id '37836974'\n"
     ]
    }
   ],
   "source": [
    "class phone:\n",
    "    def __init__(self,company,model_id):\n",
    "        self.company_name = company\n",
    "        self.model_id = model_id\n",
    "        \n",
    "    def phone_details(self):\n",
    "        print(\"It's a {} phone with model id '{}'\".format(self.company_name,self.model_id))\n",
    "\n",
    "\n",
    "Blackberry = phone('Blackberry',37836974)\n",
    "\n",
    "Blackberry.phone_details()"
   ]
  },
  {
   "cell_type": "markdown",
   "id": "1b04ddfb-26cf-4084-8eec-ba9a6b1c8fe7",
   "metadata": {},
   "source": [
    "### Q4. Why self is used in OOPs?\n",
    "\n",
    "> 'self' keyword used as a reference or as a pointer towards to the class and used to access the members and the methods of the class. If you call the members directly, then python will start to look for the members outside of the class and will cause an error. 'self' is the first parameter that needs to pass in the class constructor and instance methods.  We can use another name for the parameter instead of 'self', it will not cause an error. "
   ]
  },
  {
   "cell_type": "markdown",
   "id": "03732830-40c7-48ae-af12-d23dd22dfd0d",
   "metadata": {},
   "source": [
    "### Q5. What is inheritance? Give an example for each type of inheritance.\n",
    "\n",
    "> Inheritance is a type of relationship between two classes where derived class inherits properties(members and methods) from the base class.\n",
    "\n",
    "> Single Inheritance, Multiple Inheritance, Multilevel Inheritance, Hierarchical Inheritance & Hybrid Inheritance"
   ]
  },
  {
   "cell_type": "code",
   "execution_count": 4,
   "id": "50c5e872-ce69-41b8-86c0-b30fbbc3456e",
   "metadata": {},
   "outputs": [
    {
     "name": "stdout",
     "output_type": "stream",
     "text": [
      "Good Morning, Parents\n",
      "Be Motivated\n"
     ]
    }
   ],
   "source": [
    "# SINGLE INHERITANCE\n",
    "\n",
    "class parents:\n",
    "    def greet1(self):\n",
    "        print(\"Good Morning, Parents\")\n",
    "        \n",
    "class child(parents):\n",
    "    def greet2(self):\n",
    "        print(\"Be Motivated\")\n",
    "\n",
    "human = child()\n",
    "human.greet1()\n",
    "human.greet2()"
   ]
  },
  {
   "cell_type": "code",
   "execution_count": 3,
   "id": "95425480-ab7e-4c0a-9add-5744e8fe56ef",
   "metadata": {},
   "outputs": [
    {
     "name": "stdout",
     "output_type": "stream",
     "text": [
      "Good Morning, Father\n",
      "Good Morning, Mother\n",
      "Good Morning, Guardian\n",
      "Be Motivated\n"
     ]
    }
   ],
   "source": [
    "# MULTIPLE INHERTANCE\n",
    "\n",
    "class Father:\n",
    "    def greet1(self):\n",
    "        print(\"Good Morning, Father\")\n",
    "        \n",
    "class Mother:\n",
    "    def greet2(self):\n",
    "        print(\"Good Morning, Mother\")\n",
    "        \n",
    "        \n",
    "class Guardian:\n",
    "    def greet3(self):\n",
    "        print(\"Good Morning, Guardian\")\n",
    "        \n",
    "\n",
    "class child(Father,Mother,Guardian):\n",
    "    def greet4(self):\n",
    "        print(\"Be Motivated\")\n",
    "\n",
    "human = child()\n",
    "human.greet1()\n",
    "human.greet2()\n",
    "human.greet3()\n",
    "human.greet4()"
   ]
  },
  {
   "cell_type": "code",
   "execution_count": 7,
   "id": "b49a727e-b4ad-4cf5-b55f-afaa22371e4c",
   "metadata": {},
   "outputs": [
    {
     "name": "stdout",
     "output_type": "stream",
     "text": [
      "Good Morning, Grand-Parents\n",
      "Good Morning, Parents\n",
      "Be Motivated\n"
     ]
    }
   ],
   "source": [
    "# MULTILEVEL INHERITANCE\n",
    "\n",
    "class grandparents:\n",
    "    def greet1(self):\n",
    "        print(\"Good Morning, Grand-Parents\")\n",
    "        \n",
    "class parents(grandparents):\n",
    "    def greet2(self):\n",
    "        print(\"Good Morning, Parents\")\n",
    "        \n",
    "class child(parents):\n",
    "    def greet3(self):\n",
    "        print(\"Be Motivated\")\n",
    "\n",
    "human = child()\n",
    "human.greet1()\n",
    "human.greet2()\n",
    "human.greet3()"
   ]
  },
  {
   "cell_type": "code",
   "execution_count": 13,
   "id": "0671d0cd-d7d7-4c8e-aab8-8b814ec0dd16",
   "metadata": {},
   "outputs": [
    {
     "name": "stdout",
     "output_type": "stream",
     "text": [
      "Good Morning, Parents\n",
      "Be Motivated, First\n",
      "\n",
      "Good Morning, Parents\n",
      "Be Motivated, Second\n"
     ]
    }
   ],
   "source": [
    "# HIERARCHICAL INHERITANCE\n",
    "\n",
    "class parents:\n",
    "    def greet1(self):\n",
    "        print(\"Good Morning, Parents\")\n",
    "        \n",
    "class child1(parents):\n",
    "    def greet2(self):\n",
    "        print(\"Be Motivated, First\")\n",
    "        \n",
    "class child2(parents):\n",
    "    def greet3(self):\n",
    "        print(\"Be Motivated, Second\")\n",
    "\n",
    "human1 = child1()\n",
    "human2 = child2()\n",
    "\n",
    "human1.greet1()\n",
    "human1.greet2()\n",
    "print(end='\\n')\n",
    "human2.greet1()\n",
    "human2.greet3()"
   ]
  },
  {
   "cell_type": "code",
   "execution_count": 15,
   "id": "55109c99-1588-45cd-91ed-1af434772200",
   "metadata": {},
   "outputs": [
    {
     "name": "stdout",
     "output_type": "stream",
     "text": [
      "Good Morning, Grand Father\n",
      "Good Morning, Father\n",
      "Good Morning, Mother\n",
      "Be Motivated, First\n",
      "\n",
      "Good Morning, Grand Father\n",
      "Good Morning, Father\n",
      "Good Morning, Mother\n",
      "Be Motivated, Second\n"
     ]
    }
   ],
   "source": [
    "# HYBRID INHERITANCE\n",
    "\n",
    "class grandfather:\n",
    "    def greet1(self):\n",
    "        print(\"Good Morning, Grand Father\")\n",
    "\n",
    "class Father(grandfather):\n",
    "    def greet2(self):\n",
    "        print(\"Good Morning, Father\")\n",
    "        \n",
    "class Mother:\n",
    "    def greet3(self):\n",
    "        print(\"Good Morning, Mother\")\n",
    "        \n",
    "class child1(Father,Mother):\n",
    "    def greet4(self):\n",
    "        print(\"Be Motivated, First\")\n",
    "        \n",
    "class child2(Father,Mother):\n",
    "    def greet5(self):\n",
    "        print(\"Be Motivated, Second\")\n",
    "        \n",
    "\n",
    "human1 = child1()\n",
    "human2 = child2()\n",
    "\n",
    "human1.greet1()\n",
    "human1.greet2()\n",
    "human1.greet3()\n",
    "human1.greet4()\n",
    "print(end='\\n')\n",
    "human2.greet1()\n",
    "human2.greet2()\n",
    "human2.greet3()\n",
    "human2.greet5()"
   ]
  },
  {
   "cell_type": "code",
   "execution_count": null,
   "id": "ad9d7b77-9f91-4b9b-8f0a-c6ee2a009254",
   "metadata": {},
   "outputs": [],
   "source": []
  }
 ],
 "metadata": {
  "kernelspec": {
   "display_name": "Python 3 (ipykernel)",
   "language": "python",
   "name": "python3"
  },
  "language_info": {
   "codemirror_mode": {
    "name": "ipython",
    "version": 3
   },
   "file_extension": ".py",
   "mimetype": "text/x-python",
   "name": "python",
   "nbconvert_exporter": "python",
   "pygments_lexer": "ipython3",
   "version": "3.10.8"
  }
 },
 "nbformat": 4,
 "nbformat_minor": 5
}
