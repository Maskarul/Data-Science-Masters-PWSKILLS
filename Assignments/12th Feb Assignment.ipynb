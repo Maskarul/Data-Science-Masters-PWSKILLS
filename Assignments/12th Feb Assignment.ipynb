{
 "cells": [
  {
   "cell_type": "markdown",
   "id": "c2ecb395-6a85-44e7-9294-2850db21bd95",
   "metadata": {},
   "source": [
    "### What is an Exception in python? Write the difference between Exception and Syntax Errors.\n",
    "\n",
    "> When syntactically correct code runs into an error, this event is called an Exception.\n",
    "\n",
    "> 1. Syntax error happens when the a code statement has incorrect syntax. Whereas, an exception is not related to syntax and happens on a syntactically correct code in runtime. \n",
    "> 2. Syntax errors are not catchables whereas you can handle Exception through try---except block."
   ]
  },
  {
   "cell_type": "markdown",
   "id": "5d9466bb-6249-49d8-8c8f-fdce9c08b31b",
   "metadata": {},
   "source": [
    "### Q2. What happens when an exception is not handled? Explain with an example.\n",
    "\n",
    "> when exception in a particular statement in a code is not handled, execution of the program halts and rest of the code\n",
    "after the incorrect statement refrain from executing even if they are correct."
   ]
  },
  {
   "cell_type": "code",
   "execution_count": 2,
   "id": "814b97b5-9a82-48cc-9f75-99060cace2ca",
   "metadata": {},
   "outputs": [
    {
     "name": "stdout",
     "output_type": "stream",
     "text": [
      "print statement before division by zero\n"
     ]
    },
    {
     "ename": "ZeroDivisionError",
     "evalue": "division by zero",
     "output_type": "error",
     "traceback": [
      "\u001b[0;31m---------------------------------------------------------------------------\u001b[0m",
      "\u001b[0;31mZeroDivisionError\u001b[0m                         Traceback (most recent call last)",
      "Cell \u001b[0;32mIn[2], line 5\u001b[0m\n\u001b[1;32m      1\u001b[0m \u001b[38;5;66;03m# Q2 example\u001b[39;00m\n\u001b[1;32m      3\u001b[0m \u001b[38;5;28mprint\u001b[39m(\u001b[38;5;124m'\u001b[39m\u001b[38;5;124mprint statement before division by zero\u001b[39m\u001b[38;5;124m'\u001b[39m)\n\u001b[0;32m----> 5\u001b[0m a \u001b[38;5;241m=\u001b[39m \u001b[38;5;241;43m1000\u001b[39;49m\u001b[38;5;241;43m/\u001b[39;49m\u001b[38;5;241;43m0\u001b[39;49m\n\u001b[1;32m      7\u001b[0m \u001b[38;5;28mprint\u001b[39m(\u001b[38;5;124m\"\u001b[39m\u001b[38;5;124mprint after the division by zero\u001b[39m\u001b[38;5;124m\"\u001b[39m)\n",
      "\u001b[0;31mZeroDivisionError\u001b[0m: division by zero"
     ]
    }
   ],
   "source": [
    "# Q2 example\n",
    "\n",
    "print('print statement before division by zero')\n",
    "\n",
    "a = 1000/0\n",
    "\n",
    "print(\"print after the division by zero\")"
   ]
  },
  {
   "cell_type": "markdown",
   "id": "7ca27cdc-213a-4df6-a917-5a64e94a2134",
   "metadata": {},
   "source": [
    "### Q3. Which python statements used to catch and handle exceptions? Explain with example.\n",
    "\n",
    "> try statement used to catch the excaption and except statement is used to handle the exception."
   ]
  },
  {
   "cell_type": "code",
   "execution_count": 1,
   "id": "bd8ba903-de4a-44cb-b1c1-f5fbe2cd9f01",
   "metadata": {},
   "outputs": [
    {
     "name": "stdout",
     "output_type": "stream",
     "text": [
      "Error caught in the try block: division by zero\n"
     ]
    }
   ],
   "source": [
    "# Q3 example\n",
    "\n",
    "try:\n",
    "    a = 100/0\n",
    "\n",
    "except Exception as e:\n",
    "    print('Error caught in the try block:', e)"
   ]
  },
  {
   "cell_type": "markdown",
   "id": "9068d326-f031-46a2-b26c-145004a99a98",
   "metadata": {},
   "source": [
    "### Q4: Explain with example:\n",
    "\n",
    "> a. try and else\n",
    "> b. finally\n",
    "> c. raise"
   ]
  },
  {
   "cell_type": "code",
   "execution_count": 7,
   "id": "03f578fe-2e98-4aa9-8165-50186dfa16c4",
   "metadata": {},
   "outputs": [
    {
     "name": "stdout",
     "output_type": "stream",
     "text": [
      "2nd element in the list1:  maskarul\n",
      "code in the try block ran fine without error and required index is found in the list\n"
     ]
    }
   ],
   "source": [
    "# try and else\n",
    "\n",
    "try:\n",
    "    list1 = [1.456,684,6530,'maskarul',83985]\n",
    "    print(\"2nd element in the list1: \" , list1[3])\n",
    "except Exception as e:\n",
    "    print(\"Error occured in the try block as follows\\n\", e)\n",
    "else:\n",
    "    print(\"code in the try block ran fine without error and required index is found in the list\")\n",
    "    "
   ]
  },
  {
   "cell_type": "code",
   "execution_count": 9,
   "id": "f4cb7e1b-23e8-4c2a-96be-c52a11229dbc",
   "metadata": {},
   "outputs": [
    {
     "name": "stdout",
     "output_type": "stream",
     "text": [
      "Error occured in the try block as follows\n",
      " list index out of range\n",
      "This code runs no matter there is exception or not in try block\n"
     ]
    }
   ],
   "source": [
    "# finally\n",
    "\n",
    "# try and else\n",
    "\n",
    "try:\n",
    "    list1 = [1.456,684,6530,'maskarul',83985]\n",
    "    print(\"23rd element in the list1: \" , list1[23])\n",
    "    \n",
    "except Exception as e:\n",
    "    print(\"Error occured in the try block as follows\\n\", e)\n",
    "    \n",
    "else:\n",
    "    print(\"code in the try block ran fine without error and required index is found in the list\")\n",
    "\n",
    "finally:\n",
    "    print(\"This code runs no matter there is exception or not in try block\")"
   ]
  },
  {
   "cell_type": "code",
   "execution_count": 10,
   "id": "d88bb20f-7655-4736-88b8-2551e421cc11",
   "metadata": {},
   "outputs": [
    {
     "name": "stdout",
     "output_type": "stream",
     "text": [
      "This code runs no matter there is exception or not in try block\n"
     ]
    },
    {
     "ename": "IndexError",
     "evalue": "list index out of range",
     "output_type": "error",
     "traceback": [
      "\u001b[0;31m---------------------------------------------------------------------------\u001b[0m",
      "\u001b[0;31mIndexError\u001b[0m                                Traceback (most recent call last)",
      "Cell \u001b[0;32mIn[10], line 5\u001b[0m\n\u001b[1;32m      3\u001b[0m \u001b[38;5;28;01mtry\u001b[39;00m:\n\u001b[1;32m      4\u001b[0m     list1 \u001b[38;5;241m=\u001b[39m [\u001b[38;5;241m1.456\u001b[39m,\u001b[38;5;241m684\u001b[39m,\u001b[38;5;241m6530\u001b[39m,\u001b[38;5;124m'\u001b[39m\u001b[38;5;124mmaskarul\u001b[39m\u001b[38;5;124m'\u001b[39m,\u001b[38;5;241m83985\u001b[39m]\n\u001b[0;32m----> 5\u001b[0m     \u001b[38;5;28mprint\u001b[39m(\u001b[38;5;124m\"\u001b[39m\u001b[38;5;124m23rd element in the list1: \u001b[39m\u001b[38;5;124m\"\u001b[39m , \u001b[43mlist1\u001b[49m\u001b[43m[\u001b[49m\u001b[38;5;241;43m23\u001b[39;49m\u001b[43m]\u001b[49m)\n\u001b[1;32m      8\u001b[0m \u001b[38;5;28;01mfinally\u001b[39;00m:\n\u001b[1;32m      9\u001b[0m     \u001b[38;5;28mprint\u001b[39m(\u001b[38;5;124m\"\u001b[39m\u001b[38;5;124mThis code runs no matter there is exception or not in try block\u001b[39m\u001b[38;5;124m\"\u001b[39m)\n",
      "\u001b[0;31mIndexError\u001b[0m: list index out of range"
     ]
    }
   ],
   "source": [
    "# finally without except block and you can see the code in the finally block always executes\n",
    "\n",
    "try:\n",
    "    list1 = [1.456,684,6530,'maskarul',83985]\n",
    "    print(\"23rd element in the list1: \" , list1[23])\n",
    "\n",
    "\n",
    "finally:\n",
    "    print(\"This code runs no matter there is exception or not in try block\")\n",
    "\n"
   ]
  },
  {
   "cell_type": "code",
   "execution_count": 3,
   "id": "49a4d6bc-0545-4603-bd2c-b15e51c688ae",
   "metadata": {},
   "outputs": [
    {
     "name": "stdin",
     "output_type": "stream",
     "text": [
      "Enter the index of the element you want from lst1: -4\n"
     ]
    },
    {
     "name": "stdout",
     "output_type": "stream",
     "text": [
      "Index can not be less than Zero\n"
     ]
    }
   ],
   "source": [
    "# raise\n",
    "\n",
    "class validate(Exception):\n",
    "    def __init__(self, msg):\n",
    "        self.msg = msg\n",
    "        \n",
    "def validate_index(ind):\n",
    "    if ind<0:\n",
    "        raise validate(\"Index can not be less than Zero\")\n",
    "    elif ind>len(lst1):\n",
    "        raise validate(\"Please give valid Index number which is less than {}\".format(len(lst1)))\n",
    "    else:\n",
    "        print(\"The {}th element of lst1 is: {}\".format(ind,lst1[ind]))\n",
    "        \n",
    "\n",
    "lst1 = [2324,373456,249274,214708249,470824.826297,4635135,'dvsgrerv',6484631,'wgrvwdfefw']\n",
    "\n",
    "try:\n",
    "    index = int(input(\"Enter the index of the element you want from lst1:\"))\n",
    "    \n",
    "    validate_index(index)\n",
    "\n",
    "except validate as v:\n",
    "    print(v)"
   ]
  },
  {
   "cell_type": "markdown",
   "id": "764694f2-4149-45fc-80ee-99fbfcf8578a",
   "metadata": {},
   "source": [
    "### Q5. What is custom exceptions in python? Why do we need customer exceptions? Explain with examples.\n",
    "\n",
    "> A custom exception is an exception that is defined by the user. It is used when the built-in exceptions are not sufficient to handle a particular scenario in a program. Custom exceptions are created by subclassing the built-in Exception class or any of its subclasses. By creating a custom exception, you can define your own error message and customize the exception handling.\n",
    "\n",
    "> Custom exceptions are useful in situations where you want to handle specific errors in a program. For example, suppose you are writing a program that reads data from a file. If the file does not exist, Python will raise a FileNotFoundError exception. However, you may want to handle this exception differently than the way it is handled by default. In such cases, you can create a custom exception that is specific to your program and handle it accordingly."
   ]
  },
  {
   "cell_type": "code",
   "execution_count": 17,
   "id": "7e1183bb-9db4-49fe-911f-a829031bda53",
   "metadata": {},
   "outputs": [
    {
     "name": "stdout",
     "output_type": "stream",
     "text": [
      "'text2.txt' is not present in the current directory. Please enter a different or a correct file name\n"
     ]
    }
   ],
   "source": [
    "import os\n",
    "\n",
    "class validate(Exception):\n",
    "    def __init__(self, msg):\n",
    "        self.msg = msg\n",
    "        \n",
    "def validate_file(filename):\n",
    "    if not os.path.isfile(filename):\n",
    "        raise validate(\"'{}' is not present in the current directory. Please enter a different or a correct file name\".format(filename))\n",
    "    else:\n",
    "        with open(filename, 'r') as f:\n",
    "            print(f.read())\n",
    "try:\n",
    "    validate_file('text2.txt')\n",
    "    \n",
    "except validate as v:\n",
    "    print(v)\n",
    "    "
   ]
  },
  {
   "cell_type": "markdown",
   "id": "07345e68-75f5-4b97-92ff-358777f8abb1",
   "metadata": {},
   "source": [
    "### Q6. Create a custom exception class. Use this class to handle an exception."
   ]
  },
  {
   "cell_type": "code",
   "execution_count": 18,
   "id": "3c796384-6976-4e90-a9c7-ced5c7bfb9a1",
   "metadata": {},
   "outputs": [
    {
     "name": "stdin",
     "output_type": "stream",
     "text": [
      "Enter a number:  23\n"
     ]
    },
    {
     "name": "stdout",
     "output_type": "stream",
     "text": [
      "Eligible to Vote\n"
     ]
    }
   ],
   "source": [
    "# define Python user-defined exceptions\n",
    "class InvalidAgeException(Exception):\n",
    "    \"Raised when the input value is less than 18\"\n",
    "    pass\n",
    "\n",
    "# you need to guess this number\n",
    "number = 18\n",
    "\n",
    "try:\n",
    "    input_num = int(input(\"Enter a number: \"))\n",
    "    if input_num < number:\n",
    "        raise InvalidAgeException\n",
    "    else:\n",
    "        print(\"Eligible to Vote\")\n",
    "        \n",
    "except InvalidAgeException:\n",
    "    print(\"Exception occurred: Invalid Age\")"
   ]
  }
 ],
 "metadata": {
  "kernelspec": {
   "display_name": "Python 3 (ipykernel)",
   "language": "python",
   "name": "python3"
  },
  "language_info": {
   "codemirror_mode": {
    "name": "ipython",
    "version": 3
   },
   "file_extension": ".py",
   "mimetype": "text/x-python",
   "name": "python",
   "nbconvert_exporter": "python",
   "pygments_lexer": "ipython3",
   "version": "3.10.8"
  }
 },
 "nbformat": 4,
 "nbformat_minor": 5
}
