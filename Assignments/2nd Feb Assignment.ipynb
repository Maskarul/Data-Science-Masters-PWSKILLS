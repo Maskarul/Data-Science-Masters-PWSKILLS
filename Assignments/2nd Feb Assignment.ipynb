{
 "cells": [
  {
   "cell_type": "markdown",
   "id": "c91e2d43-b4ce-4dcc-8985-ea396e1a659b",
   "metadata": {},
   "source": [
    "# 2nd Feb Assignment"
   ]
  },
  {
   "cell_type": "markdown",
   "id": "9a65f63b-b2de-4292-9731-d131b88af4aa",
   "metadata": {},
   "source": [
    "#### Q1. What are the characteristics of the tuples? Is tuple immutable?\n",
    "\n",
    ">  1. Ordered collection of objects placed under parenthesis. \n",
    ">  2. Can hold duplicate items.\n",
    ">  3. Immutable. Items under tuple can not be changed. But, if an item of the tuple is an mutable object, like a list, the list's item can be changed.\n",
    "\n",
    "\n",
    "> Yes, tuple is immutable. "
   ]
  },
  {
   "cell_type": "markdown",
   "id": "97509890-22ea-4b4d-b7fb-d0600e5055c0",
   "metadata": {},
   "source": [
    "#### Q2. What are the two tuple methods in python? Give an example of each method. Give a reason why tuples have only two in-built methods as compared to Lists.\n",
    "\n",
    "> 1. index() - returns the index of the first occurrence of a specified element if pesent in the tuple.\n",
    "> 2. count() - returns the number of times the specified element appears in the tuple.\n",
    "\n",
    "\n",
    "> As tuples are immutable, that's why less build-in methods.\n",
    "\n"
   ]
  },
  {
   "cell_type": "code",
   "execution_count": 3,
   "id": "25b74204-af81-4628-b417-e7fdf44ea023",
   "metadata": {},
   "outputs": [
    {
     "name": "stdout",
     "output_type": "stream",
     "text": [
      "First occurance of 5 in tup1 is at 10th position\n",
      "'5' occured 4 times inside 'tup1' tuple\n"
     ]
    }
   ],
   "source": [
    "# example on index() & count()\n",
    "\n",
    "tup1 = (1,2,3,4,1,1,2,33,45.55,1,5,65,5,8,5,7,5)\n",
    "\n",
    "index5 = tup1.index(5)\n",
    "count5 = tup1.count(5)\n",
    "\n",
    "print(\"First occurance of 5 in tup1 is at {}th position\".format(index5))\n",
    "print(\"'5' occured {} times inside 'tup1' tuple\".format(count5))"
   ]
  },
  {
   "cell_type": "markdown",
   "id": "553d747c-de19-458c-9ed2-a348320440cd",
   "metadata": {},
   "source": [
    "#### Q3. Which collection datatypes in python do not allow duplicate items? Write a code using a set to remove duplicates from the given list. \n",
    "\n",
    "List = [1, 1, 1, 2, 1, 3, 1, 4, 2, 1, 2, 2, 2, 3, 2, 4, 3, 1, 3, 2, 3, 3, 3, 4, 4, 1, 4, 2, 4, 3, 4, 4]\n",
    "\n",
    "> 'set' in python does not allow duplicate item in it. \n"
   ]
  },
  {
   "cell_type": "code",
   "execution_count": 1,
   "id": "38728169-6fa5-467c-93cb-82554eab29f9",
   "metadata": {},
   "outputs": [
    {
     "name": "stdout",
     "output_type": "stream",
     "text": [
      "{1, 2, 3, 4}\n"
     ]
    }
   ],
   "source": [
    "List = [1, 1, 1, 2, 1, 3, 1, 4, 2, 1, 2, 2, 2, 3, 2, 4, 3, 1, 3, 2, 3, 3, 3, 4, 4, 1, 4, 2, 4, 3, 4, 4]\n",
    "\n",
    "set1 = set(List)\n",
    "\n",
    "print(set1)"
   ]
  },
  {
   "cell_type": "markdown",
   "id": "47a53385-c69e-44a4-8548-d26953dc5bdc",
   "metadata": {},
   "source": [
    "#### Q4. Explain the difference between the union() and update() methods for a set. Give an example of each method.\n",
    "\n",
    "> union() method basically returns a copy of the newly created set after the operation. It does not changes the existing set which called the method. But, update() method changes the set in-place which calls the method. "
   ]
  },
  {
   "cell_type": "code",
   "execution_count": 2,
   "id": "9dc00977-cc35-4e5f-9946-17651a1527ed",
   "metadata": {},
   "outputs": [
    {
     "name": "stdout",
     "output_type": "stream",
     "text": [
      "'set1' after the union operation?  {1, 12.01, 3865, 14}\n",
      "'set1' after the update operation?  {1, 'PWSKILLS', 3865, 12.01, 14}\n"
     ]
    }
   ],
   "source": [
    "# example on union() & update() method.\n",
    "\n",
    "set1 = {1,12.01,14,3865}\n",
    "set2 = {'PWSKILLS'}\n",
    "\n",
    "set3 = set1.union(set2)\n",
    "\n",
    "print(\"'set1' after the union operation? \", set1)\n",
    "\n",
    "set1.update(set2)\n",
    "\n",
    "print(\"'set1' after the update operation? \", set1)"
   ]
  },
  {
   "cell_type": "markdown",
   "id": "d05d10fe-6f4b-404b-bdd2-2b44e8e3f9cc",
   "metadata": {},
   "source": [
    "#### Q5. What is a dictionary? Give an example. Also, state whether a dictionary is ordered or unordered.\n",
    "\n",
    "> A data structure consist of a collection of key-value pair where each value associated with a key through which it can be accessed. Each key separated by ':' with it's corresponding value and the collection with be enclosed with '{}' curly braces. \n",
    "\n",
    "> Dictionary is an ordered collection but, the 'value' inside it will be accessed by the corresponding 'key' rather than indexes.\n",
    "\n"
   ]
  },
  {
   "cell_type": "code",
   "execution_count": 9,
   "id": "e29c77cd-d82a-463c-bc56-2d32698c0a68",
   "metadata": {},
   "outputs": [
    {
     "name": "stdout",
     "output_type": "stream",
     "text": [
      "{'Name': 'Maskarul', 'Age': 30, 'Profession': 'Engineer', 'Hobby': 'Photography'}\n"
     ]
    }
   ],
   "source": [
    "my_dict = {'Name':'Maskarul','Age':30,'Profession':'Engineer','Hobby':'Photography'}\n",
    "\n",
    "print(my_dict)"
   ]
  },
  {
   "cell_type": "markdown",
   "id": "ba1a8154-3257-4077-b4cf-ea0a783ca278",
   "metadata": {},
   "source": [
    "#### Q6. Can we create a nested dictionary? If so, please give an example by creating a simple one-level nested dictionary.\n",
    "\n",
    "> Yes, nested dictionary is possible. Example below."
   ]
  },
  {
   "cell_type": "code",
   "execution_count": 12,
   "id": "b6e21116-1a2b-4a54-96e4-4eea0edc4753",
   "metadata": {},
   "outputs": [
    {
     "name": "stdout",
     "output_type": "stream",
     "text": [
      "{'a': 1, 'b': 2, 'c': 3, 'd': {'A': 1.1, 'B': 2.2, 'C': 3.3}}\n"
     ]
    }
   ],
   "source": [
    "# example of a nested dictionary where key 'd' inside the my_dict1 dictionary holds a value which is a\n",
    "# dictionay itself.\n",
    "\n",
    "my_dict1 = {'a': 1, 'b': 2, 'c': 3, 'd': {'A':1.1, 'B': 2.2, 'C': 3.3}}\n",
    "\n",
    "print(my_dict1)"
   ]
  },
  {
   "cell_type": "markdown",
   "id": "b66d992b-155d-4d1c-b7f3-a43c0baeae4b",
   "metadata": {},
   "source": [
    "#### Q7. Using setdefault() method, create key named topics in the given dictionary and also add the value of the key as this list ['Python', 'Machine Learning’, 'Deep Learning']\n",
    "\n",
    "##### dict1 = {'language' : 'Python', 'course': 'Data Science Masters'}"
   ]
  },
  {
   "cell_type": "code",
   "execution_count": 6,
   "id": "5d4cb4a7-caf3-44f1-a1c4-574dbcc4bb58",
   "metadata": {},
   "outputs": [
    {
     "name": "stdout",
     "output_type": "stream",
     "text": [
      "{'language': 'Python', 'course': 'Data Science Masters', ' ': 'Python', 'field': 'Machine Learning', 'topic': 'Deep Learning'}\n"
     ]
    }
   ],
   "source": [
    "list1 = ['Python', 'Machine Learning', 'Deep Learning']\n",
    "dict1 = {'language' : 'Python', 'course': 'Data Science Masters'}\n",
    "\n",
    "for i in list1:\n",
    "    if i == 'Machine Learning':\n",
    "        return_val = dict1.setdefault('field',i)\n",
    "    elif i == 'Deep Learning':\n",
    "        return_val = dict1.setdefault('topic',i)\n",
    "    else:\n",
    "        return_val = dict1.setdefault(' ',i)\n",
    "        \n",
    "print(dict1)"
   ]
  },
  {
   "cell_type": "markdown",
   "id": "946beb57-c5d8-4df6-ac6f-e46c3095de9b",
   "metadata": {},
   "source": [
    "#### Q8. What are the three view objects in dictionaries? Use the three in-built methods in python to display these three view objects for the given dictionary.\n",
    "\n",
    "##### dict1 = {'Sport': 'Cricket' , 'Teams': ['India', 'Australia', 'England', 'South Africa', 'Sri Lanka', 'New Zealand']}\n",
    "\n",
    "> The objects returned by keys(), values() and items() methods are view objects. They provide a dynamic view on the dictionary’s entries, which means that when the dictionary changes, he view reflects these changes."
   ]
  },
  {
   "cell_type": "code",
   "execution_count": 9,
   "id": "5f2d869a-e7b7-4db8-8f8d-22d417b70407",
   "metadata": {},
   "outputs": [
    {
     "name": "stdout",
     "output_type": "stream",
     "text": [
      "Keys of the 'dict1' dictionary:  dict_keys(['Sport', 'Teams'])\n",
      "Values of the 'dict1' dictionary:  dict_values(['Cricket', ['India', 'Australia', 'England', 'South Africa', 'Sri Lanka', 'New Zealand']])\n",
      "Key-Value pairs of the 'dict1' dictionary:  dict_items([('Sport', 'Cricket'), ('Teams', ['India', 'Australia', 'England', 'South Africa', 'Sri Lanka', 'New Zealand'])])\n"
     ]
    }
   ],
   "source": [
    "dict1 = {'Sport': 'Cricket' , 'Teams': ['India', 'Australia', 'England', 'South Africa', 'Sri Lanka', 'New Zealand']}\n",
    "\n",
    "d_keys = dict1.keys()\n",
    "d_values = dict1.values()\n",
    "d_items = dict1.items()\n",
    "\n",
    "print(\"Keys of the 'dict1' dictionary: \",d_keys)\n",
    "print(\"Values of the 'dict1' dictionary: \",d_values)\n",
    "print(\"Key-Value pairs of the 'dict1' dictionary: \",d_items)"
   ]
  },
  {
   "cell_type": "code",
   "execution_count": null,
   "id": "68a5e890-50bb-4985-a65a-002298687e5f",
   "metadata": {},
   "outputs": [],
   "source": []
  }
 ],
 "metadata": {
  "kernelspec": {
   "display_name": "Python 3 (ipykernel)",
   "language": "python",
   "name": "python3"
  },
  "language_info": {
   "codemirror_mode": {
    "name": "ipython",
    "version": 3
   },
   "file_extension": ".py",
   "mimetype": "text/x-python",
   "name": "python",
   "nbconvert_exporter": "python",
   "pygments_lexer": "ipython3",
   "version": "3.10.8"
  }
 },
 "nbformat": 4,
 "nbformat_minor": 5
}
